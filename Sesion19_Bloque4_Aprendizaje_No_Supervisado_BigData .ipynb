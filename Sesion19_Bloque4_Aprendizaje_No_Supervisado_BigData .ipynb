{
  "cells": [
    {
      "cell_type": "markdown",
      "id": "496631ea",
      "metadata": {
        "id": "496631ea"
      },
      "source": [
        "# Módulo 1: Análisis de datos en el ecosistema Python"
      ]
    },
    {
      "cell_type": "markdown",
      "id": "3a14cd3f",
      "metadata": {
        "id": "3a14cd3f"
      },
      "source": [
        "### Sesión (19)"
      ]
    },
    {
      "cell_type": "markdown",
      "id": "5e06d26c",
      "metadata": {
        "id": "5e06d26c"
      },
      "source": [
        "# 1. Aprendizaje de máquina (automático):   **Machine Learning**"
      ]
    },
    {
      "cell_type": "markdown",
      "id": "3bbe23bf",
      "metadata": {
        "id": "3bbe23bf"
      },
      "source": [
        "El **aprendizaje automático** es una rama de la **inteligencia artificial** basada en el concepto de que las máquinas pueden aprender de datos, detectar patrones y tomar decisiones casi sin la intervención humana. El **machine learning** es un método de tratamiento y análisis de datos que **automatiza** la creación de **modelos analíticos**."
      ]
    },
    {
      "cell_type": "markdown",
      "id": "415fc447",
      "metadata": {
        "id": "415fc447"
      },
      "source": [
        "![machine-learning-types.jpg](attachment:machine-learning-types.jpg)"
      ]
    },
    {
      "cell_type": "markdown",
      "id": "30cb131e",
      "metadata": {
        "id": "30cb131e"
      },
      "source": [
        "## 1.1  Aprendizaje supervisado\n",
        "\n",
        "Este algoritmo consta de una **variable objetivo** (variable dependiente) que se va a predecir a partir de un conjunto dado de **predictores** (variables independientes).\n",
        "\n",
        "Usando este conjunto de variables, generamos una función que asigna entradas a salidas. El proceso de aprendizaje de este tipo de algoritmos continúa hasta que el modelo alcanza un nivel deseado de precisión tanto en los datos de entrenamiento (training) como en los conjuntos de datos de prueba (test)."
      ]
    },
    {
      "cell_type": "markdown",
      "id": "32ed40ec",
      "metadata": {
        "id": "32ed40ec"
      },
      "source": [
        "![regression-vs-classification-in-machine-learning.png](attachment:regression-vs-classification-in-machine-learning.png)"
      ]
    },
    {
      "cell_type": "markdown",
      "id": "efe4c889",
      "metadata": {
        "id": "efe4c889"
      },
      "source": [
        "* ### Clasificación:\n",
        "    * el output tiene **etiquetas** predefinidas con valores **discretos**\n",
        "    * Usamos clasificación cuando la variable objetivo es **categórica** (grupos y clases)\n",
        "    * ***tipos de algoritmo de clasificación:***\n",
        "        * Logistic Regression (variables binarias)\n",
        "        * Decision Tree (árbol de decisión)\n",
        "        * Random Forest (conjunto de árboles de decisión)\n",
        "        * Naive Bayes Clasificador\n",
        "        * SVM (Support Vector Machines)\n",
        "        * ANN (Artificial Neural Networks)\n",
        "* ### Regresión:\n",
        "    * Usamos regresión cuando la variable output es un valor **numérico continuo**.\n",
        "    * ***tipos de alrgotimo de regresión:***\n",
        "        * Regresión Lineal ( simple con una variable independiente o múltiple con varios output)\n",
        "        * Polinomial\n",
        "        * Ridge, Lasso, ElasticNet (cuando las variables independientes están altamente correlacionadas)\n",
        "        * Decision Tree Regression\n",
        "        * Random Forest Regression\n",
        "        * Neural Network Regression\n",
        "      "
      ]
    },
    {
      "cell_type": "markdown",
      "id": "78fbc7f2",
      "metadata": {
        "id": "78fbc7f2"
      },
      "source": [
        "## 1.2. Aprendizaje no supervisado\n",
        "\n",
        "En este tipo de algoritmos, no tenemos **ningún objetivo o variable de resultado** para predecir/estimar. Se suele utilizar para **agrupar** la población en diferentes grupos, por ejemplo para segmentar a los clientes en diferentes grupos para una intervención específica."
      ]
    },
    {
      "cell_type": "markdown",
      "id": "cdb6c4b5",
      "metadata": {
        "id": "cdb6c4b5"
      },
      "source": [
        "![Examples-of-Supervised-Learning-Linear-Regression-and-Unsupervised-Learning_W640.jpg](attachment:Examples-of-Supervised-Learning-Linear-Regression-and-Unsupervised-Learning_W640.jpg)"
      ]
    },
    {
      "cell_type": "markdown",
      "id": "bc701fb1",
      "metadata": {
        "id": "bc701fb1"
      },
      "source": [
        "## 1.3. Aprendizaje por refuerzo\n",
        "\n",
        "Con este algoritmo, la máquina está entrenada para tomar decisiones específicas. Funciona de esta manera: la máquina está expuesta a un **entorno** en el que **entrena a sí misma** continuamente usando **prueba y error**. Esta máquina aprende de la experiencia pasada e intenta capturar el mejor conocimiento posible para las decisiones más precisas."
      ]
    },
    {
      "cell_type": "markdown",
      "id": "c66d07db",
      "metadata": {
        "id": "c66d07db"
      },
      "source": [
        "![aprendizaje-por-refuerzo-automatico-machine-learning-inteligencia-artificial.png](attachment:aprendizaje-por-refuerzo-automatico-machine-learning-inteligencia-artificial.png)"
      ]
    },
    {
      "cell_type": "markdown",
      "id": "e47691fa",
      "metadata": {
        "id": "e47691fa"
      },
      "source": [
        "## 1.4. Flujo del proceso modelado\n",
        "\n",
        "Los procesos que se realizan para desarrollar un modelo con las técnicas de machine learning tienen un **ciclo de vida** que describe las fases principales por las que normalmente psasn los proyectos de **Data Science** o análisis de datos:\n",
        " * **1. Definición del problema**\n",
        "     * Visión de negocio\n",
        "     * Análisis preliminar\n",
        " * **2. Obtención de datos**\n",
        "     * Fuentes de datos\n",
        "     * Conexiones y consultas a bases de datos\n",
        " * **3. Preparación y tratamiento de datos**\n",
        "     * Campos vacios (valores perdidos)\n",
        "     * Campos inválidos (valores negativos, fuera del rango permitido...)\n",
        "     * Outliers (valores atípicos)\n",
        "     * Datos catégoricos (campos no numéricos)\n",
        "     * Datos multiescalas (normalización y estandarización de datos)\n",
        " * **4. Dividir los conjuntos de datos**\n",
        "     * Datos de entrenamiento (Training)\n",
        "     * Datos de prueba (Test)\n",
        " * **5. Constuir el modelo**\n",
        "     * Seleccionar el algoritmo adecuado\n",
        "     * Ajustar el modelo\n",
        "     * Optimizar los hiper-parametros\n",
        " * **6. Análisis de errores y reentrenamineto**\n",
        " * **7. Productivizar e integrar el modelo en el sistema**\n",
        " * **8. Monitorizar, mantener y mejorar el proceso**"
      ]
    },
    {
      "cell_type": "markdown",
      "id": "fc6e8aa5",
      "metadata": {
        "id": "fc6e8aa5"
      },
      "source": [
        "![Process-Flow2.png](attachment:Process-Flow2.png)"
      ]
    },
    {
      "cell_type": "markdown",
      "id": "2629d82f",
      "metadata": {
        "id": "2629d82f"
      },
      "source": [
        "---"
      ]
    },
    {
      "cell_type": "markdown",
      "id": "2e08fed2",
      "metadata": {
        "id": "2e08fed2"
      },
      "source": [
        "# 2. Clustering"
      ]
    },
    {
      "cell_type": "markdown",
      "id": "817b5c75",
      "metadata": {
        "id": "817b5c75"
      },
      "source": [
        "La agrupación o el **clustering** de datos se encuentra entre las aplicaciones más comunes del **aprendizaje no supervisado** que tiene como objetivo descubrir \"clusters\" o agrupamientos dentro de **datos no etiquetados**. Cada cluster idealmente contiene puntos de datos que sean **lo más similares posible entre sí** y tan **diferentes de los puntos de otros grupos**.\n",
        "\n",
        "La agrupación ayuda a encontrar **patrones presentes** en de los datos que pueden **no ser perceptibles para un observador humano**."
      ]
    },
    {
      "cell_type": "markdown",
      "id": "1d650f91",
      "metadata": {
        "id": "1d650f91"
      },
      "source": [
        "![UnsupervisedLearning.gif](attachment:UnsupervisedLearning.gif)"
      ]
    },
    {
      "cell_type": "markdown",
      "id": "f470cf4c",
      "metadata": {
        "id": "f470cf4c"
      },
      "source": [
        "***K-means*** es un algoritmo de aprendizaje automático no supervisado que se utiliza para agrupar datos en **un número K de grupos**, donde K es un número definido por el usuario. Este modelo divide los datos en K clústeres **en función de su similitud (cercanía en *n-dimensiones*)** y asigna cada punto de datos al centro de clúster más cercano.\n",
        "\n",
        "El algoritmo actualiza iterativamente los centros de los clústeres hasta la convergencia, donde **se minimiza la suma de las distancias entre los puntos de datos y su centro de clúster asignado**. K-means se usa frecuentemente en campos como **marketing** y la **segmentación del mercado**."
      ]
    },
    {
      "cell_type": "markdown",
      "id": "2044610a",
      "metadata": {
        "id": "2044610a"
      },
      "source": [
        "![0_ipBIcsy9jjvqEpbK.png](attachment:0_ipBIcsy9jjvqEpbK.png)"
      ]
    },
    {
      "cell_type": "markdown",
      "id": "b548334a",
      "metadata": {
        "id": "b548334a"
      },
      "source": [
        "- **Inicialización**: El primer paso es inicializar aleatoriamente K centros de conglomerados. El número de clústeres, K, es un parámetro definido por el usuario.\n",
        "\n",
        "- **Asignación**: cada punto de datos se asigna al centro de clúster más cercano en función de la distancia euclidiana (por defecto) entre el punto de datos y el centro de clúster.\n",
        "\n",
        "- **Recálculo de los centros de los conglomerados**: los centros de los clusters se vuelven a calcular como la media de todos los puntos de datos asignados a ese conglomerado.\n",
        "\n",
        "- **Reasignación**: los puntos de datos luego se reasignan al centro de clúster más cercano y **el proceso continúa hasta la convergencia**, donde los centros de clúster ya no cambian notablemente.\n",
        "\n",
        "- **Convergencia**: se considera que el algoritmo ha convergido cuando los centros del clúster ya no cambian o cuando el cambio es menor que un umbral definido por el usuario.\n",
        "\n",
        "***K-means*** es un algoritmo **rápido y eficiente**, pero puede ser sensible a los valores atípicos y es posible que no siempre produzca clústeres significativos."
      ]
    },
    {
      "cell_type": "markdown",
      "id": "77ac20a7",
      "metadata": {
        "id": "77ac20a7"
      },
      "source": [
        "![k4XcapI.gif](attachment:k4XcapI.gif)"
      ]
    },
    {
      "cell_type": "markdown",
      "id": "91b1db1d",
      "metadata": {
        "id": "91b1db1d"
      },
      "source": [
        "## Ejemplo agrupación - [Fisher’s Iris dataset](https://en.wikipedia.org/wiki/Iris_flower_data_set)"
      ]
    },
    {
      "cell_type": "markdown",
      "id": "09e90897",
      "metadata": {
        "id": "09e90897"
      },
      "source": [
        "![image.png](attachment:image.png)"
      ]
    },
    {
      "cell_type": "markdown",
      "id": "92938daf",
      "metadata": {
        "id": "92938daf"
      },
      "source": [
        "* El conjunto de datos de flores de Iris  es un conjunto de datos multivariante introducido por el estadístico y biólogo británico **Ronald Fisher**\n",
        "* El conjunto de datos consta de **50 muestras** de cada una de **las tres especies de Iris**:\n",
        "    * Iris **setosa**\n",
        "    * Iris **virginica**\n",
        "    * Iris **versicolor**\n",
        "* Se midieron cuatro características de cada muestra:\n",
        "    * el **largo** de los **sépalos**, en centímetros.\n",
        "    * el **ancho** de los **sépalos**, en centímetros.\n",
        "    * el **largo** de los **pétalos**, en centímetros.\n",
        "    * el **ancho** de los **pétalos**, en centímetros.\n",
        "* Basado en la combinación de estas cuatro características, Fisher desarrolló un modelo discriminante lineal para **distinguir las especies** entre sí.    "
      ]
    },
    {
      "cell_type": "code",
      "execution_count": null,
      "id": "12bb3b16",
      "metadata": {
        "id": "12bb3b16"
      },
      "outputs": [],
      "source": [
        "# importamos las librerías necesarias\n",
        "import pandas as pd\n",
        "import seaborn as sns\n",
        "import matplotlib.pyplot as plt\n",
        "import numpy as np\n",
        "%matplotlib inline"
      ]
    },
    {
      "cell_type": "code",
      "execution_count": null,
      "id": "2ac9270b",
      "metadata": {
        "id": "2ac9270b"
      },
      "outputs": [],
      "source": [
        "# Modificamos los parámetros de los gráficos en matplotlib\n",
        "from matplotlib.pyplot import rcParams\n",
        "\n",
        "rcParams['figure.figsize'] = 12, 6 # el primer dígito es el ancho y el segundo el alto\n",
        "rcParams[\"font.weight\"] = \"bold\"\n",
        "rcParams[\"font.size\"] = 10\n",
        "rcParams[\"axes.labelweight\"] = \"bold\""
      ]
    },
    {
      "cell_type": "markdown",
      "id": "88855ca1",
      "metadata": {
        "id": "88855ca1"
      },
      "source": [
        "Importamos los datos del ejemplo Fisher’s Iris data set"
      ]
    },
    {
      "cell_type": "code",
      "execution_count": null,
      "id": "d4b8984c",
      "metadata": {
        "id": "d4b8984c"
      },
      "outputs": [],
      "source": [
        "from sklearn.datasets import load_iris\n",
        "\n",
        "# Construimos un dataframe con los datos medidos\n",
        "dataset = pd.DataFrame(load_iris()[\"data\"],columns=load_iris()[\"feature_names\"])\n",
        "\n",
        "# Añadimos la especie como etiqueta\n",
        "dataset[\"label\"] = load_iris()[\"target_names\"][load_iris()[\"target\"]]\n",
        "\n",
        "dataset"
      ]
    },
    {
      "cell_type": "code",
      "execution_count": null,
      "id": "1752df05",
      "metadata": {
        "id": "1752df05"
      },
      "outputs": [],
      "source": [
        "# La información útil sobre los datos guardados en formato DataFrame\n",
        "dataset.info()"
      ]
    },
    {
      "cell_type": "code",
      "execution_count": null,
      "id": "5a769f3e",
      "metadata": {
        "scrolled": true,
        "id": "5a769f3e"
      },
      "outputs": [],
      "source": [
        "# Extraer las estadísticas principales de los datos numéricos\n",
        "dataset.describe()"
      ]
    },
    {
      "cell_type": "markdown",
      "id": "5cc37c4f",
      "metadata": {
        "id": "5cc37c4f"
      },
      "source": [
        "Para hacernos una idea de como están distribuidos los datos podemos visualizarlos usando **Pairplot** como ya vimos en las sesiónes anteriores. *Pairplot* representa sobre todo **la relación entre los pares de variables del dataset**, además de la distribución de cada variable."
      ]
    },
    {
      "cell_type": "code",
      "execution_count": null,
      "id": "8997558b",
      "metadata": {
        "id": "8997558b"
      },
      "outputs": [],
      "source": [
        "sns.pairplot(dataset, hue=\"label\", height=3)\n",
        "plt.show()"
      ]
    },
    {
      "cell_type": "markdown",
      "id": "b5bbbd4f",
      "metadata": {
        "id": "b5bbbd4f"
      },
      "source": [
        "### Tratamiento y filtrado de datos"
      ]
    },
    {
      "cell_type": "code",
      "execution_count": null,
      "id": "27ff8b33",
      "metadata": {
        "id": "27ff8b33"
      },
      "outputs": [],
      "source": [
        "# Conteo de valores perdidos/faltantes\n",
        "dataset.isna().sum()"
      ]
    },
    {
      "cell_type": "markdown",
      "id": "a3f68592",
      "metadata": {
        "id": "a3f68592"
      },
      "source": [
        "Procedemos a tratar los datos numéricos del dataset:"
      ]
    },
    {
      "cell_type": "code",
      "execution_count": null,
      "id": "7460f5a6",
      "metadata": {
        "id": "7460f5a6"
      },
      "outputs": [],
      "source": [
        "# Quedarnos solamente con las columnas numéricas\n",
        "dataset_num = dataset.drop(\"label\", axis=1)\n",
        "dataset_num"
      ]
    },
    {
      "cell_type": "markdown",
      "id": "183592cb",
      "metadata": {
        "id": "183592cb"
      },
      "source": [
        "### Normalizar los datos\n",
        "Por normalizar nos referimos a **poner los datos en una escala similar** como de `[0,1]`, que es un caso especial de la escalación llamado **“min-max”**, o por ejemplo homogeneizar las variables eliminando la media y escalando a la varianza de unidad como en el método ***StandardScaler***:"
      ]
    },
    {
      "cell_type": "markdown",
      "id": "f0effbef",
      "metadata": {
        "id": "f0effbef"
      },
      "source": [
        "![normalizar.png](attachment:normalizar.png)"
      ]
    },
    {
      "cell_type": "code",
      "execution_count": null,
      "id": "495e58ac",
      "metadata": {
        "id": "495e58ac"
      },
      "outputs": [],
      "source": [
        "# importar los objetos necesarios de la librería sklearn\n",
        "from sklearn.preprocessing import StandardScaler\n",
        "\n",
        "# declarar el tipo de escalamiento y aplicarlo al conjunto de datos\n",
        "escalado = StandardScaler().fit(dataset_num)\n",
        "dataset_normal = escalado.transform(dataset_num)"
      ]
    },
    {
      "cell_type": "code",
      "execution_count": null,
      "id": "81e5901a",
      "metadata": {
        "id": "81e5901a"
      },
      "outputs": [],
      "source": [
        "# El dataset original sigue como antes\n",
        "dataset_num"
      ]
    },
    {
      "cell_type": "code",
      "execution_count": null,
      "id": "abe8f304",
      "metadata": {
        "scrolled": true,
        "id": "abe8f304"
      },
      "outputs": [],
      "source": [
        "# Datos normalizados\n",
        "print(type(dataset_normal))\n",
        "print(dataset_normal.shape)\n",
        "print(dataset_normal.ndim)\n",
        "\n",
        "dataset_normal"
      ]
    },
    {
      "cell_type": "code",
      "execution_count": null,
      "id": "0bfc81c2",
      "metadata": {
        "id": "0bfc81c2"
      },
      "outputs": [],
      "source": [
        "# Lo convertimos en un DataFrame, añadiendole sus etiquetas\n",
        "df_normal = pd.DataFrame(dataset_normal, columns=dataset_num.columns)\n",
        "print(type(df_normal))\n",
        "df_normal"
      ]
    },
    {
      "cell_type": "code",
      "execution_count": null,
      "id": "d741d051",
      "metadata": {
        "id": "d741d051"
      },
      "outputs": [],
      "source": [
        "# Verificar las características de los valores estandarizados\n",
        "display(dataset.describe().round(4))\n",
        "display(df_normal.describe().round(4))"
      ]
    },
    {
      "cell_type": "markdown",
      "id": "7106b556",
      "metadata": {
        "id": "7106b556"
      },
      "source": [
        "Como se puede observar al estandarizar los datos se centralizan para todas las variables"
      ]
    },
    {
      "cell_type": "code",
      "execution_count": null,
      "id": "78bb9b50",
      "metadata": {
        "id": "78bb9b50"
      },
      "outputs": [],
      "source": [
        "# Graficar la distribución de los valores originales\n",
        "sns.violinplot(data=dataset, orient='v')\n",
        "plt.show()"
      ]
    },
    {
      "cell_type": "code",
      "execution_count": null,
      "id": "ee1dc80c",
      "metadata": {
        "id": "ee1dc80c"
      },
      "outputs": [],
      "source": [
        "# Graficar la distribución de los valores estandarizados\n",
        "sns.violinplot(data=df_normal,  orient='v')\n",
        "plt.show()"
      ]
    },
    {
      "cell_type": "code",
      "execution_count": null,
      "id": "138d2b6c",
      "metadata": {
        "id": "138d2b6c"
      },
      "outputs": [],
      "source": [
        "sns.scatterplot(x=df_normal['petal width (cm)'], y=df_normal['petal length (cm)'], hue=dataset['label'])\n",
        "plt.title(\"Datos normalizados (MinMaxScaler)\")\n",
        "plt.show()"
      ]
    },
    {
      "cell_type": "markdown",
      "id": "5b649640",
      "metadata": {
        "id": "5b649640"
      },
      "source": [
        "Procedemos a aplicar el algoritmo de **K-means clustering**:"
      ]
    },
    {
      "cell_type": "code",
      "execution_count": null,
      "id": "e2e315d5",
      "metadata": {
        "id": "e2e315d5"
      },
      "outputs": [],
      "source": [
        "from sklearn.cluster import KMeans\n",
        "\n",
        "mod_cluster = KMeans(n_clusters=3, random_state=100)\n",
        "\n",
        "mod_cluster.fit(df_normal)"
      ]
    },
    {
      "cell_type": "code",
      "execution_count": null,
      "id": "499cb320",
      "metadata": {
        "id": "499cb320"
      },
      "outputs": [],
      "source": [
        "y_km = mod_cluster.predict(df_normal)\n",
        "y_km"
      ]
    },
    {
      "cell_type": "code",
      "execution_count": null,
      "id": "95b0a498",
      "metadata": {
        "id": "95b0a498"
      },
      "outputs": [],
      "source": [
        "mod_cluster.labels_"
      ]
    },
    {
      "cell_type": "code",
      "execution_count": null,
      "id": "be4d00b5",
      "metadata": {
        "id": "be4d00b5"
      },
      "outputs": [],
      "source": [
        "dataset['label'].value_counts()"
      ]
    },
    {
      "cell_type": "code",
      "execution_count": null,
      "id": "d8c27bd0",
      "metadata": {
        "id": "d8c27bd0"
      },
      "outputs": [],
      "source": [
        "y_km_label = np.where(y_km==0, 'versicolor', np.where(y_km==1, 'setosa', 'virginica'))\n",
        "y_km_label = pd.Series(y_km_label, name='label')\n",
        "y_km_label"
      ]
    },
    {
      "cell_type": "code",
      "execution_count": null,
      "id": "8b271c8d",
      "metadata": {
        "id": "8b271c8d"
      },
      "outputs": [],
      "source": [
        "sns.scatterplot(x=df_normal['petal width (cm)'], y=df_normal['petal length (cm)'], hue=y_km_label, hue_order=['setosa', 'versicolor', 'virginica'])\n",
        "plt.title(\"Resutados de clustering\")\n",
        "plt.show()"
      ]
    },
    {
      "cell_type": "code",
      "execution_count": null,
      "id": "2126d589",
      "metadata": {
        "id": "2126d589"
      },
      "outputs": [],
      "source": [
        "fig, axes = plt.subplots(1,2, figsize=(20,7))\n",
        "\n",
        "sns.scatterplot(x=dataset_num['petal width (cm)'], y=dataset_num['petal length (cm)'], hue=dataset['label'], ax=axes[0])\n",
        "axes[0].set_title(\"Especies reales\")\n",
        "\n",
        "sns.scatterplot(x=df_normal['petal width (cm)'], y=df_normal['petal length (cm)'], hue=y_km_label, hue_order=['setosa', 'versicolor', 'virginica'], ax=axes[1])\n",
        "axes[1].set_title(\"Especies estimados\")\n",
        "\n",
        "plt.show()"
      ]
    },
    {
      "cell_type": "markdown",
      "id": "0f525b28",
      "metadata": {
        "id": "0f525b28"
      },
      "source": [
        "Vamos a investigar los puntos que se han etiquetado equivocadamente por el modelo:"
      ]
    },
    {
      "cell_type": "code",
      "execution_count": null,
      "id": "62cec113",
      "metadata": {
        "id": "62cec113"
      },
      "outputs": [],
      "source": [
        "print(dataset['label'])\n",
        "print(y_km_label)"
      ]
    },
    {
      "cell_type": "code",
      "execution_count": null,
      "id": "bf550ef0",
      "metadata": {
        "id": "bf550ef0"
      },
      "outputs": [],
      "source": [
        "diff_pos = [i for i in range(len(y_km_label)) if y_km_label[i]!=dataset['label'][i]]\n",
        "print(\"El modelo de clustering se ha euivocado en clasificar %s flores\" % len(diff_pos))\n",
        "print(\"El porcentage de acierto es {acc}%\".format(acc=(1-len(diff_pos)/len(y_km_label))*100))\n",
        "y_km_label[diff_pos]"
      ]
    },
    {
      "cell_type": "code",
      "execution_count": null,
      "id": "ceee934b",
      "metadata": {
        "id": "ceee934b"
      },
      "outputs": [],
      "source": [
        "sns.scatterplot(x=df_normal['petal width (cm)'], y=df_normal['petal length (cm)'], hue=y_km_label, hue_order=['setosa', 'versicolor', 'virginica'])\n",
        "sns.scatterplot(x=df_normal['petal width (cm)'][diff_pos], y=df_normal['petal length (cm)'][diff_pos], marker='o', color = \"red\", label=\"errores\")\n",
        "plt.title(\"Resutados de clustering\")\n",
        "plt.show()"
      ]
    },
    {
      "cell_type": "markdown",
      "id": "6778f26e",
      "metadata": {
        "id": "6778f26e"
      },
      "source": [
        "Ahora estudiamos los cluestres por sus centros"
      ]
    },
    {
      "cell_type": "code",
      "execution_count": null,
      "id": "a871cfdc",
      "metadata": {
        "id": "a871cfdc"
      },
      "outputs": [],
      "source": [
        "mod_cluster.__getstate__()"
      ]
    },
    {
      "cell_type": "code",
      "execution_count": null,
      "id": "771c2f63",
      "metadata": {
        "id": "771c2f63"
      },
      "outputs": [],
      "source": [
        "centros = mod_cluster.cluster_centers_\n",
        "centros"
      ]
    },
    {
      "cell_type": "code",
      "execution_count": null,
      "id": "e1f949b9",
      "metadata": {
        "id": "e1f949b9"
      },
      "outputs": [],
      "source": [
        "sns.scatterplot(x=df_normal['petal width (cm)'], y=df_normal['petal length (cm)'], hue=y_km_label, hue_order=['setosa', 'versicolor', 'virginica'])\n",
        "sns.scatterplot(x=centros[:, 3], y=centros[:, 2], color='black', s=120, label='centroides')\n",
        "plt.title(\"Resutados de clustering y los centros de cada grupo\")\n",
        "plt.show()"
      ]
    },
    {
      "cell_type": "markdown",
      "id": "1a02f6d6",
      "metadata": {
        "id": "1a02f6d6"
      },
      "source": [
        "Se puede observer que los fallos se encuentran en el borde de las dos especies de _versicolor_ y _virginica_"
      ]
    },
    {
      "cell_type": "code",
      "execution_count": null,
      "id": "96a62264",
      "metadata": {
        "id": "96a62264"
      },
      "outputs": [],
      "source": [
        "sns.scatterplot(x=df_normal['petal width (cm)'], y=df_normal['petal length (cm)'], hue=y_km_label, hue_order=['setosa', 'versicolor', 'virginica'])\n",
        "sns.scatterplot(x=df_normal['petal width (cm)'][diff_pos], y=df_normal['petal length (cm)'][diff_pos], marker='o', color = 'red', label='errores')\n",
        "sns.scatterplot(x=centros[:, 3], y=centros[:, 2], color='black', s=120, label='centroides')\n",
        "plt.title(\"Resutados de clustering y los centros de cada grupo\")\n",
        "plt.show()"
      ]
    },
    {
      "cell_type": "markdown",
      "id": "b28126d5",
      "metadata": {
        "id": "b28126d5"
      },
      "source": [
        "Ahora nos fijamos en el **silhouette score**"
      ]
    },
    {
      "cell_type": "code",
      "execution_count": null,
      "id": "1ba74244",
      "metadata": {
        "id": "1ba74244"
      },
      "outputs": [],
      "source": [
        "from sklearn.metrics import silhouette_score, silhouette_samples\n",
        "silhouette_score(df_normal, y_km_label)"
      ]
    },
    {
      "cell_type": "markdown",
      "id": "388ab90b",
      "metadata": {
        "id": "388ab90b"
      },
      "source": [
        "Vamos a analizar los valores individuales de coeficiente de **Silhoute**"
      ]
    },
    {
      "cell_type": "code",
      "execution_count": null,
      "id": "a4d652e0",
      "metadata": {
        "id": "a4d652e0"
      },
      "outputs": [],
      "source": [
        "silhouette_samples(df_normal, y_km_label)"
      ]
    },
    {
      "cell_type": "markdown",
      "id": "7eba75a3",
      "metadata": {
        "id": "7eba75a3"
      },
      "source": [
        "Consultamos las estadísticas a parte de la media:"
      ]
    },
    {
      "cell_type": "code",
      "execution_count": null,
      "id": "b6aeb6dd",
      "metadata": {
        "id": "b6aeb6dd"
      },
      "outputs": [],
      "source": [
        "sil_coef = silhouette_samples(df_normal, y_km_label)\n",
        "sil_coef = pd.Series(sil_coef)\n",
        "sil_coef.describe()"
      ]
    },
    {
      "cell_type": "code",
      "execution_count": null,
      "id": "1273104d",
      "metadata": {
        "id": "1273104d"
      },
      "outputs": [],
      "source": [
        "sil_coef.sort_values()[:4]"
      ]
    },
    {
      "cell_type": "markdown",
      "id": "9d7bfaa0",
      "metadata": {
        "id": "9d7bfaa0"
      },
      "source": [
        "Vamos a visualizar los puntos con menor valor de coeficiente _silhoute_ para ver dónde se encuantran estas observaciones. Procedemos a pintar los puntos que se encuentran en los **primeros 5% con valores más bajos** repecto a los demás datos."
      ]
    },
    {
      "cell_type": "code",
      "execution_count": null,
      "id": "fd1f6dcf",
      "metadata": {
        "id": "fd1f6dcf"
      },
      "outputs": [],
      "source": [
        "sns.scatterplot(x=df_normal['petal width (cm)'], y=df_normal['petal length (cm)'], hue=y_km_label, hue_order=['setosa', 'versicolor', 'virginica'])\n",
        "sns.scatterplot(x=df_normal['petal width (cm)'][sil_coef[sil_coef<np.quantile(sil_coef, 0.05)].index],\n",
        "                y=df_normal['petal length (cm)'][sil_coef[sil_coef<np.quantile(sil_coef, 0.05)].index],\n",
        "                marker='o', color = 'purple', label='sil_coef')\n",
        "sns.scatterplot(x=centros[:, 3], y=centros[:, 2], color='black', s=120, label='centroides')\n",
        "plt.title(\"Resutados de clustering y los centros de cada grupo\")\n",
        "plt.show()"
      ]
    },
    {
      "cell_type": "markdown",
      "id": "14b0e36f",
      "metadata": {
        "id": "14b0e36f"
      },
      "source": [
        "Ahora nos fijamos en puntos con el coeficiente de _silhoute_ en negativo. Los **valores negativos generalmente indican que una muestra se ha asignado al cluster equivocado**, y que la observación es **más similar o otro cluster** diferente."
      ]
    },
    {
      "cell_type": "code",
      "execution_count": null,
      "id": "391f04d9",
      "metadata": {
        "id": "391f04d9"
      },
      "outputs": [],
      "source": [
        "sns.scatterplot(x=df_normal['petal width (cm)'], y=df_normal['petal length (cm)'], hue=y_km_label, hue_order=['setosa', 'versicolor', 'virginica'])\n",
        "sns.scatterplot(x=df_normal['petal width (cm)'][sil_coef[sil_coef<0].index],\n",
        "                y=df_normal['petal length (cm)'][sil_coef[sil_coef<0].index],\n",
        "                marker='o', color = 'purple', label='sil_coef')\n",
        "sns.scatterplot(x=centros[:, 3], y=centros[:, 2], color='black', s=120, label='centroides')\n",
        "plt.title(\"Resutados de clustering y los centros de cada grupo\")\n",
        "plt.show()"
      ]
    },
    {
      "cell_type": "markdown",
      "id": "e4e8b98e",
      "metadata": {
        "id": "e4e8b98e"
      },
      "source": [
        "Sabemos que en el modelo K-means, el algoritmo **mínimiza la suma de las distancias al cuadrado entre cada punto y su centroide**. Vemos esta medida cómo evoluciona al cambiar el número de los clusters:"
      ]
    },
    {
      "cell_type": "code",
      "execution_count": null,
      "id": "6886f84e",
      "metadata": {
        "id": "6886f84e"
      },
      "outputs": [],
      "source": [
        "mod_cluster.inertia_"
      ]
    },
    {
      "cell_type": "code",
      "execution_count": null,
      "id": "a1eb41a4",
      "metadata": {
        "id": "a1eb41a4"
      },
      "outputs": [],
      "source": [
        "distorsion = []\n",
        "for k in range(1, 20):\n",
        "    modelo_km = KMeans(n_clusters=k, random_state=100)\n",
        "    modelo_km.fit(df_normal)\n",
        "    distorsion.append(modelo_km.inertia_)\n",
        "\n",
        "print(distorsion)\n"
      ]
    },
    {
      "cell_type": "code",
      "execution_count": null,
      "id": "7413367f",
      "metadata": {
        "id": "7413367f"
      },
      "outputs": [],
      "source": [
        "# Hacer una visualización rápida\n",
        "pd.Series(distorsion).plot()"
      ]
    },
    {
      "cell_type": "code",
      "execution_count": null,
      "id": "ade98a68",
      "metadata": {
        "id": "ade98a68"
      },
      "outputs": [],
      "source": [
        "# Obtener una visualización más elaborada\n",
        "plt.figure(figsize=(16, 7))\n",
        "sns.lineplot(x=range(1,20), y=distorsion, color='green', label='SSE versus K', linewidth=3)\n",
        "plt.xticks(range(1,20))\n",
        "plt.title(\"Suma de la distancia al cuadrado de cada punto a su centroide\", fontsize=16)\n",
        "plt.xlabel(\"Número de Clusters\", fontsize=14)\n",
        "plt.ylabel(\"SSE\", fontsize=14)\n",
        "plt.show()"
      ]
    },
    {
      "cell_type": "markdown",
      "id": "40694842",
      "metadata": {
        "id": "40694842"
      },
      "source": [
        "Ls evolución de **inercia** o la **distorsión** nos puede ayudar a la hora de elegir un valor razonable cómo el **núemro de los clusters (K)**. Esta técnica se conoce como el _método del codo (**[Elbow method](https://en.wikipedia.org/wiki/Elbow_method_(clustering))**)_. Según esta gráfica tenemos que seleccionar el valor de ___K___ en el **codo**, es decir, el punto después del cual **la distorsión/inercia comienza a disminuir de forma lineal**.  "
      ]
    },
    {
      "cell_type": "markdown",
      "id": "0b6740e8",
      "metadata": {
        "id": "0b6740e8"
      },
      "source": [
        "Ahora nos fijamos en el **criterio de la silueta o [Silhouette score](https://en.wikipedia.org/wiki/Silhouette_(clustering))** que mide de alguna manera la similitud que tiene una observación a su propio grupo en comparación con otros clusters.  \n",
        "\n",
        "El coeficiente de silueta varía de **−1** a **+1**, donde un valor alto indica que **un punto está bien emparejado con su propio cluster y mal emparejado con los grupos vecinos**. Si la mayoría de los valores son altos, la configuración de clustering en es adecuada. Si muchos puntos tienen un valor bajo o negativo, es posible que haya demasiados o muy pocos clústeres."
      ]
    },
    {
      "cell_type": "code",
      "execution_count": null,
      "id": "d4f8b89d",
      "metadata": {
        "id": "d4f8b89d"
      },
      "outputs": [],
      "source": [
        "silueta = []\n",
        "for k in range(2, 20):\n",
        "    modelo_km = KMeans(n_clusters=k, random_state=100)\n",
        "    modelo_km.fit(df_normal)\n",
        "    y_modelo_km = modelo_km.predict(df_normal)\n",
        "    silueta.append(silhouette_score(df_normal, y_modelo_km))\n",
        "\n",
        "print(silueta)\n"
      ]
    },
    {
      "cell_type": "code",
      "execution_count": null,
      "id": "9e65252c",
      "metadata": {
        "id": "9e65252c"
      },
      "outputs": [],
      "source": [
        "# Obtener una visualización del valor de silueta\n",
        "plt.figure(figsize=(16, 7))\n",
        "sns.lineplot(x=range(2,20), y=silueta, color='green', label='silueta versus K', linewidth=3)\n",
        "plt.xticks(range(1,20))\n",
        "plt.title(\"Distancia media dentro del grupo (a) entre la distancia media del grupo más cercano (b)\")\n",
        "plt.xlabel(\"Número de Clusters\", fontsize=14)\n",
        "plt.ylabel(\"silhouette_score\", fontsize=14)\n",
        "plt.show()"
      ]
    },
    {
      "cell_type": "markdown",
      "id": "c4dd1228",
      "metadata": {
        "id": "c4dd1228"
      },
      "source": [
        "---"
      ]
    },
    {
      "cell_type": "markdown",
      "id": "5dd40e07",
      "metadata": {
        "id": "5dd40e07"
      },
      "source": [
        "### Agrupación de las observaciones generadas en el laboratorio de datos (**Dataset sintéticos**)"
      ]
    },
    {
      "cell_type": "markdown",
      "id": "4a3e04fc",
      "metadata": {
        "id": "4a3e04fc"
      },
      "source": [
        "La librería _scikit-learn_ incluye varios **generadores de muestras aleatorias** que se pueden usar para crear conjuntos de datos artificiales de diferentes tamaño y con distintas características. El método **`make_blobs`** genera **bloque de datos gaussianos isotrópicos** para practicar las técnicas de agrupación o clustering."
      ]
    },
    {
      "cell_type": "code",
      "execution_count": null,
      "id": "33a372a2",
      "metadata": {
        "id": "33a372a2"
      },
      "outputs": [],
      "source": [
        "from sklearn.datasets import make_blobs\n",
        "datos_clust, etiquetas, centroides = make_blobs(n_samples=1000, centers=5, return_centers=True, random_state=10)\n",
        "\n",
        "# Datos generados sinteticamente\n",
        "print(centroides)\n",
        "print(etiquetas)\n",
        "print(datos_clust)"
      ]
    },
    {
      "cell_type": "code",
      "execution_count": null,
      "id": "f8d42ffb",
      "metadata": {
        "id": "f8d42ffb"
      },
      "outputs": [],
      "source": [
        "datos_clust.shape"
      ]
    },
    {
      "cell_type": "code",
      "execution_count": null,
      "id": "d993a5f8",
      "metadata": {
        "id": "d993a5f8"
      },
      "outputs": [],
      "source": [
        "sns.scatterplot(x=datos_clust[:,0], y=datos_clust[:,1], hue=etiquetas)\n",
        "sns.scatterplot(x=centroides[:,0], y=centroides[:,1], color='red', s=80, label='Centroides')\n",
        "plt.title(\"Datos sintéticos\")\n",
        "plt.show()"
      ]
    },
    {
      "cell_type": "code",
      "execution_count": null,
      "id": "17d47a19",
      "metadata": {
        "id": "17d47a19"
      },
      "outputs": [],
      "source": [
        "# Graficar la distribución de los valores originales\n",
        "sns.violinplot(data=datos_clust, orient='v')\n",
        "plt.show()"
      ]
    },
    {
      "cell_type": "code",
      "execution_count": null,
      "id": "56e14843",
      "metadata": {
        "id": "56e14843"
      },
      "outputs": [],
      "source": [
        "from sklearn.preprocessing import StandardScaler\n",
        "\n",
        "escalado_clust = StandardScaler().fit(datos_clust)\n",
        "datos_clust_norm = escalado_clust.transform(datos_clust)\n",
        "datos_clust_norm"
      ]
    },
    {
      "cell_type": "code",
      "execution_count": null,
      "id": "93c029a0",
      "metadata": {
        "id": "93c029a0"
      },
      "outputs": [],
      "source": [
        "# Verificar las características de los valores estandarizados\n",
        "display(pd.DataFrame(datos_clust).describe().round(2))\n",
        "display(pd.DataFrame(datos_clust_norm).describe().round(2))"
      ]
    },
    {
      "cell_type": "code",
      "execution_count": null,
      "id": "f2f2708b",
      "metadata": {
        "id": "f2f2708b"
      },
      "outputs": [],
      "source": [
        "# Graficar la distribución de los valores estandarizados\n",
        "sns.violinplot(data=datos_clust_norm, orient='v')\n",
        "plt.show()"
      ]
    },
    {
      "cell_type": "code",
      "execution_count": null,
      "id": "24f9f6eb",
      "metadata": {
        "id": "24f9f6eb"
      },
      "outputs": [],
      "source": [
        "from sklearn.cluster import KMeans\n",
        "from sklearn.metrics import silhouette_score, silhouette_samples\n",
        "\n",
        "\n",
        "modelo_kmeans = KMeans(n_clusters=5, random_state=100)\n",
        "\n",
        "modelo_kmeans.fit(datos_clust_norm)\n",
        "\n",
        "y_etiquetas = modelo_kmeans.labels_\n",
        "\n",
        "centros_clust = modelo_kmeans.cluster_centers_\n",
        "\n",
        "print(\"SSE = \", modelo_kmeans.inertia_)\n",
        "print(\"Silhouette score = \", silhouette_score(datos_clust_norm, y_etiquetas))\n",
        "\n",
        "# Graficar los resultados\n",
        "sns.scatterplot(x=datos_clust_norm[:,0], y=datos_clust_norm[:,1], hue=y_etiquetas)\n",
        "sns.scatterplot(x=centros_clust[:,0], y=centros_clust[:,1], color='blue', s=80, label='cluster_centers')\n",
        "plt.title(\"Clustering con K-means\")\n",
        "plt.show()"
      ]
    },
    {
      "cell_type": "markdown",
      "id": "51c44daa",
      "metadata": {
        "id": "51c44daa"
      },
      "source": [
        "Estos resultados tienen buena pinta, claramente por agrupar los datos con el mismo número de grupos que se han generado previamente. En caso de no disponer de esta información deberíamos analizar este parámetro."
      ]
    },
    {
      "cell_type": "code",
      "execution_count": null,
      "id": "49f1d54f",
      "metadata": {
        "id": "49f1d54f"
      },
      "outputs": [],
      "source": [
        "from sklearn.cluster import KMeans\n",
        "\n",
        "modelo_kmeans = KMeans(n_clusters=2, random_state=100)\n",
        "\n",
        "modelo_kmeans.fit(datos_clust_norm)\n",
        "\n",
        "y_etiquetas = modelo_kmeans.labels_\n",
        "\n",
        "centros_clust = modelo_kmeans.cluster_centers_\n",
        "\n",
        "print(\"SSE = \", modelo_kmeans.inertia_)\n",
        "print(\"Silhouette score = \", silhouette_score(datos_clust_norm, y_etiquetas))\n",
        "\n",
        "# Graficar los resultados\n",
        "sns.scatterplot(x=datos_clust_norm[:,0], y=datos_clust_norm[:,1], hue=y_etiquetas)\n",
        "sns.scatterplot(x=centros_clust[:,0], y=centros_clust[:,1], color='blue', s=80, label='cluster_centers')\n",
        "plt.title(\"Clustering con K-means\")\n",
        "plt.show()\n"
      ]
    },
    {
      "cell_type": "code",
      "execution_count": null,
      "id": "3d10634f",
      "metadata": {
        "id": "3d10634f"
      },
      "outputs": [],
      "source": [
        "from sklearn.cluster import KMeans\n",
        "\n",
        "modelo_kmeans = KMeans(n_clusters=3, random_state=100)\n",
        "\n",
        "modelo_kmeans.fit(datos_clust_norm)\n",
        "\n",
        "y_etiquetas = modelo_kmeans.labels_\n",
        "\n",
        "centros_clust = modelo_kmeans.cluster_centers_\n",
        "\n",
        "print(\"SSE = \", modelo_kmeans.inertia_)\n",
        "print(\"Silhouette score = \", silhouette_score(datos_clust_norm, y_etiquetas))\n",
        "\n",
        "# Graficar los resultados\n",
        "sns.scatterplot(x=datos_clust_norm[:,0], y=datos_clust_norm[:,1], hue=y_etiquetas)\n",
        "sns.scatterplot(x=centros_clust[:,0], y=centros_clust[:,1], color='blue', s=80, label='cluster_centers')\n",
        "plt.title(\"Clustering con K-means\")\n",
        "plt.show()"
      ]
    },
    {
      "cell_type": "code",
      "execution_count": null,
      "id": "c48e12f8",
      "metadata": {
        "id": "c48e12f8"
      },
      "outputs": [],
      "source": [
        "from sklearn.cluster import KMeans\n",
        "\n",
        "modelo_kmeans = KMeans(n_clusters=4, random_state=100)\n",
        "\n",
        "modelo_kmeans.fit(datos_clust_norm)\n",
        "\n",
        "y_etiquetas = modelo_kmeans.labels_\n",
        "\n",
        "centros_clust = modelo_kmeans.cluster_centers_\n",
        "\n",
        "print(\"SSE = \", modelo_kmeans.inertia_)\n",
        "print(\"Silhouette score = \", silhouette_score(datos_clust_norm, y_etiquetas))\n",
        "\n",
        "# Graficar los resultados\n",
        "sns.scatterplot(x=datos_clust_norm[:,0], y=datos_clust_norm[:,1], hue=y_etiquetas)\n",
        "sns.scatterplot(x=centros_clust[:,0], y=centros_clust[:,1], color='blue', s=80, label='cluster_centers')\n",
        "plt.title(\"Clustering con K-means\")\n",
        "plt.show()\n"
      ]
    },
    {
      "cell_type": "code",
      "execution_count": null,
      "id": "b69230c0",
      "metadata": {
        "id": "b69230c0"
      },
      "outputs": [],
      "source": [
        "from sklearn.cluster import KMeans\n",
        "\n",
        "modelo_kmeans = KMeans(n_clusters=6, random_state=100)\n",
        "\n",
        "modelo_kmeans.fit(datos_clust_norm)\n",
        "\n",
        "y_etiquetas = modelo_kmeans.labels_\n",
        "\n",
        "centros_clust = modelo_kmeans.cluster_centers_\n",
        "\n",
        "print(\"SSE = \", modelo_kmeans.inertia_)\n",
        "print(\"Silhouette score = \", silhouette_score(datos_clust_norm, y_etiquetas))\n",
        "\n",
        "# Graficar los resultados\n",
        "sns.scatterplot(x=datos_clust_norm[:,0], y=datos_clust_norm[:,1], hue=y_etiquetas)\n",
        "sns.scatterplot(x=centros_clust[:,0], y=centros_clust[:,1], color='blue', s=80, label='cluster_centers')\n",
        "plt.title(\"Clustering con K-means\")\n",
        "plt.show()\n"
      ]
    },
    {
      "cell_type": "markdown",
      "id": "6d547188",
      "metadata": {
        "id": "6d547188"
      },
      "source": [
        "Lo suyo sería analizar estos datos con el fin de encontrar el número óptimo de grupos o clusters:"
      ]
    },
    {
      "cell_type": "code",
      "execution_count": null,
      "id": "db6936f7",
      "metadata": {
        "id": "db6936f7"
      },
      "outputs": [],
      "source": [
        "distor_clust = []\n",
        "for k in range(1, 20):\n",
        "    modelo_km = KMeans(n_clusters=k, random_state=100)\n",
        "    modelo_km.fit(datos_clust_norm)\n",
        "    distor_clust.append(modelo_km.inertia_)\n",
        "\n",
        "# Obtener una visualización más elaborada\n",
        "plt.figure(figsize=(16, 7))\n",
        "sns.lineplot(x=range(1,20), y=distor_clust, color='green', label='SSE versus K', linewidth=3)\n",
        "plt.xticks(range(1,20))\n",
        "plt.title(\"Suma de la distancia al cuadrado de cada punto a su centroide\", fontsize=16)\n",
        "plt.xlabel(\"Número de Clusters\", fontsize=14)\n",
        "plt.ylabel(\"SSE\", fontsize=14)\n",
        "plt.show()"
      ]
    },
    {
      "cell_type": "markdown",
      "id": "009c015f",
      "metadata": {
        "id": "009c015f"
      },
      "source": [
        "Se ve que clarramente a partir de _K=5_ la gráfica de SSE tiene una tendencia lineal, con lo cual según el ***elbow method*** el núemero óptimo sería 5. Y ahora nos fijamos en la evolución del coeficiente de silueta:"
      ]
    },
    {
      "cell_type": "code",
      "execution_count": null,
      "id": "cf51402e",
      "metadata": {
        "id": "cf51402e"
      },
      "outputs": [],
      "source": [
        "sil_clust = []\n",
        "for k in range(2, 20):\n",
        "    modelo_km = KMeans(n_clusters=k, random_state=100)\n",
        "    modelo_km.fit(datos_clust_norm)\n",
        "    y_modelo_km = modelo_km.predict(datos_clust_norm)\n",
        "    sil_clust.append(silhouette_score(datos_clust_norm, y_modelo_km))\n",
        "\n",
        "# Obtener una visualización del valor de silueta\n",
        "plt.figure(figsize=(16, 7))\n",
        "sns.lineplot(x=range(2,20), y=sil_clust, color='green', label='silueta versus K', linewidth=3)\n",
        "plt.xticks(range(1,20))\n",
        "plt.title(\"Distancia media dentro del grupo (a) entre la distancia media del grupo más cercano (b)\")\n",
        "plt.xlabel(\"Número de Clusters\", fontsize=14)\n",
        "plt.ylabel(\"silhouette_score\", fontsize=14)\n",
        "plt.show()\n",
        "\n"
      ]
    },
    {
      "cell_type": "markdown",
      "id": "7cffde1a",
      "metadata": {
        "id": "7cffde1a"
      },
      "source": [
        "Se puede apreciar que el valor de silueta alcanza su máximo en el _K=5_, por lo tanto queda muy destacado que el valor óptimo sería en este caso cinco para el número de grupos que se van a definir por el modelo de clustering."
      ]
    },
    {
      "cell_type": "markdown",
      "id": "7a65a7f2",
      "metadata": {
        "id": "7a65a7f2"
      },
      "source": [
        "---"
      ]
    },
    {
      "cell_type": "markdown",
      "id": "66b7b598",
      "metadata": {
        "id": "66b7b598"
      },
      "source": [
        "### Segmentación de clientes"
      ]
    },
    {
      "cell_type": "markdown",
      "id": "afe6d9ea",
      "metadata": {
        "id": "afe6d9ea"
      },
      "source": [
        "Aquí procedemos a agrupar los clientes de una gran superficie de alimentación, basado en los registros anuales de cada cliente fidelizado"
      ]
    },
    {
      "cell_type": "code",
      "execution_count": null,
      "id": "7ece4cc7",
      "metadata": {
        "id": "7ece4cc7"
      },
      "outputs": [],
      "source": [
        "# Cargar los datos de clientes\n",
        "df_cliente = pd.read_csv(\"WholesaleCustomersData.csv\")"
      ]
    },
    {
      "cell_type": "code",
      "execution_count": null,
      "id": "fb12ff84",
      "metadata": {
        "id": "fb12ff84"
      },
      "outputs": [],
      "source": [
        "df_cliente"
      ]
    },
    {
      "cell_type": "code",
      "execution_count": null,
      "id": "23999bc5",
      "metadata": {
        "id": "23999bc5"
      },
      "outputs": [],
      "source": [
        "# La información útil sobre los datos guardados en formato DataFrame\n",
        "df_cliente.info()"
      ]
    },
    {
      "cell_type": "code",
      "execution_count": null,
      "id": "e8550292",
      "metadata": {
        "id": "e8550292"
      },
      "outputs": [],
      "source": [
        "# Conteo de valores perdidos/faltantes\n",
        "df_cliente.isna().sum()"
      ]
    },
    {
      "cell_type": "code",
      "execution_count": null,
      "id": "14ec51ed",
      "metadata": {
        "id": "14ec51ed"
      },
      "outputs": [],
      "source": [
        "# Echamos un vistazo a las características de cada columna\n",
        "df_cliente.describe()"
      ]
    },
    {
      "cell_type": "code",
      "execution_count": null,
      "id": "d758deac",
      "metadata": {
        "id": "d758deac"
      },
      "outputs": [],
      "source": [
        "df_cliente['Channel'].value_counts()"
      ]
    },
    {
      "cell_type": "code",
      "execution_count": null,
      "id": "c6cf5959",
      "metadata": {
        "id": "c6cf5959"
      },
      "outputs": [],
      "source": [
        "df_cliente['Region'].value_counts()"
      ]
    },
    {
      "cell_type": "code",
      "execution_count": null,
      "id": "4ac43646",
      "metadata": {
        "id": "4ac43646"
      },
      "outputs": [],
      "source": [
        "fig, axes = plt.subplots(1,2, figsize=(15, 6))\n",
        "\n",
        "# Count plot (primera gráfica)\n",
        "sns.countplot(data=df_cliente, x='Channel', label=df_cliente['Channel'].value_counts().index, palette=['#5cde59',\"#de5458\"], ax=axes[0])\n",
        "axes[0].set_title(\"Channel Count plot\")\n",
        "axes[0].set_ylabel(\"Count\")\n",
        "\n",
        "# pie chart (segunda gráfica)\n",
        "plt.pie(df_cliente['Channel'].value_counts(), autopct='%.1f%%', labels=['Efectivo', 'Tarjeta'], colors=['#5bde54',\"#de5454\"])\n",
        "axes[1].set_title(\"Channel Pie chart\")\n",
        "\n",
        "plt.show()"
      ]
    },
    {
      "cell_type": "code",
      "execution_count": null,
      "id": "70377ffa",
      "metadata": {
        "id": "70377ffa"
      },
      "outputs": [],
      "source": [
        "sns.pairplot(df_cliente, height=3)\n",
        "plt.show()"
      ]
    },
    {
      "cell_type": "code",
      "execution_count": null,
      "id": "4952633f",
      "metadata": {
        "id": "4952633f"
      },
      "outputs": [],
      "source": [
        "sns.pairplot(df_cliente, hue='Region', height=3)\n",
        "plt.show()"
      ]
    },
    {
      "cell_type": "code",
      "execution_count": null,
      "id": "25bef85c",
      "metadata": {
        "id": "25bef85c"
      },
      "outputs": [],
      "source": [
        "sns.pairplot(df_cliente, hue='Channel', height=3)\n",
        "plt.show()"
      ]
    },
    {
      "cell_type": "code",
      "execution_count": null,
      "id": "1e9ccf1c",
      "metadata": {
        "id": "1e9ccf1c"
      },
      "outputs": [],
      "source": [
        "sns.scatterplot(data=df_cliente, x='Grocery', y='Detergents_Paper', hue='Channel')\n",
        "plt.show()"
      ]
    },
    {
      "cell_type": "markdown",
      "id": "56b49d9e",
      "metadata": {
        "id": "56b49d9e"
      },
      "source": [
        "---"
      ]
    },
    {
      "cell_type": "markdown",
      "id": "b108ca24",
      "metadata": {
        "id": "b108ca24"
      },
      "source": [
        "### **`Ejercicio 19.1`**\n",
        "\n",
        "Vamos a realizar un problema de **clustring** dentro de las técnicas de **aprendizaje no supervisado** para agrupar los clientes de esta cadena de hipermercados.\n",
        "\n",
        "**`19.1`** Genera una gráfica para visualizar la distribución de las variables del dataset en conjunto. Analiza dicha gráfica y explica si hay una necesidad de normalizar los datos.\n",
        "\n",
        "**`19.2`** **Normaliza** todas las variables del dataset a una escala estándar. Puedes realizar las transformaciones necesarias con el objetivo de tener los **datos centralizados** (la media igual a _0_ cun la desviación estándar igual a _1_) y vuelve a graficar la distribución de las variables con los datos normalizados.\n",
        "\n",
        "**`19.3`** Utiliza la técnica de __K-Means clustering__ para agrupar los clientes en 2 grupos y saca las métricas para evaluar el algoritmo de agrupación:\n",
        " - SSE\n",
        " - Silhouette score\n",
        " - `random_state=100`\n",
        "\n",
        "**`19.4`** Grafica los resultados de este primer modelo, visualizando los clientes por sus gastos relacionados a las variables _`Fresh`-versus-`Milk`_, pintando cada punto por su `cluster` junto con los `centroides` de cada grupo.\n",
        "\n",
        "**`19.5`** Grafica los resultados de este primer modelo, visualizando los clientes por sus gastos esta vez relacionados a las variables _`Grocery`-versus-`Detergents_Paper`_, pintando cada punto por su `cluster` junto con los `centroides` de cada grupo. Después explica cual de estas dos gráficas te parecen más intuitivas e intenta analizar el perfil de los comprtadores según cada gráfica.\n",
        "\n",
        "**`19.6`** Calcula el rendimiento de los `cluster` para diferentes números de grupos. Analiza esta evolución usando la técnica de `Elbow method` y explica cómo podrían ser los valores óptimos para la cantidad de clusters (__K__).\n",
        "\n",
        "**`19.7`** Calcula el rendimiento de los `cluster` para diferentes números de grupos. Analiza esta vez la evolución usando el valor de `silhouette_score` y explica cómo podrían ser los valores óptimos para la cantidad de clusters. Finalmente elige **1 o 2 valores como máximo** que serían una buena opción para el parámetro (__K__) detallando tu decisión."
      ]
    },
    {
      "cell_type": "markdown",
      "id": "dcf71bfc",
      "metadata": {
        "id": "dcf71bfc"
      },
      "source": [
        "---"
      ]
    }
  ],
  "metadata": {
    "kernelspec": {
      "display_name": "Python 3 (ipykernel)",
      "language": "python",
      "name": "python3"
    },
    "language_info": {
      "codemirror_mode": {
        "name": "ipython",
        "version": 3
      },
      "file_extension": ".py",
      "mimetype": "text/x-python",
      "name": "python",
      "nbconvert_exporter": "python",
      "pygments_lexer": "ipython3",
      "version": "3.9.12 (main, Apr  4 2022, 05:22:27) [MSC v.1916 64 bit (AMD64)]"
    },
    "vscode": {
      "interpreter": {
        "hash": "ad2bdc8ecc057115af97d19610ffacc2b4e99fae6737bb82f5d7fb13d2f2c186"
      }
    },
    "colab": {
      "provenance": []
    }
  },
  "nbformat": 4,
  "nbformat_minor": 5
}
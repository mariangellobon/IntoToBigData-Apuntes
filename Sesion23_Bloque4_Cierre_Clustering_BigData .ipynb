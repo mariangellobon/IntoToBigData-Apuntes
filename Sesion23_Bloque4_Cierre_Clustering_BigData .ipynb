{
  "cells": [
    {
      "cell_type": "markdown",
      "id": "496631ea",
      "metadata": {
        "id": "496631ea"
      },
      "source": [
        "# Módulo 1: Análisis de datos en el ecosistema Python"
      ]
    },
    {
      "cell_type": "markdown",
      "id": "3a14cd3f",
      "metadata": {
        "id": "3a14cd3f"
      },
      "source": [
        "### Sesión (23)"
      ]
    },
    {
      "cell_type": "markdown",
      "id": "6d3f9903",
      "metadata": {
        "id": "6d3f9903"
      },
      "source": [
        "## Aplicar un caso de uso (*Clustering*)"
      ]
    },
    {
      "cell_type": "markdown",
      "id": "eda92ceb",
      "metadata": {
        "id": "eda92ceb"
      },
      "source": [
        "### Datset de Bike-sharing"
      ]
    },
    {
      "cell_type": "markdown",
      "id": "2c983890",
      "metadata": {
        "id": "2c983890"
      },
      "source": [
        "Uno de los conjuntos de datos reales e interesantes para ejercicios de _regresión_, _clasificación_ y también ___clustering___ es el **Conjunto de datos para compartir bicicletas** o el __[Bike Sharing Dataset](https://archive.ics.uci.edu/ml/datasets/bike+sharing+dataset)__ de la _Universidad de Oporto_. Este dataset contiene datos de uso de bicicletas de alquiler de un programa de bicicletas compartidas en _Washington D.C._ durante un período de dos años (_2011_ y _2012_).\n",
        "\n",
        "Uno de los retos que se plantea para este conjunto de datos es **agrupar los datos de _bike-sharing_** en función de las diferentes **condiciones climáticas** y otros factores, como **días festivos y laborales**, para **`identificar patrones en el uso de bicicletas de alquiler`**. Esto puede ayudar a las empresas de _bike-sharing_ a **comprender mejor el comportamiento de los clientes** y el tipo de viajes realizados con el fin de **optimizar** sus servicios. Además, se puede analizar los **patrones de movilidad en la ciudad** de cara a la **gestión eficiente** de los servicios municipales."
      ]
    },
    {
      "cell_type": "markdown",
      "id": "0792fd4b",
      "metadata": {
        "id": "0792fd4b"
      },
      "source": [
        "Este dataset incluye 17 variables para los datos horarios y ***16 variables*** para el conjunto de datos agregados a nivel ***diario***:\n",
        "\n",
        "- **instant**:  Índice de registro  \n",
        "- **dteday**:  Fecha y hora de la observación\n",
        "- **season**:  Estación del año (1:invierno, 2:primavera, 3:verano, 4:otoño)\n",
        "- **yr**:  Año (0:2011, 1:2012)\n",
        "- **mnth**:  Mes (1 a 12)\n",
        "- **holiday**:  Si el día es festivo o no\n",
        "- **weekday**:  Día de la semana (0 a 6)\n",
        "- **workingday**:  Si el día es laborable o no (1: sí, 0: no)\n",
        "- **weathersit**:  Situación meteorológica (1: despejado, 2: nublado, 3: lluvia ligera/nieve, 4: lluvia intensa/nieve)\n",
        "- **temp**:  Temperatura (normalizada en Celsius)\n",
        "- **atemp**:  Temperatura marcada por la sensación térmica (normalizada en Celsius)\n",
        "- **hum**:  Humedad normalizada\n",
        "- **windspeed**:  Velocidad del viento normalizada\n",
        "- **casual**:  Número de usuarios casuales (no registrados)\n",
        "- **registrado**:  Número de usuarios registrados\n",
        "- **cnt**:  Recuento total de bicicletas alquiladas (suma de usuarios casuales y registrados).\n",
        "\n"
      ]
    },
    {
      "cell_type": "code",
      "execution_count": null,
      "id": "44a59ece",
      "metadata": {
        "id": "44a59ece"
      },
      "outputs": [],
      "source": [
        "# importamos las librerías necesarias\n",
        "import pandas as pd\n",
        "import seaborn as sns\n",
        "import matplotlib.pyplot as plt\n",
        "import numpy as np\n",
        "%matplotlib inline"
      ]
    },
    {
      "cell_type": "code",
      "execution_count": null,
      "id": "0be1883e",
      "metadata": {
        "id": "0be1883e"
      },
      "outputs": [],
      "source": [
        "# Modificamos los parámetros de los gráficos en matplotlib\n",
        "from matplotlib.pyplot import rcParams\n",
        "\n",
        "rcParams['figure.figsize'] = 18, 8 # el primer dígito es el ancho y el segundo el alto\n",
        "rcParams[\"font.weight\"] = \"bold\"\n",
        "rcParams[\"font.size\"] = 10\n",
        "rcParams[\"axes.labelweight\"] = \"bold\""
      ]
    },
    {
      "cell_type": "markdown",
      "id": "0655f4a2",
      "metadata": {
        "id": "0655f4a2"
      },
      "source": [
        "Leemos los datos mediante el archivo adjunto."
      ]
    },
    {
      "cell_type": "code",
      "execution_count": null,
      "id": "f6c8ae43",
      "metadata": {
        "id": "f6c8ae43"
      },
      "outputs": [],
      "source": [
        "# Lectura de datos\n",
        "df_bike = pd.read_csv('bike-sharing-daily.csv')\n",
        "df_bike"
      ]
    },
    {
      "cell_type": "markdown",
      "id": "9c31fc32",
      "metadata": {
        "id": "9c31fc32"
      },
      "source": [
        "Vamos a quitar los datos que no son de intrés para este estudio, como el número de registros o la fecha que en sí no nos dice nada. Nos quedamos con el número total de bicicletas sin desglosarlo."
      ]
    },
    {
      "cell_type": "code",
      "execution_count": null,
      "metadata": {
        "id": "w8yzFvrtCrKK"
      },
      "outputs": [],
      "source": [
        "col_drop = ['instant', 'dteday', 'yr', 'casual', 'registered']\n",
        "df_bike2 = df_bike.drop(columns=col_drop)\n",
        "df_bike2"
      ],
      "id": "w8yzFvrtCrKK"
    },
    {
      "cell_type": "code",
      "execution_count": null,
      "id": "ad4716a0",
      "metadata": {
        "id": "ad4716a0"
      },
      "outputs": [],
      "source": [
        "# La información útil sobre los datos guardados en formato DataFrame\n",
        "df_bike2.info()"
      ]
    },
    {
      "cell_type": "markdown",
      "id": "c7752cf0",
      "metadata": {
        "id": "c7752cf0"
      },
      "source": [
        "Podemos ver que **no hay valores nulos** y toda la información es **numérica**."
      ]
    },
    {
      "cell_type": "code",
      "execution_count": null,
      "id": "414b9b95",
      "metadata": {
        "id": "414b9b95"
      },
      "outputs": [],
      "source": [
        "# Echamos un vistazo a las características de cada variable\n",
        "df_bike2.describe()"
      ]
    },
    {
      "cell_type": "markdown",
      "id": "797d3259",
      "metadata": {
        "id": "797d3259"
      },
      "source": [
        "Es evidente que la escala de los datos es muy variada y por ello más adelante procederemos a estandarizar los datos.  "
      ]
    },
    {
      "cell_type": "markdown",
      "id": "581b2185",
      "metadata": {
        "id": "581b2185"
      },
      "source": [
        "#### Ánalisis exploratorio"
      ]
    },
    {
      "cell_type": "markdown",
      "id": "daa88cb0",
      "metadata": {
        "id": "daa88cb0"
      },
      "source": [
        "Vamos a realizar una serie de gráficas con el objetivo de **conocer mejor los datos y la información** que contienen estas muestras."
      ]
    },
    {
      "cell_type": "code",
      "execution_count": null,
      "id": "d2205ecc",
      "metadata": {
        "id": "d2205ecc"
      },
      "outputs": [],
      "source": [
        "fig, axes = plt.subplots(1,2, figsize=(15, 6))\n",
        "\n",
        "# Count plot (primera gráfica)\n",
        "sns.countplot(data=df_bike2, x='workingday', label=df_bike2['workingday'].value_counts().sort_values().index, palette=['#5cde59',\"#de5458\"], ax=axes[0])\n",
        "axes[0].set_title(\"Count plot\")\n",
        "axes[0].set_ylabel(\"Count\")\n",
        "\n",
        "# pie chart (segunda gráfica)\n",
        "plt.pie(df_bike2['workingday'].value_counts().sort_values(), autopct='%.1f%%', labels=['No Laboral', 'Laboral'], colors=['#5bde54',\"#de5454\"])\n",
        "axes[1].set_title(\"Pie chart\")\n",
        "\n",
        "plt.show()"
      ]
    },
    {
      "cell_type": "markdown",
      "id": "902e11a3",
      "metadata": {
        "id": "902e11a3"
      },
      "source": [
        "La variable más determinante en este análisis sería el **número de los usuarios/viajes** que se han registrado cada día. Realizamos un análisis estadístico para ver la **distribución de volumetría de bicicletas alquiladas** en función de otras variables del dataset.   "
      ]
    },
    {
      "cell_type": "code",
      "execution_count": null,
      "id": "2061e3da",
      "metadata": {
        "id": "2061e3da"
      },
      "outputs": [],
      "source": [
        "# Análisis de volumetría en función de días laborables\n",
        "sns.boxplot(data=df_bike2, x='workingday', y='cnt')\n",
        "plt.show()"
      ]
    },
    {
      "cell_type": "code",
      "execution_count": null,
      "id": "12e05fdf",
      "metadata": {
        "id": "12e05fdf"
      },
      "outputs": [],
      "source": [
        "# Análisis de volumetría en función de la festividad\n",
        "sns.boxplot(data=df_bike2, x='holiday', y='cnt')\n",
        "plt.show()"
      ]
    },
    {
      "cell_type": "code",
      "execution_count": null,
      "id": "1eb44ce1",
      "metadata": {
        "id": "1eb44ce1"
      },
      "outputs": [],
      "source": [
        "# Análisis de volumetría en función de días la semana\n",
        "sns.boxplot(data=df_bike2, x='weekday', y='cnt')\n",
        "plt.show()"
      ]
    },
    {
      "cell_type": "code",
      "execution_count": null,
      "id": "a373423c",
      "metadata": {
        "id": "a373423c"
      },
      "outputs": [],
      "source": [
        "# Análisis de volumetría por mes\n",
        "sns.boxplot(data=df_bike2, x='mnth', y='cnt')\n",
        "plt.show()"
      ]
    },
    {
      "cell_type": "markdown",
      "id": "9c2244be",
      "metadata": {
        "id": "9c2244be"
      },
      "source": [
        "Este gráfico confirma que nuestro dataset tiene una **estacionalidad considerable**. Este hecho seguramente influiría en la extracción de grupos de viajes y analizar los **patrones de movilidad** correspondiente al servicio de _bike-sharing_."
      ]
    },
    {
      "cell_type": "code",
      "execution_count": null,
      "id": "dbe6b280",
      "metadata": {
        "id": "dbe6b280"
      },
      "outputs": [],
      "source": [
        "# Análisis de volumetría en función de la estación del año\n",
        "sns.boxplot(data=df_bike2, x='season', y='cnt')\n",
        "plt.show()"
      ]
    },
    {
      "cell_type": "markdown",
      "id": "b91f33de",
      "metadata": {
        "id": "b91f33de"
      },
      "source": [
        "Es de esperar que la estacionalidad mensual afecte en su forma agregada a la **evolución trimestral** de volumetría de _bike-sharing_ según la **estación del año**."
      ]
    },
    {
      "cell_type": "code",
      "execution_count": null,
      "id": "8ff1be59",
      "metadata": {
        "id": "8ff1be59"
      },
      "outputs": [],
      "source": [
        "# Análisis de volumetría en función de la situación climática\n",
        "sns.boxplot(data=df_bike2, x='weathersit', y='cnt')\n",
        "plt.show()"
      ]
    },
    {
      "cell_type": "markdown",
      "id": "5d0af845",
      "metadata": {
        "id": "5d0af845"
      },
      "source": [
        "Se observa una **distinción lógica** entre las volumetrías registradas para cada situación climática, indicando la importancia de las **condiciones meteorológicas** sobre el uso de servicio de _bike-sharing_."
      ]
    },
    {
      "cell_type": "markdown",
      "id": "51af4c88",
      "metadata": {
        "id": "51af4c88"
      },
      "source": [
        "Examinamos las realciones que hay entre las variables de tiempo para analizar mejor esta correlación."
      ]
    },
    {
      "cell_type": "code",
      "execution_count": null,
      "id": "2522a25d",
      "metadata": {
        "id": "2522a25d"
      },
      "outputs": [],
      "source": [
        "# Dibujar la relación entre la temperatura (la sensación térmica) y la volumetría\n",
        "sns.scatterplot(data=df_bike2, x='atemp', y='cnt')\n",
        "plt.show()"
      ]
    },
    {
      "cell_type": "markdown",
      "id": "a8b0fd63",
      "metadata": {
        "id": "a8b0fd63"
      },
      "source": [
        "Se puede observar que efectivamente los días con **más bicicletas alquiladas** corresponden a los días con **las temperaturas moderadas**."
      ]
    },
    {
      "cell_type": "code",
      "execution_count": null,
      "id": "fc88ac2c",
      "metadata": {
        "id": "fc88ac2c"
      },
      "outputs": [],
      "source": [
        "sns.scatterplot(data=df_bike2, x='atemp', y='cnt', hue='workingday')\n",
        "plt.show()"
      ]
    },
    {
      "cell_type": "markdown",
      "id": "34428ad9",
      "metadata": {
        "id": "34428ad9"
      },
      "source": [
        "Si pintamos según los días laborables cada punto en la gráfica antreior entre temperatura y los volúmenes de viajes o bicicletas alquiladas, se ve que **no hay una realción** que distinga la evolución de los datos en función de esta variable."
      ]
    },
    {
      "cell_type": "code",
      "execution_count": null,
      "id": "308f6df7",
      "metadata": {
        "id": "308f6df7"
      },
      "outputs": [],
      "source": [
        "sns.scatterplot(data=df_bike2, x='atemp', y='cnt', hue='weathersit')\n",
        "plt.show()"
      ]
    },
    {
      "cell_type": "markdown",
      "id": "638e420d",
      "metadata": {
        "id": "638e420d"
      },
      "source": [
        "Pintando los datos de acuerdo con la calidad de tiempo que hace en la ciudad, muestra que los **días con menos usos** corresponden a **situaciones meteorológicas adversas**. Podemos observar este mismo comporertamiento si visualizamos las **humedades** registradas."
      ]
    },
    {
      "cell_type": "code",
      "execution_count": null,
      "id": "1e46e57e",
      "metadata": {
        "id": "1e46e57e"
      },
      "outputs": [],
      "source": [
        "sns.scatterplot(data=df_bike2, x='hum', y='cnt', hue='weathersit')\n",
        "plt.show()"
      ]
    },
    {
      "cell_type": "markdown",
      "id": "19e95c6a",
      "metadata": {
        "id": "19e95c6a"
      },
      "source": [
        "Viendo las gráficas anteriores que visualizan las diferentes variables meteorológicas presentes en este conjunto de datos, podemos quedarnos con la variable categórica de `weathersit` (_Weather situation_) que al parecer resume y representa la noción de cuando hace **\"buen tiempo\"** o no."
      ]
    },
    {
      "cell_type": "markdown",
      "id": "209d4fce",
      "metadata": {
        "id": "209d4fce"
      },
      "source": [
        "Revisamos otra vez la ditribución de volumetría de bicicletas alquiladas en función del día de la semana (_weekday_), **por si vemos que no aporta una información discriminatoria** a la hora de agrupar los patrones de uso de _bike-sharing_."
      ]
    },
    {
      "cell_type": "code",
      "execution_count": null,
      "id": "2cc3cff3",
      "metadata": {
        "id": "2cc3cff3"
      },
      "outputs": [],
      "source": [
        "sns.violinplot(data=df_bike2, x='weekday', y='cnt')\n",
        "plt.show()"
      ]
    },
    {
      "cell_type": "markdown",
      "id": "38c6c010",
      "metadata": {
        "id": "38c6c010"
      },
      "source": [
        "Al parecer podemos **prescindir de la variable `weekday`**, porque la **forma y las características** que tiene la distribución de valores para cada día son bastante **similares**."
      ]
    },
    {
      "cell_type": "markdown",
      "id": "64fd5f26",
      "metadata": {
        "id": "64fd5f26"
      },
      "source": [
        "Por otra parte, pasa algo parecido con la variable `workingday` que no tiene una distribución diferente en sus dos categorías y podemos **ver reflejado el efecto de los días laborales** quizá mejor en la variable **`holiday`**."
      ]
    },
    {
      "cell_type": "code",
      "execution_count": null,
      "id": "63161aa2",
      "metadata": {
        "id": "63161aa2"
      },
      "outputs": [],
      "source": [
        "fig , axes = plt.subplots(2, 1, figsize=(14,10))\n",
        "\n",
        "sns.boxplot(data=df_bike2, x='workingday', y='cnt', ax=axes[0])\n",
        "sns.boxplot(data=df_bike2, x='holiday', y='cnt', ax=axes[1])\n",
        "plt.show()"
      ]
    },
    {
      "cell_type": "markdown",
      "id": "d70510fd",
      "metadata": {
        "id": "d70510fd"
      },
      "source": [
        "Ahora hacemos otro filtrado para **reducir la dimensionalidad** del conjunto de datos y quedarnos con la parte **representativa** e interesante de los datos."
      ]
    },
    {
      "cell_type": "code",
      "execution_count": null,
      "id": "061226f8",
      "metadata": {
        "id": "061226f8"
      },
      "outputs": [],
      "source": [
        "df_bike3 = df_bike2.drop(columns=['weekday', 'workingday', 'temp', 'atemp', 'hum', 'windspeed'])\n",
        "df_bike3"
      ]
    },
    {
      "cell_type": "markdown",
      "id": "4c009820",
      "metadata": {
        "id": "4c009820"
      },
      "source": [
        "Analizamos en su conjunto las **relaciones exsitentes** entre las variables del dataset filtrado, considerando la importancia de las **condiciones meteorológicas**."
      ]
    },
    {
      "cell_type": "code",
      "execution_count": null,
      "id": "4b12aa78",
      "metadata": {
        "id": "4b12aa78"
      },
      "outputs": [],
      "source": [
        "sns.pairplot(df_bike3, hue='weathersit', height=3)\n",
        "plt.show()"
      ]
    },
    {
      "cell_type": "markdown",
      "id": "9e083191",
      "metadata": {
        "id": "9e083191"
      },
      "source": [
        "Esta vista sobre el conjunto de las variables **confirma el efecto discriminador de la variable `weathersit`**, ya que extrae **distribuciones desemejantes** en función de sus valores para cada variable. Hacemos zoom por ejemplo para visualizar mejor este efecto en la relación entre la volumetría de las bicicletas alquiladas diariamente y los meses del año considerando la situación del tiempo."
      ]
    },
    {
      "cell_type": "code",
      "execution_count": null,
      "id": "e5923d27",
      "metadata": {
        "id": "e5923d27"
      },
      "outputs": [],
      "source": [
        "plt.figure(figsize=(10,6))\n",
        "sns.scatterplot(data=df_bike3, x='cnt', y='mnth', hue='weathersit')\n",
        "plt.show()"
      ]
    },
    {
      "cell_type": "markdown",
      "id": "4faef38a",
      "metadata": {
        "id": "4faef38a"
      },
      "source": [
        "---"
      ]
    },
    {
      "cell_type": "markdown",
      "id": "a9ea014a",
      "metadata": {
        "id": "a9ea014a"
      },
      "source": [
        "### **`Ejercicio 23.1`**\n",
        "\n",
        "Para poder realizar un ejercicio de **aprendizaje no-supervisado** tipo **clustering**, necesitamos hacernos primero una idea sobre el **número de los clusters o grupos** que están presentes en los datos.\n",
        "\n",
        "**`23.1.1`** En primer lugar **estandariza** los datos del dataset filtrado (_df_bike3_) llevando los valores de cada variable a una escala **entre 0 y 1**.\n",
        "\n",
        "**`23.1.2`** Utiliza las distintas técnicas de análisis de calidad de clustering y **estima según cada métrica** el número de los grupos de datos presentes en este data set:\n",
        "\n",
        " - WSS (Elbow method)\n",
        " - Silhouette score\n",
        " - Davies-Bouldin index\n",
        " - Calinski and Harabasz score\n",
        " - BIC score (implementación adhoc de la sesión 22)\n",
        " - BIC score of GMM\n",
        " - `random_state=100`"
      ]
    },
    {
      "cell_type": "markdown",
      "id": "d0b5b980",
      "metadata": {
        "id": "d0b5b980"
      },
      "source": [
        "### **`Ejercicio 23.2`**\n",
        "\n",
        "**`23.2.1`** Aplica un análisis de componentes principales usando el método **`PCA`** de la librería _sklearn_ para llevar los datos a un **espacio bidimensional**. Calcula **el porcentaje total de varianza** que incluyen los dos componentes principales juntos, después:\n",
        "\n",
        "- Visualiza en una gráfica los datos del vector con los valores proyeccionados a los dos componentes principales.\n",
        "- Visualiza la misma gráfica, ésta vez pintando los puntos de datos según la condición meteorológica del día (variable `weathersit`).\n",
        "\n",
        "**`23.2.2`** Utiliza la visualización obtenida de los datos en el espacio bidimensional para hacer una **estimación del número óptimo de los clusters** o grupos presentes en el dataset. Y comprueba si coincide por ejemplo con el número estimado mediante la última técnica que aplicaste en el punto anterior (_23.1.2_)\n",
        "\n",
        "**`23.2.3`** Vuelve a calcular las diferentes métricas de análisis de calidad de clustering, ésta vez usando el **vector con los datos proyeccionados** a los dos componentes principales, y compara si cada estimación coincide con el número óptimo de clusters inferido en el paso anterior:\n",
        "\n",
        " - WSS (Elbow method)\n",
        " - Silhouette score\n",
        " - Davies-Bouldin index\n",
        " - Calinski and Harabasz score\n",
        " - BIC score (implementación adhoc de la sesión 22)\n",
        " - BIC score of GMM\n",
        " - `random_state=100`"
      ]
    },
    {
      "cell_type": "markdown",
      "id": "f3e5634c",
      "metadata": {
        "id": "f3e5634c"
      },
      "source": [
        "### **`Ejercicio 23.3`**\n",
        "\n",
        "**`23.3.1`** Crea diferentes modelos de clustering **usando el vector con los datos proyeccionados a los dos componentes principales**, genera las gráficas de cada modelo dibujando los centroides si se corresponde y compara los resultados obtenidos según estas gráficas. Explica cuál de estos método logra **acercarse más a la agrupación sugerida** mediante la visualización de los datos transformados al espacio bidimensional (_23.2.2_) :  \n",
        "\n",
        " - `random_state=100`\n",
        " - K-Means\n",
        " - K-Medoids\n",
        " - GMM\n",
        " - DBSCAN (`eps=0.10`)\n",
        " - Agglomerative con dendograma (`method ='single', metric='euclidean'`)\n",
        "\n",
        "**`23.3.2`** Añade los resultados del último modelo (_AgglomerativeClustering_) a los datos del DataFrame filtrado (_df_bike3_) para guardar en una nueva columna llamada `'labels'` las etiquetas generadas por el modelo de clustering jerárquico. Después, crea las siguientes gráficas para analizar estos resultados:\n",
        "\n",
        "- _Count plot_ de los`'labels'` que muestra el tamaño de cada cluster.\n",
        "- La distribución de la volumetría de viajes/bicicletas alquiladas al día (`'cnt'`) para cada cluster (por `'labels'` y usando _boxplot_).\n",
        "- La distribución del mes de año (`'mnth'`) para cada cluster (por `'labels'` y usando _boxplot_).\n",
        "- La distribución de la calidad del tiempo que hace en la ciudad (`'weathersit'`) para cada cluster (por `'labels'` y usando _boxplot_).\n",
        "- La distribución de la estación del año (`'season'`) para cada cluster (por `'labels'` y usando _boxplot_).\n"
      ]
    },
    {
      "cell_type": "markdown",
      "id": "08e785ef",
      "metadata": {
        "id": "08e785ef"
      },
      "source": [
        "### **`Ejercicio 23.4`**\n",
        "\n",
        "**`23.4.1`** Compara las cracterísticas del **primer cluster** con el **décimo grupo** (_cluster_0_ y _cluster_9_) y explica los aspectos que revelan acada uno de estos grupos sobre los **distintos patrones de movilidad y el uso de _bike-sharing_** en la ciudad. Te puedes basar en los siguientes criterios para describir y comparar el perfil que representa cada cluster:\n",
        "\n",
        "- El volúmen de los viajes diarios o el uso registrado de _bike-sharing_ por día.\n",
        "- El mes de año.\n",
        "- Las condiciones del tiempo.\n",
        "\n",
        "Y al final sugiere algunos usos que se pueda sacar de estos resultados!!"
      ]
    },
    {
      "cell_type": "markdown",
      "id": "84070f8e",
      "metadata": {
        "id": "84070f8e"
      },
      "source": [
        "---"
      ]
    }
  ],
  "metadata": {
    "kernelspec": {
      "display_name": "Python 3 (ipykernel)",
      "language": "python",
      "name": "python3"
    },
    "language_info": {
      "codemirror_mode": {
        "name": "ipython",
        "version": 3
      },
      "file_extension": ".py",
      "mimetype": "text/x-python",
      "name": "python",
      "nbconvert_exporter": "python",
      "pygments_lexer": "ipython3",
      "version": "3.9.12"
    },
    "vscode": {
      "interpreter": {
        "hash": "ad2bdc8ecc057115af97d19610ffacc2b4e99fae6737bb82f5d7fb13d2f2c186"
      }
    },
    "colab": {
      "provenance": []
    }
  },
  "nbformat": 4,
  "nbformat_minor": 5
}
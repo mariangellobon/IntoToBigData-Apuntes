{
  "cells": [
    {
      "cell_type": "markdown",
      "id": "496631ea",
      "metadata": {
        "id": "496631ea"
      },
      "source": [
        "# Módulo 1: Análisis de datos en el ecosistema Python"
      ]
    },
    {
      "cell_type": "markdown",
      "id": "3a14cd3f",
      "metadata": {
        "id": "3a14cd3f"
      },
      "source": [
        "### Sesión (25)"
      ]
    },
    {
      "cell_type": "markdown",
      "id": "5e06d26c",
      "metadata": {
        "id": "5e06d26c"
      },
      "source": [
        "# Modelado estadístico"
      ]
    },
    {
      "cell_type": "markdown",
      "id": "c0360d55",
      "metadata": {
        "id": "c0360d55"
      },
      "source": [
        "El modelado estadístico (**Statistical Modeling**) en series temporales se refiere a la aplicación de **`métodos estadísticos`** para analizar y modelar los datos secuenciales.\n",
        "\n",
        "El modelado estadístico de series temporales implica **seleccionar** un modelo apropiado en función de las características de los datos, **ajustar** el modelo a los datos y **utilizar** el modelo para hacer **predicciones** o probar hipótesis."
      ]
    },
    {
      "cell_type": "markdown",
      "id": "243600bb",
      "metadata": {
        "id": "243600bb"
      },
      "source": [
        "![Time-series-modeling.png](attachment:Time-series-modeling.png)"
      ]
    },
    {
      "cell_type": "code",
      "execution_count": null,
      "id": "12bb3b16",
      "metadata": {
        "id": "12bb3b16"
      },
      "outputs": [],
      "source": [
        "# importamos las librerías necesarias\n",
        "import pandas as pd\n",
        "import seaborn as sns\n",
        "import matplotlib.pyplot as plt\n",
        "import numpy as np\n",
        "%matplotlib inline"
      ]
    },
    {
      "cell_type": "code",
      "execution_count": null,
      "id": "2ac9270b",
      "metadata": {
        "id": "2ac9270b"
      },
      "outputs": [],
      "source": [
        "# Modificamos los parámetros de los gráficos en matplotlib\n",
        "from matplotlib.pyplot import rcParams\n",
        "\n",
        "rcParams['figure.figsize'] = 12, 6 # el primer dígito es el ancho y el segundo el alto\n",
        "rcParams[\"font.weight\"] = \"bold\"\n",
        "rcParams[\"font.size\"] = 10\n",
        "rcParams[\"axes.labelweight\"] = \"bold\""
      ]
    },
    {
      "cell_type": "markdown",
      "id": "5ddc1ae8",
      "metadata": {
        "id": "5ddc1ae8"
      },
      "source": [
        "### Airline Passenger Dataset"
      ]
    },
    {
      "cell_type": "markdown",
      "id": "88855ca1",
      "metadata": {
        "id": "88855ca1"
      },
      "source": [
        "Importamos los datos del ejemplo disponible en la librería ___seaborn___ que contiene el número total de pasajeros aéreos de forma mensual."
      ]
    },
    {
      "cell_type": "code",
      "execution_count": null,
      "id": "e04bbbca",
      "metadata": {
        "id": "e04bbbca"
      },
      "outputs": [],
      "source": [
        "import seaborn as sns\n",
        "import pandas as pd\n",
        "\n",
        "# Cargar el dataset de \"flights\"\n",
        "df_air = sns.load_dataset('flights')\n",
        "df_air"
      ]
    },
    {
      "cell_type": "code",
      "execution_count": null,
      "id": "0f265acb",
      "metadata": {
        "id": "0f265acb"
      },
      "outputs": [],
      "source": [
        "# Consultamos la información del dataset descargado\n",
        "df_air.info()"
      ]
    },
    {
      "cell_type": "code",
      "execution_count": null,
      "id": "5cb393bc",
      "metadata": {
        "id": "5cb393bc"
      },
      "outputs": [],
      "source": [
        "# Crear una nueva columna con la unificación de otras dos\n",
        "df_air['year_month'] = df_air.apply(lambda x: str(x['year']) + '-' + x['month'], axis=1)\n",
        "\n",
        "# Convertir la columna en fechas tipo DatetimeIndex\n",
        "df_air['fechas'] = pd.to_datetime(df_air['year_month'], format='%Y-%b')\n",
        "\n",
        "# Convertir la columna de fechas a los índices del DataFrame e indicar que los datos son \"mensuales\"\n",
        "df_air.set_index('fechas', inplace=True)\n",
        "df_air.index.freq = 'MS'\n",
        "\n",
        "# Quitar las columnas no necesarias\n",
        "df_air.drop(columns=['year', 'month', 'year_month'], inplace=True)\n",
        "\n",
        "df_air"
      ]
    },
    {
      "cell_type": "code",
      "execution_count": null,
      "id": "a8381d2b",
      "metadata": {
        "id": "a8381d2b"
      },
      "outputs": [],
      "source": [
        "# Visualizar el DataFrame creado con los datos de la serie temporal\n",
        "plt.plot(df_air)\n",
        "plt.show()"
      ]
    },
    {
      "cell_type": "code",
      "execution_count": null,
      "id": "38141c2e",
      "metadata": {
        "id": "38141c2e"
      },
      "outputs": [],
      "source": [
        "# Gráfica interactiva con Plotly\n",
        "import plotly.graph_objects as go\n",
        "fig = go.Figure()\n",
        "\n",
        "fig.add_trace(go.Scatter(\n",
        "    x=df_air.index,\n",
        "    y=df_air['passengers'],\n",
        "    mode=\"markers+lines\"\n",
        "    ))\n",
        "\n",
        "fig.update_layout(title=\"Número de pasajeros aéreos de cada mes desde el año 1949 al 1960\",\n",
        "                  title_font_size=26,\n",
        "                  xaxis_title = 'Fecha',\n",
        "                  yaxis_title= 'Pasajeros'\n",
        "                  )\n",
        "\n",
        "fig.show()"
      ]
    },
    {
      "cell_type": "markdown",
      "id": "afe29c6c",
      "metadata": {
        "id": "afe29c6c"
      },
      "source": [
        "## Time Series Forecasting"
      ]
    },
    {
      "cell_type": "markdown",
      "id": "2fd021e0",
      "metadata": {
        "id": "2fd021e0"
      },
      "source": [
        "#### Preparación de conjuntos de entrenamiento y prueba:\n",
        "\n",
        "En primer lugar debemos crear dos conjuntos diferentes para poder entrenar el modelo con uno y poder analizar los resultados del modelo en un periodo de prueba, del modo que para el modelo cuente como _\"futuro\"_.\n",
        "\n",
        "El tamaño mínimo del conjunto de test tiene que cubrir el horizonte de predicción. Procedemos a crear modelos que sean capaces de predecir los próximos 12 meses.\n",
        "\n",
        "- **Test**: El último año\n",
        "- **Training**: Todo el histórico salvo el último año"
      ]
    },
    {
      "cell_type": "markdown",
      "id": "bafca257",
      "metadata": {
        "id": "bafca257"
      },
      "source": [
        "![traintest-1.png](attachment:traintest-1.png)"
      ]
    },
    {
      "cell_type": "code",
      "execution_count": null,
      "id": "43733d8c",
      "metadata": {
        "id": "43733d8c"
      },
      "outputs": [],
      "source": [
        "# Definir el periodo de prueba (horizonte de predicción)\n",
        "horizonte = 12  # La cantidad de puntos a predecir\n",
        "df_test = df_air.tail(horizonte)\n",
        "df_test"
      ]
    },
    {
      "cell_type": "code",
      "execution_count": null,
      "id": "933d5fac",
      "metadata": {
        "id": "933d5fac"
      },
      "outputs": [],
      "source": [
        "# Filtrar la serie original para sacar el periodo de entrenamiento\n",
        "df_train = df_air[df_air.index.isin(df_test.index)==False]\n",
        "df_train"
      ]
    },
    {
      "cell_type": "code",
      "execution_count": null,
      "id": "2ecedeaf",
      "metadata": {
        "id": "2ecedeaf"
      },
      "outputs": [],
      "source": [
        "# Comprobar las dimensiones de los conjuntos de datos creados\n",
        "print(\"tamaño del dataset: \", len(df_air))\n",
        "print(\"tamaño de los datos de entrenamiento: \", len(df_train))\n",
        "print(\"tamaño de los datos de test: \", len(df_test))"
      ]
    },
    {
      "cell_type": "markdown",
      "id": "37bd83f6",
      "metadata": {
        "id": "37bd83f6"
      },
      "source": [
        "Visualizamos de forma interactiva los periodos marcados como entrenamiento y prueba."
      ]
    },
    {
      "cell_type": "code",
      "execution_count": null,
      "id": "2e81ca59",
      "metadata": {
        "id": "2e81ca59"
      },
      "outputs": [],
      "source": [
        "import plotly.graph_objects as go\n",
        "fig = go.Figure()\n",
        "\n",
        "fig.add_trace(go.Scatter(\n",
        "    x=df_train.index,\n",
        "    y=df_train['passengers'],\n",
        "    name=\"Entrenamiento\",\n",
        "    mode=\"lines\"\n",
        "    ))\n",
        "\n",
        "fig.add_trace(go.Scatter(\n",
        "    x=df_test.index,\n",
        "    y=df_test['passengers'],\n",
        "    name=\"Test\",\n",
        "    mode=\"markers+lines\"\n",
        "    ))\n",
        "\n",
        "\n",
        "fig.update_layout(title=\"Número de pasajeros aéreos de cada mes desde el año 1949 al 1960\",\n",
        "                  title_font_size=22,\n",
        "                  xaxis_title = 'Fecha',\n",
        "                  yaxis_title= 'Pasajeros'\n",
        "                  )\n",
        "\n",
        "fig.show()"
      ]
    },
    {
      "cell_type": "markdown",
      "id": "3607e134",
      "metadata": {
        "id": "3607e134"
      },
      "source": [
        "### **Benchmark Models**"
      ]
    },
    {
      "cell_type": "markdown",
      "id": "1fe03a61",
      "metadata": {
        "id": "1fe03a61"
      },
      "source": [
        "En el proceso de modelado, los modelos de referencia (**benchmarks**) son modelos simples y fáciles de implementar que sirven como referencia para **evaluar el rendimiento de modelos más complejos**.\n",
        "\n",
        "Los modelos de referencia se utilizan a menudo para **establecer un nivel mínimo de rendimiento** que debe superar un modelo más complejo para que se considere útil."
      ]
    },
    {
      "cell_type": "markdown",
      "id": "dc46b148",
      "metadata": {
        "id": "dc46b148"
      },
      "source": [
        "### Average Model"
      ]
    },
    {
      "cell_type": "markdown",
      "id": "eadfac47",
      "metadata": {
        "id": "eadfac47"
      },
      "source": [
        "En este primer modelo básici, las predicciones de todos los valores futuros son iguales al _promedio_ (**\"media\"**) de los datos históricos."
      ]
    },
    {
      "cell_type": "code",
      "execution_count": null,
      "id": "5922e8b9",
      "metadata": {
        "id": "5922e8b9"
      },
      "outputs": [],
      "source": [
        "# Calcular la media de los valores históricos\n",
        "df_train.mean()"
      ]
    },
    {
      "cell_type": "code",
      "execution_count": null,
      "id": "3c76f7fa",
      "metadata": {
        "id": "3c76f7fa"
      },
      "outputs": [],
      "source": [
        "# Crear predicciones iguales al promedio\n",
        "media = df_train.mean().values[0]\n",
        "pred_avg = pd.DataFrame(data=[media]*df_test.size, index=df_test.index, columns=['pred'])\n",
        "pred_avg"
      ]
    },
    {
      "cell_type": "code",
      "execution_count": null,
      "id": "75080dbb",
      "metadata": {
        "id": "75080dbb"
      },
      "outputs": [],
      "source": [
        "plt.plot(df_test, label='Test')\n",
        "plt.plot(pred_avg, label='Predicción - Average')\n",
        "plt.title(\"Datos reales vs. Predicción del modelo (Out-of-Sample forecasting)\")\n",
        "plt.legend()\n",
        "plt.show()"
      ]
    },
    {
      "cell_type": "markdown",
      "id": "fa0abd37",
      "metadata": {
        "id": "fa0abd37"
      },
      "source": [
        "Creamos la gráfica de _plotly_, donde claramente se ve que este modelo tiene una caída considerable en las predicciones de la serie temporal."
      ]
    },
    {
      "cell_type": "code",
      "execution_count": null,
      "id": "5acf29ce",
      "metadata": {
        "id": "5acf29ce"
      },
      "outputs": [],
      "source": [
        "import plotly.graph_objects as go\n",
        "fig = go.Figure()\n",
        "\n",
        "fig.add_trace(go.Scatter(\n",
        "    x=df_train.index,\n",
        "    y=df_train['passengers'],\n",
        "    name=\"Entrenamiento\",\n",
        "    mode=\"lines\"\n",
        "    ))\n",
        "\n",
        "fig.add_trace(go.Scatter(\n",
        "    x=df_test.index,\n",
        "    y=df_test['passengers'],\n",
        "    name=\"Test\",\n",
        "    mode=\"lines\"\n",
        "    ))\n",
        "\n",
        "\n",
        "fig.add_trace(go.Scatter(\n",
        "    x=pred_avg.index,\n",
        "    y=pred_avg['pred'],\n",
        "    name=\"Predicción (Average Model)\",\n",
        "    mode=\"markers+lines\"\n",
        "    ))\n",
        "\n",
        "\n",
        "\n",
        "fig.update_layout(title=\"Número de pasajeros aéreos de cada mes desde el año 1949 al 1960\",\n",
        "                  title_font_size=22,\n",
        "                  xaxis_title = 'Fecha',\n",
        "                  yaxis_title= 'Pasajeros'\n",
        "                  )\n",
        "\n",
        "fig.show()"
      ]
    },
    {
      "cell_type": "markdown",
      "id": "9d35d864",
      "metadata": {
        "id": "9d35d864"
      },
      "source": [
        "### Naïve model (**Random Walk**)\n"
      ]
    },
    {
      "cell_type": "markdown",
      "id": "cfceb175",
      "metadata": {
        "id": "cfceb175"
      },
      "source": [
        "El método **Naïve** o de **persistencia**, simplemente considera que todas las predicciones son iguales que al valor de la **última observación**. Este método funciona **notablemente bien** para muchas series temporales `económicas` y `financieras`.\n",
        "\n",
        "Debido a que un pronóstico ingenuo es óptimo cuando los datos siguen un recorrido aleatorio, también se denominan como ***random walk***."
      ]
    },
    {
      "cell_type": "code",
      "execution_count": null,
      "id": "beab3968",
      "metadata": {
        "id": "beab3968"
      },
      "outputs": [],
      "source": [
        "# Sacar el último valor de la serie de entrenamiento\n",
        "df_train.tail(1)"
      ]
    },
    {
      "cell_type": "code",
      "execution_count": null,
      "id": "e67122c8",
      "metadata": {
        "id": "e67122c8"
      },
      "outputs": [],
      "source": [
        "# Crear las predicciones para el modelo \"random walk\"\n",
        "ultimo = df_train.tail(1).values[0]\n",
        "pred_rw = pd.DataFrame(data=[ultimo]*df_test.size, index=df_test.index, columns=['pred'])\n",
        "pred_rw"
      ]
    },
    {
      "cell_type": "code",
      "execution_count": null,
      "id": "73db94b9",
      "metadata": {
        "id": "73db94b9"
      },
      "outputs": [],
      "source": [
        "plt.plot(df_test, label='Test')\n",
        "plt.plot(pred_rw, label='Predicción - Naive (Random Walk)')\n",
        "plt.title(\"Datos reales vs. Predicción del modelo (Out-of-Sample forecasting)\")\n",
        "plt.legend()\n",
        "plt.show()"
      ]
    },
    {
      "cell_type": "markdown",
      "id": "a5d16dd8",
      "metadata": {
        "id": "a5d16dd8"
      },
      "source": [
        "Podemos observar que respecto al modelo anterior, al menos no presenciamos una caída en el nivel de los valores predichos."
      ]
    },
    {
      "cell_type": "code",
      "execution_count": null,
      "id": "b039723e",
      "metadata": {
        "id": "b039723e"
      },
      "outputs": [],
      "source": [
        "import plotly.graph_objects as go\n",
        "fig = go.Figure()\n",
        "\n",
        "fig.add_trace(go.Scatter(\n",
        "    x=df_train.index,\n",
        "    y=df_train['passengers'],\n",
        "    name=\"Entrenamiento\",\n",
        "    mode=\"lines\"\n",
        "    ))\n",
        "\n",
        "fig.add_trace(go.Scatter(\n",
        "    x=df_test.index,\n",
        "    y=df_test['passengers'],\n",
        "    name=\"Test\",\n",
        "    mode=\"lines\"\n",
        "    ))\n",
        "\n",
        "\n",
        "fig.add_trace(go.Scatter(\n",
        "    x=pred_rw.index,\n",
        "    y=pred_rw['pred'],\n",
        "    name=\"Predicción (Random Walk)\",\n",
        "    mode=\"markers+lines\"\n",
        "    ))\n",
        "\n",
        "\n",
        "\n",
        "fig.update_layout(title=\"Número de pasajeros aéreos de cada mes desde el año 1949 al 1960\",\n",
        "                  title_font_size=22,\n",
        "                  xaxis_title = 'Fecha',\n",
        "                  yaxis_title= 'Pasajeros'\n",
        "                  )\n",
        "\n",
        "fig.show()"
      ]
    },
    {
      "cell_type": "markdown",
      "id": "1588fbc0",
      "metadata": {
        "id": "1588fbc0"
      },
      "source": [
        "### Drift Model"
      ]
    },
    {
      "cell_type": "markdown",
      "id": "bd3b7eee",
      "metadata": {
        "id": "bd3b7eee"
      },
      "source": [
        "Una variación del método ingenuo (_random walk_) es permitir que los valores a predecir aumenten o disminuyan con el tiempo, donde la cantidad de cambio con el tiempo se establece como el **cambio promedio observado** en los datos históricos."
      ]
    },
    {
      "cell_type": "markdown",
      "id": "16abecf6",
      "metadata": {
        "id": "16abecf6"
      },
      "source": [
        "![drift.JPG](attachment:drift.JPG)"
      ]
    },
    {
      "cell_type": "markdown",
      "id": "ed52f892",
      "metadata": {
        "id": "ed52f892"
      },
      "source": [
        "\n",
        "\n",
        "Esto es equivalente a trazar **una línea entre la primera y la última observación** y extrapolarla al futuro."
      ]
    },
    {
      "cell_type": "code",
      "execution_count": null,
      "id": "20ee3b6b",
      "metadata": {
        "id": "20ee3b6b"
      },
      "outputs": [],
      "source": [
        "# Calcular las predicciones del método \"random walk with drift\"\n",
        "pendiente = (df_train.values[-1] - df_train.values[0]) / (len(df_train) - 1)\n",
        "datos_drift = [df_train.values[-1] + pendiente*x for x in range(1, horizonte+1)]\n",
        "pred_drift = pd.DataFrame(data=datos_drift, index=df_test.index, columns=['pred'])\n",
        "pred_drift"
      ]
    },
    {
      "cell_type": "code",
      "execution_count": null,
      "id": "ed6796af",
      "metadata": {
        "id": "ed6796af"
      },
      "outputs": [],
      "source": [
        "plt.plot(df_test, label='Test')\n",
        "plt.plot(pred_drift, label='Predicción - Drift method')\n",
        "plt.title(\"Datos reales vs. Predicción del modelo (Out-of-Sample forecasting)\")\n",
        "plt.legend()\n",
        "plt.show()"
      ]
    },
    {
      "cell_type": "markdown",
      "id": "0db4d043",
      "metadata": {
        "id": "0db4d043"
      },
      "source": [
        "Se ve que el nivel de los valores predichos aumenta a lo largo del tiempo, de acuerdo al cambio incremental en el nivel de la serie temporal."
      ]
    },
    {
      "cell_type": "code",
      "execution_count": null,
      "id": "4cfafdba",
      "metadata": {
        "id": "4cfafdba"
      },
      "outputs": [],
      "source": [
        "import plotly.graph_objects as go\n",
        "fig = go.Figure()\n",
        "\n",
        "fig.add_trace(go.Scatter(\n",
        "    x=df_train.index,\n",
        "    y=df_train['passengers'],\n",
        "    name=\"Entrenamiento\",\n",
        "    mode=\"lines\"\n",
        "    ))\n",
        "\n",
        "fig.add_trace(go.Scatter(\n",
        "    x=df_test.index,\n",
        "    y=df_test['passengers'],\n",
        "    name=\"Test\",\n",
        "    mode=\"lines\"\n",
        "    ))\n",
        "\n",
        "\n",
        "fig.add_trace(go.Scatter(\n",
        "    x=pred_drift.index,\n",
        "    y=pred_drift['pred'],\n",
        "    name=\"Predicción (Drift)\",\n",
        "    mode=\"markers+lines\"\n",
        "    ))\n",
        "\n",
        "\n",
        "fig.update_layout(title=\"Número de pasajeros aéreos de cada mes desde el año 1949 al 1960\",\n",
        "                  title_font_size=22,\n",
        "                  xaxis_title = 'Fecha',\n",
        "                  yaxis_title= 'Pasajeros'\n",
        "                  )\n",
        "\n",
        "fig.show()"
      ]
    },
    {
      "cell_type": "markdown",
      "id": "6e1b7921",
      "metadata": {
        "id": "6e1b7921"
      },
      "source": [
        "### Seasonal Naïve model"
      ]
    },
    {
      "cell_type": "markdown",
      "id": "7e062208",
      "metadata": {
        "id": "7e062208"
      },
      "source": [
        "Un método útil para datos altamente estacionales consiste en que cada predicción sea igual al último valor observado de la misma temporada, por ejemplo el mismo mes del año anterior."
      ]
    },
    {
      "cell_type": "code",
      "execution_count": null,
      "id": "98f58912",
      "metadata": {
        "id": "98f58912"
      },
      "outputs": [],
      "source": [
        "# Sacar el último periodo (el último año) de la serie de entrenamiento\n",
        "df_train.tail(12)"
      ]
    },
    {
      "cell_type": "code",
      "execution_count": null,
      "id": "4344471d",
      "metadata": {
        "id": "4344471d"
      },
      "outputs": [],
      "source": [
        "pred_sn = pd.DataFrame(data=df_train.tail(12).values, index=df_test.index, columns=['pred'])\n",
        "pred_sn"
      ]
    },
    {
      "cell_type": "code",
      "execution_count": null,
      "id": "8722ad4d",
      "metadata": {
        "id": "8722ad4d"
      },
      "outputs": [],
      "source": [
        "plt.plot(df_test, label='Test')\n",
        "plt.plot(pred_sn, label='Predicción - Seasonal Naïve')\n",
        "plt.title(\"Datos reales vs. Predicción del modelo (Out-of-Sample forecasting)\")\n",
        "plt.legend()\n",
        "plt.show()"
      ]
    },
    {
      "cell_type": "markdown",
      "id": "c90366ef",
      "metadata": {
        "id": "c90366ef"
      },
      "source": [
        "Se puede apreciar que **la replica del año anterior** sigue mucho mejor la evolución de los valores reales. Sin embargo, claramente existe un **sesgo en la predicción** por no contar con el aumento en el nivel de los pasajeros en egeneral de acuerdo a la **tendencia global** de la serie temporal.  "
      ]
    },
    {
      "cell_type": "code",
      "execution_count": null,
      "id": "5dcb0f1f",
      "metadata": {
        "id": "5dcb0f1f"
      },
      "outputs": [],
      "source": [
        "import plotly.graph_objects as go\n",
        "fig = go.Figure()\n",
        "\n",
        "fig.add_trace(go.Scatter(\n",
        "    x=df_train.index,\n",
        "    y=df_train['passengers'],\n",
        "    name=\"Entrenamiento\",\n",
        "    mode=\"lines\"\n",
        "    ))\n",
        "\n",
        "fig.add_trace(go.Scatter(\n",
        "    x=df_test.index,\n",
        "    y=df_test['passengers'],\n",
        "    name=\"Test\",\n",
        "    mode=\"lines\"\n",
        "    ))\n",
        "\n",
        "fig.add_trace(go.Scatter(\n",
        "    x=pred_sn.index,\n",
        "    y=pred_sn['pred'],\n",
        "    name=\"Predicción (Seasonal Naive)\",\n",
        "    mode=\"markers+lines\"\n",
        "    ))\n",
        "\n",
        "fig.update_layout(title=\"Número de pasajeros aéreos de cada mes desde el año 1949 al 1960\",\n",
        "                  title_font_size=22,\n",
        "                  xaxis_title = 'Fecha',\n",
        "                  yaxis_title= 'Pasajeros'\n",
        "                  )\n",
        "\n",
        "fig.show()"
      ]
    },
    {
      "cell_type": "markdown",
      "id": "b58496c6",
      "metadata": {
        "id": "b58496c6"
      },
      "source": [
        "### **In-Sample** Model Evaluation"
      ]
    },
    {
      "cell_type": "markdown",
      "id": "37a84391",
      "metadata": {
        "id": "37a84391"
      },
      "source": [
        "La evaluación dentro de la muestra (_In-sample evaluation_) consiste en **evaluar las estimaciones del modelo** para el mismo conjunto de **datos utilizados en el proceso de entrenamiento**. Si bien esta evaluación proporciona información sobre qué tan bien se ajusta el modelo a los datos disponibles, **no ofrece una información** respecto a la **capacidad de generalización del modelo** a los datos nuevos y no vistos anteriormente.\n",
        "\n",
        "Algunas medidas comunes utilizadas para evaluar el ajuste dentro de la muestra de un modelo de serie temporal incluyen:\n",
        "\n",
        "- **Residuales**: Los errores de predicción en el conjunto de entrenamiento son loa valores residuales del modelo que deben estar **en torno a cero** y **no deben exhibir ningún patrón** concreto.\n",
        "\n",
        "- **Calidad de ajuste (_Goodness-of-fit_)**: El coeficiente de **R-cuadrado**, el criterio de información de Akaike (**AIC**), el criterio de información bayesiano (**BIC**) son estadísticas que se pueden utilizar para **comparar el ajuste de diferentes modelos** y seleccionar el mejor modelo. Tanto _AIC_ como _BIC_ son medidas de la **compensación entre la calidad de ajuste del modelo y la complejidad** del mismo. Cuanto **menor** sea la puntuación _AIC_ o _BIC_, **mejor** se ajustará el modelo a los datos."
      ]
    },
    {
      "cell_type": "markdown",
      "id": "73d65c6c",
      "metadata": {
        "id": "73d65c6c"
      },
      "source": [
        "La evaluación dentro del periodo de entrenamiento **no debe usarse como el único criterio** para seleccionar un modelo de serie temporal. El sobreajuste o el ___Overfitting___ puede ocurrir cuando un modelo es **demasiado complejo** y se ajusta demasiado bien a los datos disponibles, lo que da como resultado **un rendimiento muy pobre de generalización** en datos nuevos. Por lo tanto, la evaluación fuera de la muestra (_Out-of-sample evaluation_) es esencial para valorar la calidad de los modelos de series temporales."
      ]
    },
    {
      "cell_type": "markdown",
      "id": "212055a2",
      "metadata": {
        "id": "212055a2"
      },
      "source": [
        "![fifth-order-overfit.png](attachment:fifth-order-overfit.png)"
      ]
    },
    {
      "cell_type": "markdown",
      "id": "5cf9e31b",
      "metadata": {
        "id": "5cf9e31b"
      },
      "source": [
        "#### Forecasing accuracy"
      ]
    },
    {
      "cell_type": "markdown",
      "id": "e078cfd3",
      "metadata": {
        "id": "e078cfd3"
      },
      "source": [
        "Hay diferentes métricas para **evaluar las predicciones generadas** por un modelo de series temporales **al igual que los modelos de regresión**. La mayoría de estas medidas se basan en la **similitud de los valores predichos con reales**.\n",
        "\n",
        "**El error de un modelo de series temporales** es la diferencia entre los datos reales y las predicciones del modelo. El error puede ser determinado de multiples maneras:\n",
        "\n",
        "- Error medio absoluto (**MAE**) es la media del valor absoluto de los errores.\n",
        "- Error cuadrático medio (**MSE**) es la media de los errores al cuadrado.\n",
        "- Error medio absoluto porcentual (**MAPE**) es la media del porcentaje de errores absoluto. Nos hace una idea sobre el porcentaje de error, aunque no funciona tan bien si tenemos datos cerca de cero.\n",
        "- Raiz cuadrada del error cuadrático medio (**RMSE**) es la raíz cuadrada de la anterior medida."
      ]
    },
    {
      "cell_type": "markdown",
      "id": "5d2b1571",
      "metadata": {
        "id": "5d2b1571"
      },
      "source": [
        "![formula-MAE-MSE-RMSE-RSquared.JPG](attachment:formula-MAE-MSE-RMSE-RSquared.JPG)"
      ]
    },
    {
      "cell_type": "markdown",
      "id": "b1ff0780",
      "metadata": {
        "id": "b1ff0780"
      },
      "source": [
        "**R-cuadrado** (también se conoce como **coeficiente de determinación**) no es un error, si no, una métrica popular para la precisión del modelo. Determina la **`capacidad de un modelo para predecir futuros resultados`**, es decir, representa como de cerca a realidad están los valores de los datos de la línea de regresión ajustada.\n",
        "\n",
        "El mejor resultado posible es 1.0, y ocurre cuando la predicción coincide con los valores de la variable objetivo. $R^{2}$ puede tomar valores negativos pues la predicción puede ser arbitrariamente mala. Cuanto **más alto sea el $R^{2}$, mejor** encaja el modelo a los datos."
      ]
    },
    {
      "cell_type": "markdown",
      "id": "a6f5b213",
      "metadata": {
        "id": "a6f5b213"
      },
      "source": [
        "Ahora consultamos las métricas de calidad de cada modelo sobre el periodo de prueba, del mismo modo de modelos de **regresión** mediante la librería _sklearn_:"
      ]
    },
    {
      "cell_type": "code",
      "execution_count": null,
      "id": "db0fc532",
      "metadata": {
        "id": "db0fc532"
      },
      "outputs": [],
      "source": [
        "from sklearn.metrics import mean_absolute_error\n",
        "from sklearn.metrics import mean_absolute_percentage_error\n",
        "from sklearn.metrics import mean_squared_error\n",
        "from sklearn.metrics import r2_score\n",
        "\n",
        "# Métricas de evaluación del modelo\n",
        "print(\"Out-of-sample performance:  Average Model\")\n",
        "print('Mean Absolute Error (MAE):', mean_absolute_error(df_test, pred_avg))\n",
        "print('Mean Absolute Percentage Error:', mean_absolute_percentage_error(df_test, pred_avg)*100)\n",
        "print('Mean Squared Error (MSE):', mean_squared_error(df_test, pred_avg))\n",
        "print('Root Mean Squared Error (RMSE):', np.sqrt(mean_squared_error(df_test, pred_avg)))\n",
        "print('R^2 coefficient of determination:', r2_score(df_test, pred_avg))"
      ]
    },
    {
      "cell_type": "markdown",
      "id": "2ac5de77",
      "metadata": {
        "id": "2ac5de77"
      },
      "source": [
        "La librería _statsmodels_ también dispone de métodos propios para sacar algunas de estas métricas:"
      ]
    },
    {
      "cell_type": "code",
      "execution_count": null,
      "id": "5236dbec",
      "metadata": {
        "id": "5236dbec"
      },
      "outputs": [],
      "source": [
        "from statsmodels.tools.eval_measures import meanabs\n",
        "from statsmodels.tools.eval_measures import mse\n",
        "from statsmodels.tools.eval_measures import rmse\n",
        "\n",
        "print(\"Out-of-sample performance:  Average Model\")\n",
        "print('Mean Absolute Error (MAE) by (statsmodels):', meanabs(df_test, pred_avg))\n",
        "print('Mean Squared Error (MSE) by (statsmodels):', mse(df_test, pred_avg))\n",
        "print('Root Mean Squared Error (RMSE) by (statsmodels):', rmse(df_test, pred_avg))"
      ]
    },
    {
      "cell_type": "code",
      "execution_count": null,
      "id": "1db9ee7a",
      "metadata": {
        "id": "1db9ee7a"
      },
      "outputs": [],
      "source": [
        "# Métricas de evaluación del modelo\n",
        "print(\"Out-of-sample performance:  Random Walk (persistencia)\")\n",
        "print('Mean Absolute Error (MAE):', mean_absolute_error(df_test, pred_rw))\n",
        "print('Mean Absolute Percentage Error:', mean_absolute_percentage_error(df_test, pred_rw)*100)\n",
        "print('Mean Squared Error (MSE):', mean_squared_error(df_test, pred_rw))\n",
        "print('Root Mean Squared Error (RMSE):', np.sqrt(mean_squared_error(df_test, pred_rw)))\n",
        "print('R^2 coefficient of determination:', r2_score(df_test, pred_rw))"
      ]
    },
    {
      "cell_type": "code",
      "execution_count": null,
      "id": "e0b871f2",
      "metadata": {
        "id": "e0b871f2"
      },
      "outputs": [],
      "source": [
        "# Métricas de evaluación del modelo\n",
        "print(\"Out-of-sample performance:  Drift method\")\n",
        "print('Mean Absolute Error (MAE):', mean_absolute_error(df_test, pred_drift))\n",
        "print('Mean Absolute Percentage Error:', mean_absolute_percentage_error(df_test, pred_drift)*100)\n",
        "print('Mean Squared Error (MSE):', mean_squared_error(df_test, pred_drift))\n",
        "print('Root Mean Squared Error (RMSE):', np.sqrt(mean_squared_error(df_test, pred_drift)))\n",
        "print('R^2 coefficient of determination:', r2_score(df_test, pred_drift))"
      ]
    },
    {
      "cell_type": "code",
      "execution_count": null,
      "id": "b0a7057d",
      "metadata": {
        "id": "b0a7057d"
      },
      "outputs": [],
      "source": [
        "# Métricas de evaluación del modelo\n",
        "print(\"Out-of-sample performance:  Seasonal Naive\")\n",
        "print('Mean Absolute Error (MAE):', mean_absolute_error(df_test, pred_sn))\n",
        "print('Mean Absolute Percentage Error:', mean_absolute_percentage_error(df_test, pred_sn)*100)\n",
        "print('Mean Squared Error (MSE):', mean_squared_error(df_test, pred_sn))\n",
        "print('Root Mean Squared Error (RMSE):', np.sqrt(mean_squared_error(df_test, pred_sn)))\n",
        "print('R^2 coefficient of determination:', r2_score(df_test, pred_sn))"
      ]
    },
    {
      "cell_type": "markdown",
      "id": "f1f1bba0",
      "metadata": {
        "id": "f1f1bba0"
      },
      "source": [
        "**Benchmark results**"
      ]
    },
    {
      "cell_type": "markdown",
      "id": "0b19d366",
      "metadata": {
        "id": "0b19d366"
      },
      "source": [
        "Como podemos observar estos modelos de referncia generan un rendimiento de base que por ser superado por otros modelos pueden indicar la utilidad de usarlos. Graficamos el error absoluto medio en la predicción del último año con estos modelos de Benchmarks:"
      ]
    },
    {
      "cell_type": "code",
      "execution_count": null,
      "id": "9699b863",
      "metadata": {
        "id": "9699b863"
      },
      "outputs": [],
      "source": [
        "df_metricas = pd.DataFrame({\"Modelo\": ['Average', 'Random Walk', 'Drift', 'Seasonal Naive'],\n",
        "                            \"MAE\": [213.67, 76.0, 66.31, 47.83]})\n",
        "\n",
        "sns.lineplot(data=df_metricas, x=df_metricas['Modelo'], y=df_metricas['MAE'], marker='s')\n",
        "plt.ylim(20,220)\n",
        "plt.show()"
      ]
    },
    {
      "cell_type": "markdown",
      "id": "c9d6331f",
      "metadata": {
        "id": "c9d6331f"
      },
      "source": [
        "---"
      ]
    },
    {
      "cell_type": "markdown",
      "id": "ceb78889",
      "metadata": {
        "id": "ceb78889"
      },
      "source": [
        "### Modelos de Autoregresión (AR)"
      ]
    },
    {
      "cell_type": "markdown",
      "id": "c5c7e665",
      "metadata": {
        "id": "c5c7e665"
      },
      "source": [
        "Los modelos tipo AR (**Autoregressive Models**), son un enfoque popular para la previsión de series temporales que se basa en la idea de que **los valores pasados de una serie temporal se pueden utilizar para predecir sus valores futuros**. Es decir, el valor un paso de tiempo dado se modela como una **combinación lineal de sus valores pasados**, y los coeficientes de la combinación lineal se estiman a partir de los datos disponibles en el periodo de entrenamiento.\n",
        "\n",
        "El método **`AutoReg`** tiene un parámetro como el orden de la autorregresión (___p___) que determina el **número de valores pasados** de la serie temporal que se utilizan para predecir el valor actual.\n",
        "\n",
        "Este se puede escribir como:\n",
        "\n",
        "$y_t = c + φ_1y(t-1) + φ_2y(t-2) + … + φ_p*y(t-p) + ε_t$\n",
        "\n",
        "donde $y_t$ es el valor de la serie temporal en el tiempo $t$, $c$ es un término constante, $φ_1, φ_2, …, φ_p$ son los coeficientes autorregresivos y $ε_t$ es un término de error de ruido blanco. Estos coeficientes autorregresivos se estiman mediante el método de máxima verosimilitud (_Maximum Likelihood_) o regresión de mínimos cuadrados (_OLS_)."
      ]
    },
    {
      "cell_type": "markdown",
      "id": "19987e74",
      "metadata": {
        "id": "19987e74"
      },
      "source": [
        "Como sabemos que nuestros datos tienen una dependencia a los valores pasados generamos un modelo ___AR(12)___"
      ]
    },
    {
      "cell_type": "code",
      "execution_count": null,
      "id": "bd7ada97",
      "metadata": {
        "id": "bd7ada97"
      },
      "outputs": [],
      "source": [
        "from statsmodels.tsa.ar_model import AutoReg\n",
        "\n",
        "modelo_ar = AutoReg(df_train, lags=12)\n",
        "modelo_ar"
      ]
    },
    {
      "cell_type": "code",
      "execution_count": null,
      "id": "e67ba730",
      "metadata": {
        "id": "e67ba730"
      },
      "outputs": [],
      "source": [
        "# Ajustar el modelo a los datos de entrenamiento\n",
        "fit_ar = modelo_ar.fit()\n",
        "fit_ar\n"
      ]
    },
    {
      "cell_type": "markdown",
      "id": "6af22ca4",
      "metadata": {
        "id": "6af22ca4"
      },
      "source": [
        "El método `.summary()` en muchos modelos de la librería `statsmodels` proporciona un resumen de los resultados y la calidad del modelo ajustado:\n",
        "\n",
        "- **Modelo**: Esta sección proporciona una breve descripción del modelo, incluida la variable dependiente, el método utilizado para ajustar el modelo y el número de observaciones y parámetros.\n",
        "\n",
        "- **Criterios de información**: esta sección proporciona varios criterios de información, como el criterio de información de Akaike (_AIC_) y el criterio de información bayesiano (_BIC_), que se pueden utilizar para comparar el ajuste de diferentes modelos.\n",
        "\n",
        "- **Coeficientes**: esta sección enumera los coeficientes estimados para cada variable de retraso (_lags_)."
      ]
    },
    {
      "cell_type": "code",
      "execution_count": null,
      "id": "4c8c38e1",
      "metadata": {
        "id": "4c8c38e1"
      },
      "outputs": [],
      "source": [
        "fit_ar.summary()"
      ]
    },
    {
      "cell_type": "markdown",
      "id": "57aa4c2a",
      "metadata": {
        "id": "57aa4c2a"
      },
      "source": [
        "#### Fitted-Model Evaluation"
      ]
    },
    {
      "cell_type": "markdown",
      "id": "4a1e7d6e",
      "metadata": {
        "id": "4a1e7d6e"
      },
      "source": [
        "Ahora podemos analizar hasta qué punto se ha ajustado este modelo a los datos de entrenamiento (___In-sample model evaluation___). Básicamente calculamos la estimación del modelo para cada observación en este periodo como la predicción de un paso adelante (___one-step-ahead forecast___)"
      ]
    },
    {
      "cell_type": "markdown",
      "id": "b8d7588b",
      "metadata": {
        "id": "b8d7588b"
      },
      "source": [
        "Podemos extraer los valores ajustados o las estimaciones del modelo de serie temporal mediante el atributo `fittedvalues`"
      ]
    },
    {
      "cell_type": "code",
      "execution_count": null,
      "id": "a4a3285e",
      "metadata": {
        "id": "a4a3285e"
      },
      "outputs": [],
      "source": [
        "# Consultamos los valores ajustados en el periodo de entrenamiento\n",
        "estim_ar = fit_ar.fittedvalues\n",
        "estim_ar"
      ]
    },
    {
      "cell_type": "code",
      "execution_count": null,
      "id": "34e49331",
      "metadata": {
        "id": "34e49331"
      },
      "outputs": [],
      "source": [
        "plt.plot(df_train, label='Entrenamiento')\n",
        "plt.plot(estim_ar, label='Estimación AR(12)')\n",
        "plt.title(\"Datos reales vs. Estimación del modelo (In-Sample forecasting)\")\n",
        "plt.legend()\n",
        "plt.show()"
      ]
    },
    {
      "cell_type": "markdown",
      "id": "30e50287",
      "metadata": {
        "id": "30e50287"
      },
      "source": [
        "Vemos que existe una diferencia entre el periodo de entrenamiento y el de valores estimados por el modelo:"
      ]
    },
    {
      "cell_type": "code",
      "execution_count": null,
      "id": "39dd93ce",
      "metadata": {
        "id": "39dd93ce"
      },
      "outputs": [],
      "source": [
        "print(\"La diferencia del tamaño de datos = \", len(df_train) - len(estim_ar))"
      ]
    },
    {
      "cell_type": "markdown",
      "id": "3088006d",
      "metadata": {
        "id": "3088006d"
      },
      "source": [
        "Esto pasa por la necesidad del modelo de **disponer de un conjunto mínimo de muestras** para poder generar una predicción. Otra forma de recuperar los valores ajustados por el modelo sería sacar la predicción por defecto usando el método `.predict()` que nos devuelve un **objeto con el mimo tamaño** que los datos de entrenamiento:"
      ]
    },
    {
      "cell_type": "code",
      "execution_count": null,
      "id": "68d33267",
      "metadata": {
        "id": "68d33267"
      },
      "outputs": [],
      "source": [
        "estim_ar_train = fit_ar.predict()\n",
        "estim_ar_train"
      ]
    },
    {
      "cell_type": "code",
      "execution_count": null,
      "id": "2a83d9e6",
      "metadata": {
        "id": "2a83d9e6"
      },
      "outputs": [],
      "source": [
        "# Comparar los valores reales con la estimación del modelo\n",
        "sns.scatterplot(x=df_train.values.flatten(), y=estim_ar_train)\n",
        "plt.plot([100,600], [100,600], color='r', linestyle=':')\n",
        "plt.title(\"Valores reales vs. valores estimados (In-Sample forecasting) - AR(12)\")\n",
        "plt.show()"
      ]
    },
    {
      "cell_type": "markdown",
      "id": "ea1a13af",
      "metadata": {
        "id": "ea1a13af"
      },
      "source": [
        " Vamos a analizar los errores en el periodo de entrenamiento."
      ]
    },
    {
      "cell_type": "code",
      "execution_count": null,
      "id": "b0ffbac8",
      "metadata": {
        "id": "b0ffbac8"
      },
      "outputs": [],
      "source": [
        "erorr_ar_train = pd.Series(data=df_train.values.flatten()-estim_ar_train.values.flatten(),\n",
        "                           index=df_train.index)\n",
        "erorr_ar_train"
      ]
    },
    {
      "cell_type": "markdown",
      "id": "5faa522d",
      "metadata": {
        "id": "5faa522d"
      },
      "source": [
        "Los errores dentro del periodo de entrenamiento, también se consideran como **valores residuales** que corresponden a la parte no capturada por el modelo. Un aspecto importante para evaluar el modelo ajustado a los datos de entrenamiento consiste en analizar las características de estos valores como el **componente residual** que idealmente serían como un **ruido blanco**:\n",
        "\n",
        "- **`Media cero`**\n",
        "- **`Varianza constante`**\n",
        "- **`Autocorrelación cero`**\n",
        "- **`Distribución normal`**"
      ]
    },
    {
      "cell_type": "code",
      "execution_count": null,
      "id": "0b677cd0",
      "metadata": {
        "id": "0b677cd0"
      },
      "outputs": [],
      "source": [
        "# Se pueden extraer directamente desde el modelo entrenado mediante el atributo \"resid\"\n",
        "resid_ar = fit_ar.resid\n",
        "resid_ar"
      ]
    },
    {
      "cell_type": "code",
      "execution_count": null,
      "id": "1433f19f",
      "metadata": {
        "id": "1433f19f"
      },
      "outputs": [],
      "source": [
        "# Las estadísticas del componente residual\n",
        "resid_ar.describe().round(3)"
      ]
    },
    {
      "cell_type": "code",
      "execution_count": null,
      "id": "caf0a06d",
      "metadata": {
        "id": "caf0a06d"
      },
      "outputs": [],
      "source": [
        "plt.plot(resid_ar)\n",
        "plt.title(\"Componente residual del modelo AR (In-Sample fitted errores)\")\n",
        "plt.axhline(y=0, color='r', linestyle=':')\n",
        "plt.show()"
      ]
    },
    {
      "cell_type": "code",
      "execution_count": null,
      "id": "8ebf31ff",
      "metadata": {
        "id": "8ebf31ff"
      },
      "outputs": [],
      "source": [
        "# El histograma del componente residual (in-sample-errors)\n",
        "sns.histplot(data=resid_ar, bins=50)\n",
        "plt.show()"
      ]
    },
    {
      "cell_type": "markdown",
      "id": "e4298d3a",
      "metadata": {
        "id": "e4298d3a"
      },
      "source": [
        "Vemos que los residuos tienen **la media cero**, nos fijamos en la varianza de estos valores."
      ]
    },
    {
      "cell_type": "code",
      "execution_count": null,
      "id": "1fde49ca",
      "metadata": {
        "id": "1fde49ca"
      },
      "outputs": [],
      "source": [
        "win = 20\n",
        "resid_ar_std = resid_ar.rolling(win).std().iloc[win-1::win]\n",
        "plt.plot(resid_ar_std, label='Desviación estándar')\n",
        "plt.axhline(y=9.6, color='r', linestyle='--')\n",
        "plt.title(\"Características estadísticas: Residual - AR(12)\")\n",
        "plt.ylim(0,50)\n",
        "plt.legend()\n",
        "plt.show()"
      ]
    },
    {
      "cell_type": "code",
      "execution_count": null,
      "id": "c982bc53",
      "metadata": {
        "id": "c982bc53"
      },
      "outputs": [],
      "source": [
        "from statsmodels.graphics.tsaplots import plot_acf\n",
        "\n",
        "rcParams['figure.figsize'] = 14, 7\n",
        "plot_acf(resid_ar, lags=37)\n",
        "plt.xticks(np.arange(37))\n",
        "plt.ylim(-1.1,1.1)\n",
        "plt.show()"
      ]
    },
    {
      "cell_type": "code",
      "execution_count": null,
      "id": "4ff2176f",
      "metadata": {
        "id": "4ff2176f"
      },
      "outputs": [],
      "source": [
        "from statsmodels.graphics.tsaplots import plot_pacf\n",
        "\n",
        "plot_pacf(resid_ar, lags=37, method='ywm')\n",
        "plt.xticks(np.arange(37))\n",
        "plt.ylim(-1.1,1.1)\n",
        "plt.show()"
      ]
    },
    {
      "cell_type": "markdown",
      "id": "6af43dc5",
      "metadata": {
        "id": "6af43dc5"
      },
      "source": [
        "Además de revisar las características estadísticas del componente residual, debemos asegurarnos de que **no haya ningún patrón** entre los errores y los valores de la serie o los valores estimados."
      ]
    },
    {
      "cell_type": "code",
      "execution_count": null,
      "id": "717e4b6e",
      "metadata": {
        "id": "717e4b6e"
      },
      "outputs": [],
      "source": [
        "# Coeficiente de correlación entre valores reales y los errores\n",
        "df_train['passengers'].corr(erorr_ar_train).round(4)"
      ]
    },
    {
      "cell_type": "code",
      "execution_count": null,
      "id": "c864ef96",
      "metadata": {
        "id": "c864ef96"
      },
      "outputs": [],
      "source": [
        "sns.scatterplot(x=df_train.values.flatten(), y=erorr_ar_train)\n",
        "plt.title(\"Valores reales versus valores residuales - AR(12)\")\n",
        "plt.show()"
      ]
    },
    {
      "cell_type": "code",
      "execution_count": null,
      "id": "9db68c96",
      "metadata": {
        "id": "9db68c96"
      },
      "outputs": [],
      "source": [
        "# Coeficiente de correlación entre valores estimados y los errores\n",
        "estim_ar.corr(resid_ar).round(6)"
      ]
    },
    {
      "cell_type": "code",
      "execution_count": null,
      "id": "4d19f39f",
      "metadata": {
        "id": "4d19f39f"
      },
      "outputs": [],
      "source": [
        "sns.scatterplot(x=estim_ar, y=resid_ar)\n",
        "plt.title(\"Valores estimados versus valores residuales - AR(12)\")\n",
        "plt.show()"
      ]
    },
    {
      "cell_type": "markdown",
      "id": "74c76ede",
      "metadata": {
        "id": "74c76ede"
      },
      "source": [
        "De forma resumida podemos investigar la calidad del modelo entrenado (_fitted model_) mediante varias gráficas que se pueden sacar por defecto mediante el método `plot_diagnostics()`"
      ]
    },
    {
      "cell_type": "markdown",
      "id": "496dfa5c",
      "metadata": {
        "id": "496dfa5c"
      },
      "source": [
        "Estas curvas se pueden utilizar para evaluar la calidad del ajuste del modelo a los datos y para identificar cualquier problema con el modelo. Esto es lo que representa cada curva:\n",
        "\n",
        "- **Residuos estandarizados**: esta gráfica muestra los residuos estandarizados del modelo. Si el modelo se ajusta bien a los datos, los residuos deben **estar dispersos aleatoriamente alrededor de 0**, sin ninguna desviación obvia, patrones o tendencias.\n",
        "\n",
        "- **Gráfica de Histograma y Densidad**: Esta gráfica muestra la distribución de los residuos estandarizados. Si los residuos se distribuyen normalmente, deben **seguir una curva en forma de campana** en el histograma. El gráfico de densidad muestra una versión suavizada del histograma. Si los residuos se distribuyen normalmente, la gráfica de densidad debe ser aproximadamente simétrica alrededor de 0.\n",
        "\n",
        "- **Gráfica Q-Q normal**: esta gráfica muestra los cuantiles de los residuos estandarizados frente a los cuantiles de una distribución normal. Si los residuos se distribuyen normalmente, los puntos deben **seguir una línea recta**. Cualquier desviación de una línea recta indica no normalidad en los residuos.\n",
        "\n",
        "- **Correlograma**: este gráfico muestra la autocorrelación de los residuos estandarizados en diferentes retrasos o _lags_. Si el modelo se ajusta bien a los datos, los residuos **no deberían mostrar ninguna autocorrelación significativa** en ningún retraso."
      ]
    },
    {
      "cell_type": "code",
      "execution_count": null,
      "id": "09160644",
      "metadata": {
        "id": "09160644"
      },
      "outputs": [],
      "source": [
        "# Sacar las gráficas del rendimiento del modelo ajustado\n",
        "fit_ar.plot_diagnostics()\n",
        "plt.show()"
      ]
    },
    {
      "cell_type": "markdown",
      "id": "6f6944cb",
      "metadata": {
        "id": "6f6944cb"
      },
      "source": [
        "#### Prediction evaluationEvaluating (_forecasting Acuuracy_)"
      ]
    },
    {
      "cell_type": "markdown",
      "id": "721b4719",
      "metadata": {
        "id": "721b4719"
      },
      "source": [
        "Después de analizar la calidad del modelo ajustado a los datos de entrenamiento, nos debemos fijar en el rendimiento del modelo a la hora de predecir los valores no vistos que serían las estimaciones al futuro  (***Out-of-Sample model evaluation***)"
      ]
    },
    {
      "cell_type": "code",
      "execution_count": null,
      "id": "160e72c0",
      "metadata": {
        "id": "160e72c0"
      },
      "outputs": [],
      "source": [
        "# Calcular las predicciones con los valores estimados por el modelo a futuro\n",
        "fit_ar.predict(start=df_test.index[0],\n",
        "               end=df_test.index[-1])"
      ]
    },
    {
      "cell_type": "markdown",
      "id": "2c311cd7",
      "metadata": {
        "id": "2c311cd7"
      },
      "source": [
        "Podemos indicar el **hoizonte** de la predicción como el número de los valores a predecir por el modelo"
      ]
    },
    {
      "cell_type": "code",
      "execution_count": null,
      "id": "5ba9faf3",
      "metadata": {
        "id": "5ba9faf3"
      },
      "outputs": [],
      "source": [
        "pred_ar = fit_ar.forecast(steps=horizonte)\n",
        "pred_ar\n"
      ]
    },
    {
      "cell_type": "markdown",
      "id": "fb53657b",
      "metadata": {
        "id": "fb53657b"
      },
      "source": [
        "Redondeamos los valores predichos para tenerlos como número de pasajeros"
      ]
    },
    {
      "cell_type": "code",
      "execution_count": null,
      "id": "4afe6269",
      "metadata": {
        "id": "4afe6269"
      },
      "outputs": [],
      "source": [
        "pred_ar = pred_ar.round()"
      ]
    },
    {
      "cell_type": "code",
      "execution_count": null,
      "id": "99305c09",
      "metadata": {
        "id": "99305c09"
      },
      "outputs": [],
      "source": [
        "plt.plot(df_test, label='Test')\n",
        "plt.plot(pred_ar, label='Predicción - AR(12)')\n",
        "plt.title(\"Datos reales vs. Predicción del modelo (Out-of-Sample forecasting)\")\n",
        "plt.legend()\n",
        "plt.show()"
      ]
    },
    {
      "cell_type": "code",
      "execution_count": null,
      "id": "e06b2bdf",
      "metadata": {
        "id": "e06b2bdf"
      },
      "outputs": [],
      "source": [
        "import plotly.graph_objects as go\n",
        "fig = go.Figure()\n",
        "\n",
        "fig.add_trace(go.Scatter(\n",
        "    x=df_train.index,\n",
        "    y=df_train['passengers'],\n",
        "    name=\"Entrenamiento\",\n",
        "    mode=\"lines\"\n",
        "    ))\n",
        "\n",
        "fig.add_trace(go.Scatter(\n",
        "    x=df_test.index,\n",
        "    y=df_test['passengers'],\n",
        "    name=\"Test\",\n",
        "    mode=\"lines\"\n",
        "    ))\n",
        "\n",
        "fig.add_trace(go.Scatter(\n",
        "    x=pred_sn.index,\n",
        "    y=pred_sn['pred'],\n",
        "    name=\"Predicción (Seasonal Naive)\",\n",
        "    mode=\"markers+lines\"\n",
        "    ))\n",
        "\n",
        "fig.add_trace(go.Scatter(\n",
        "    x=pred_ar.index,\n",
        "    y=pred_ar,\n",
        "    name=\"Predicción (AR)\",\n",
        "    mode=\"markers+lines\"\n",
        "    ))\n",
        "\n",
        "fig.update_layout(title=\"Número de pasajeros aéreos de cada mes desde el año 1949 al 1960\",\n",
        "                  title_font_size=22,\n",
        "                  xaxis_title = 'Fecha',\n",
        "                  yaxis_title= 'Pasajeros'\n",
        "                  )\n",
        "\n",
        "fig.show()"
      ]
    },
    {
      "cell_type": "markdown",
      "id": "dcb3fe3c",
      "metadata": {
        "id": "dcb3fe3c"
      },
      "source": [
        "Se puede ver que las predicciones de este modelo, además de **seguir la forma del periodo estacional**, se adaptan a los **niveles crecientes** que son presentes en los datos reales."
      ]
    },
    {
      "cell_type": "code",
      "execution_count": null,
      "id": "82e63cab",
      "metadata": {
        "id": "82e63cab"
      },
      "outputs": [],
      "source": [
        "from sklearn.metrics import mean_absolute_error\n",
        "from sklearn.metrics import mean_absolute_percentage_error\n",
        "from sklearn.metrics import mean_squared_error\n",
        "from sklearn.metrics import r2_score\n",
        "\n",
        "# Métricas de evaluación del modelo\n",
        "print('Mean Absolute Error (MAE):', mean_absolute_error(df_test, pred_ar))\n",
        "print('Mean Absolute Percentage Error:', mean_absolute_percentage_error(df_test, pred_ar)*100)\n",
        "print('Mean Squared Error (MSE):', mean_squared_error(df_test, pred_ar))\n",
        "print('Root Mean Squared Error (RMSE):', np.sqrt(mean_squared_error(df_test, pred_ar)))\n",
        "print('R^2 coefficient of determination:', r2_score(df_test, pred_ar))"
      ]
    },
    {
      "cell_type": "markdown",
      "id": "27795ee1",
      "metadata": {
        "id": "27795ee1"
      },
      "source": [
        "Como lo habíamos intuido mvisualmente, este modelo está generando **predicciones más precisos** que los modelos de referncia. Ahora nos fijamos en el **nivel de incertidumbre** que tenemos en los valores predichos."
      ]
    },
    {
      "cell_type": "markdown",
      "id": "ab31a9f2",
      "metadata": {
        "id": "ab31a9f2"
      },
      "source": [
        "#### Intervalos de confianza (___Confidence intervals___)"
      ]
    },
    {
      "cell_type": "markdown",
      "id": "f31821a1",
      "metadata": {
        "id": "f31821a1"
      },
      "source": [
        "En la predicción de series temporales, los intervalos de predicción o intervalos de confianza nos dan una idea de **qué tan inciertos son nuestras predicciones**. Los intervalos de confianza para los valores predichos representan **un rango de valores** dentro del cual esperamos que se encuentren los valores reales con **un cierto nivel de confianza**. Un intervalo de **confianza del 95 %** significa que **hay una probabilidad del 95 % de que el valor verdadero se encuentre dentro de este intervalo**."
      ]
    },
    {
      "cell_type": "markdown",
      "id": "67c4e491",
      "metadata": {
        "id": "67c4e491"
      },
      "source": [
        "Usamos el método `conf_int()` sobre los datos extraídos como la predicción del modelo mediante la función `get_prediction` para el periodo en cuestión. Los intervalos por defecto marcan **un nivel de 95% de confianza** considerando `alpha=0.05` que se pueden modificar si así se desea."
      ]
    },
    {
      "cell_type": "code",
      "execution_count": null,
      "id": "d6274edf",
      "metadata": {
        "id": "d6274edf"
      },
      "outputs": [],
      "source": [
        "conf_ar = fit_ar.get_prediction(start=df_test.index[0], end=df_test.index[-1]).conf_int().round()\n",
        "conf_ar"
      ]
    },
    {
      "cell_type": "markdown",
      "id": "3ecb2fc3",
      "metadata": {
        "id": "3ecb2fc3"
      },
      "source": [
        "Analizamos la evolución de los rangos que marcan los intervalos de confianza"
      ]
    },
    {
      "cell_type": "code",
      "execution_count": null,
      "id": "ff3d897e",
      "metadata": {
        "id": "ff3d897e"
      },
      "outputs": [],
      "source": [
        "conf_ar['delta'] = conf_ar.apply(lambda x: x['upper'] - x['lower'], axis=1)\n",
        "conf_ar"
      ]
    },
    {
      "cell_type": "code",
      "execution_count": null,
      "id": "12a95960",
      "metadata": {
        "id": "12a95960"
      },
      "outputs": [],
      "source": [
        "plt.plot(conf_ar['delta'])\n",
        "plt.title(\"Evolución del rango de los intervalos de confianza  - AR(12)\")\n",
        "plt.show()"
      ]
    },
    {
      "cell_type": "markdown",
      "id": "00964c78",
      "metadata": {
        "id": "00964c78"
      },
      "source": [
        "Como es de esperar, el rango de los intervalos **se aumenta con el tiempo** porque **se van acumulando los errores y los incertidumbres** presentes en las predicciones del modelo por ser de tipo `One-step-ahead forecasts`."
      ]
    },
    {
      "cell_type": "code",
      "execution_count": null,
      "id": "6dc87817",
      "metadata": {
        "id": "6dc87817"
      },
      "outputs": [],
      "source": [
        "import plotly.graph_objects as go\n",
        "fig = go.Figure()\n",
        "\n",
        "fig.add_trace(go.Scatter(\n",
        "    x=df_train.index,\n",
        "    y=df_train['passengers'],\n",
        "    name=\"Entrenamiento\",\n",
        "    mode=\"lines\"\n",
        "    ))\n",
        "\n",
        "fig.add_trace(go.Scatter(\n",
        "    x=df_test.index,\n",
        "    y=df_test['passengers'],\n",
        "    name=\"Test\",\n",
        "    mode=\"lines\"\n",
        "    ))\n",
        "\n",
        "fig.add_trace(go.Scatter(\n",
        "    x=pred_sn.index,\n",
        "    y=pred_sn['pred'],\n",
        "    name=\"Predicción (Seasonal Naive)\",\n",
        "    mode=\"markers+lines\"\n",
        "    ))\n",
        "\n",
        "fig.add_trace(go.Scatter(\n",
        "    x=pred_ar.index,\n",
        "    y=pred_ar,\n",
        "    name=\"Predicción (AR)\",\n",
        "    mode=\"markers+lines\"\n",
        "    ))\n",
        "\n",
        "fig.add_trace(go.Scatter(\n",
        "    x=conf_ar.index,\n",
        "    y=conf_ar['lower'],\n",
        "    name=\"lower\",\n",
        "    mode=\"lines\",\n",
        "    line=dict(width=0),\n",
        "    showlegend=False\n",
        "    ))\n",
        "\n",
        "fig.add_trace(go.Scatter(\n",
        "    x=conf_ar.index,\n",
        "    y=conf_ar['upper'],\n",
        "    name=\"upper\",\n",
        "    mode=\"lines\",\n",
        "    line=dict(width=0),\n",
        "    showlegend=False,\n",
        "    fillcolor='rgba(68, 68, 68, 0.3)',\n",
        "    fill='tonexty'\n",
        "    ))\n",
        "\n",
        "fig.update_layout(title=\"Número de pasajeros aéreos de cada mes desde el año 1949 al 1960\",\n",
        "                  title_font_size=22,\n",
        "                  xaxis_title = 'Fecha',\n",
        "                  yaxis_title= 'Pasajeros'\n",
        "                  )\n",
        "\n",
        "fig.show()"
      ]
    },
    {
      "cell_type": "markdown",
      "id": "74419035",
      "metadata": {
        "id": "74419035"
      },
      "source": [
        "---"
      ]
    },
    {
      "cell_type": "markdown",
      "id": "5c548caf",
      "metadata": {
        "id": "5c548caf"
      },
      "source": [
        "### **ARIMA** (Autoregressive Integrated Moving Average)"
      ]
    },
    {
      "cell_type": "markdown",
      "id": "1d0195e6",
      "metadata": {
        "id": "1d0195e6"
      },
      "source": [
        "_ARIMA_ (**promedio móvil integrado autorregresivo**) es un método estadístico ampliamente utilizado para modelar las series temporales. Los modelos ARIMA son una combinación de tres métodos separados: autoregresión (___AR___), integración (___I___) y media móvil (___MA___). El modelo ARIMA está especificado por tres parámetros ___(p, d, q)___ que determinan el número de términos autoregresivos, diferenciadores y de media móvil, respectivamente:\n",
        "\n",
        "- **La autorregresión (AR)**: Ees un método que utiliza observaciones pasadas para predecir valores futuros. El orden del modelo _AR(p)_ especifica cuántos valores pasados de la serie temporal se utilizan para predecir el valor actual.\n",
        "\n",
        "- **La integración (I)**: Es un método que ajusta la serie temporal para hacerla estacionaria, lo que significa que sus propiedades estadísticas se mantienen constantes en el tiempo. El orden de diferenciación _(d)_ especifica el número de veces que se diferencia la serie de tiempo para hacerla estacionaria.\n",
        "\n",
        "- **La media móvil (MA)**: Es un método que utiliza errores pasados para predecir valores futuros, por defecto para el modelo de promedio de todas las observaciones. El orden del modelo _MA(q)_ especifica cuántos errores pasados se utilizan para predecir el valor actual.\n",
        "\n",
        "El modelo ARIMA combina estos tres métodos para crear una poderosa herramienta para el pronóstico de series de tiempo. La forma general de un modelo ARIMA es:\n",
        "\n",
        "$ARIMA(p, d, q) = AR(p) + I(d) + MA(q)$"
      ]
    },
    {
      "cell_type": "markdown",
      "id": "6ae350e1",
      "metadata": {
        "id": "6ae350e1"
      },
      "source": [
        "![ARIMA.png](attachment:ARIMA.png)"
      ]
    },
    {
      "cell_type": "markdown",
      "id": "0125f656",
      "metadata": {
        "id": "0125f656"
      },
      "source": [
        "Vamos a crear un modelo ARIMA por ejemplo con la combinación de _(12,1,1)_ para añadir una diferenciación del primer orden y un componente de _Moving Average_ del mismo orden."
      ]
    },
    {
      "cell_type": "code",
      "execution_count": null,
      "id": "dac9062a",
      "metadata": {
        "id": "dac9062a"
      },
      "outputs": [],
      "source": [
        "from statsmodels.tsa.arima.model import ARIMA\n",
        "modelo_arima = ARIMA(df_train, order=(12,1,1))\n",
        "modelo_arima"
      ]
    },
    {
      "cell_type": "code",
      "execution_count": null,
      "id": "21222be6",
      "metadata": {
        "id": "21222be6"
      },
      "outputs": [],
      "source": [
        "# Ajustar el modelo a los datos de entrenamiento\n",
        "fit_arima = modelo_arima.fit()\n",
        "fit_arima\n"
      ]
    },
    {
      "cell_type": "code",
      "execution_count": null,
      "id": "aa85c56d",
      "metadata": {
        "id": "aa85c56d"
      },
      "outputs": [],
      "source": [
        "fit_arima.summary()"
      ]
    },
    {
      "cell_type": "code",
      "execution_count": null,
      "id": "7e4f659f",
      "metadata": {
        "id": "7e4f659f"
      },
      "outputs": [],
      "source": [
        "# Consultamos los valores ajustados en el periodo de entrenamiento\n",
        "estim_arima = fit_arima.fittedvalues\n",
        "estim_arima"
      ]
    },
    {
      "cell_type": "code",
      "execution_count": null,
      "id": "ad438f74",
      "metadata": {
        "id": "ad438f74"
      },
      "outputs": [],
      "source": [
        "plt.plot(df_train, label='Entrenamiento')\n",
        "plt.plot(estim_arima, label='Estimación ARIMA(12,1,1)')\n",
        "plt.title(\"Datos reales vs. Estimación del modelo (In-Sample forecasting)\")\n",
        "plt.legend()\n",
        "plt.show()"
      ]
    },
    {
      "cell_type": "code",
      "execution_count": null,
      "id": "5022e976",
      "metadata": {
        "id": "5022e976"
      },
      "outputs": [],
      "source": [
        "# Comparar los valores reales con la estimación del modelo\n",
        "sns.scatterplot(x=df_train.values.flatten(), y=estim_arima)\n",
        "plt.plot([0,600], [0,600], color='r', linestyle=':')\n",
        "plt.title(\"Valores reales vs. valors estimados (In-Sample forecasting) ARIMA(12,1,1)\")\n",
        "plt.show()"
      ]
    },
    {
      "cell_type": "code",
      "execution_count": null,
      "id": "a3a707ca",
      "metadata": {
        "id": "a3a707ca"
      },
      "outputs": [],
      "source": [
        "# Analizamos el componente residual\n",
        "# Sacar las gráficas del rendimiento del modelo ajustado\n",
        "fit_arima.plot_diagnostics()\n",
        "plt.show()\n",
        "\n",
        "resid_arima = fit_arima.resid\n",
        "\n",
        "# Coeficiente de correlación entre valores reales y los errores\n",
        "print(df_train['passengers'].corr(resid_arima).round(4))\n",
        "\n",
        "# Coeficiente de correlación entre valores estimados y los errores\n",
        "print(estim_arima.corr(resid_arima).round(4))"
      ]
    },
    {
      "cell_type": "markdown",
      "id": "27e92870",
      "metadata": {
        "id": "27e92870"
      },
      "source": [
        "Vemos que la autocorrelación de los valores residuales no es significativo. Esto indica que el modelo ajustado tiene más calidad que el anterior."
      ]
    },
    {
      "cell_type": "code",
      "execution_count": null,
      "id": "254f87d8",
      "metadata": {
        "id": "254f87d8"
      },
      "outputs": [],
      "source": [
        "sns.scatterplot(x=df_train.values.flatten(), y=resid_arima)\n",
        "plt.title(\"Valores reales versus valores residuales - ARIMA(12,1,1)\")\n",
        "plt.show()"
      ]
    },
    {
      "cell_type": "code",
      "execution_count": null,
      "id": "88bb921f",
      "metadata": {
        "id": "88bb921f"
      },
      "outputs": [],
      "source": [
        "sns.scatterplot(x=estim_arima, y=resid_arima)\n",
        "plt.title(\"Valores estimados versus valores residuales - ARIMA(12,1,1)\")\n",
        "plt.show()"
      ]
    },
    {
      "cell_type": "code",
      "execution_count": null,
      "id": "27151959",
      "metadata": {
        "id": "27151959"
      },
      "outputs": [],
      "source": [
        "pred_arima = fit_arima.forecast(steps=horizonte).round()\n",
        "pred_arima"
      ]
    },
    {
      "cell_type": "code",
      "execution_count": null,
      "id": "c42b2b76",
      "metadata": {
        "id": "c42b2b76"
      },
      "outputs": [],
      "source": [
        "plt.plot(df_test, label='Test')\n",
        "plt.plot(pred_arima, label='Predicción - ARIMA(12,1,1)')\n",
        "plt.title(\"Datos reales vs. Predicción del modelo (Out-of-Sample forecasting)\")\n",
        "plt.legend()\n",
        "plt.show()"
      ]
    },
    {
      "cell_type": "code",
      "execution_count": null,
      "id": "4b56124c",
      "metadata": {
        "id": "4b56124c"
      },
      "outputs": [],
      "source": [
        "from sklearn.metrics import mean_absolute_error\n",
        "from sklearn.metrics import mean_absolute_percentage_error\n",
        "from sklearn.metrics import mean_squared_error\n",
        "from sklearn.metrics import r2_score\n",
        "\n",
        "# Métricas de evaluación del modelo\n",
        "print('Mean Absolute Error (MAE):', mean_absolute_error(df_test, pred_arima))\n",
        "print('Mean Absolute Percentage Error:', mean_absolute_percentage_error(df_test, pred_arima)*100)\n",
        "print('Mean Squared Error (MSE):', mean_squared_error(df_test, pred_arima))\n",
        "print('Root Mean Squared Error (RMSE):', np.sqrt(mean_squared_error(df_test, pred_arima)))\n",
        "print('R^2 coefficient of determination:', r2_score(df_test, pred_arima))"
      ]
    },
    {
      "cell_type": "markdown",
      "id": "5e4a3250",
      "metadata": {
        "id": "5e4a3250"
      },
      "source": [
        "Podemos apreciar que los resultados de este modelo **son algo mejores** que el modelo anterior de AR(12). Graficamos los valores predichos junto con los intervalos de confianza."
      ]
    },
    {
      "cell_type": "code",
      "execution_count": null,
      "id": "c3bcea9b",
      "metadata": {
        "id": "c3bcea9b"
      },
      "outputs": [],
      "source": [
        "# Calcular los intervalos de confianza\n",
        "conf_arima = fit_arima.get_prediction(start=df_test.index[0], end=df_test.index[-1]).conf_int().round()\n",
        "\n",
        "# Graficar los resultados\n",
        "import plotly.graph_objects as go\n",
        "fig = go.Figure()\n",
        "\n",
        "fig.add_trace(go.Scatter(\n",
        "    x=df_train.index,\n",
        "    y=df_train['passengers'],\n",
        "    name=\"Entrenamiento\",\n",
        "    mode=\"lines\"\n",
        "    ))\n",
        "\n",
        "fig.add_trace(go.Scatter(\n",
        "    x=df_test.index,\n",
        "    y=df_test['passengers'],\n",
        "    name=\"Test\",\n",
        "    mode=\"lines\"\n",
        "    ))\n",
        "\n",
        "fig.add_trace(go.Scatter(\n",
        "    x=pred_ar.index,\n",
        "    y=pred_ar,\n",
        "    name=\"Predicción (AR(12))\",\n",
        "    mode=\"markers+lines\"\n",
        "    ))\n",
        "\n",
        "fig.add_trace(go.Scatter(\n",
        "    x=pred_arima.index,\n",
        "    y=pred_arima,\n",
        "    name=\"Predicción (ARIMA(12,1,1))\",\n",
        "    mode=\"markers+lines\"\n",
        "    ))\n",
        "\n",
        "fig.add_trace(go.Scatter(\n",
        "    x=conf_arima.index,\n",
        "    y=conf_arima.iloc[:,0],\n",
        "    name=\"lower\",\n",
        "    mode=\"lines\",\n",
        "    line=dict(width=0),\n",
        "    showlegend=False\n",
        "    ))\n",
        "\n",
        "fig.add_trace(go.Scatter(\n",
        "    x=conf_arima.index,\n",
        "    y=conf_arima.iloc[:,1],\n",
        "    name=\"upper\",\n",
        "    mode=\"lines\",\n",
        "    line=dict(width=0),\n",
        "    showlegend=False,\n",
        "    fillcolor='rgba(68, 68, 68, 0.3)',\n",
        "    fill='tonexty'\n",
        "    ))\n",
        "\n",
        "fig.update_layout(title=\"Número de pasajeros aéreos de cada mes desde el año 1949 al 1960\",\n",
        "                  title_font_size=22,\n",
        "                  xaxis_title = 'Fecha',\n",
        "                  yaxis_title= 'Pasajeros'\n",
        "                  )\n",
        "\n",
        "fig.show()"
      ]
    },
    {
      "cell_type": "markdown",
      "id": "329e0ef1",
      "metadata": {
        "id": "329e0ef1"
      },
      "source": [
        "### Seasonal ARIMA (__SARIMA__)"
      ]
    },
    {
      "cell_type": "markdown",
      "id": "3f2c764e",
      "metadata": {
        "id": "3f2c764e"
      },
      "source": [
        "Los modelos ARIMA también son capaces de modelar una amplia gama de datos estacionales, considerando **un componente especialmente pensado para el la estacionalidad**.\n",
        "\n",
        "Un modelo **ARIMA estacional** o _SARIMA_ se forma al incluir términos estacionales adicionales en los modelos ARIMA que se especifica mediante cuatro parámetros:\n",
        "- El período estacional (___m___)  \n",
        "- La diferencia estacional (___D___)\n",
        "- El orden autoregresivo estacional (___P___)\n",
        "- El orden de promedio móvil estacional (___Q___).\n",
        "\n",
        "El modelo SARIMA se puede escribir como $SARIMA(p,d,q)(P,D,Q)_m$:"
      ]
    },
    {
      "cell_type": "markdown",
      "id": "378326fb",
      "metadata": {
        "id": "378326fb"
      },
      "source": [
        "![Sarima-seasonality.jpeg](attachment:Sarima-seasonality.jpeg)"
      ]
    },
    {
      "cell_type": "markdown",
      "id": "63df222b",
      "metadata": {
        "id": "63df222b"
      },
      "source": [
        "La parte estacional del modelo consta de términos que son similares a los componentes no estacionales del modelo, pero implican **desplazamientos hacia atrás del período estacional**."
      ]
    },
    {
      "cell_type": "markdown",
      "id": "4ce9a2b6",
      "metadata": {
        "id": "4ce9a2b6"
      },
      "source": [
        "Vamos a comprobar el rendimiento de un modelo como $SARIMA(1,1,1)(1,0,1)12$ usando el método `SARIMAX` de la librería _statsmodels_"
      ]
    },
    {
      "cell_type": "code",
      "execution_count": null,
      "id": "305d37ba",
      "metadata": {
        "id": "305d37ba"
      },
      "outputs": [],
      "source": [
        "from statsmodels.tsa.statespace.sarimax import SARIMAX\n",
        "modelo = SARIMAX(df_train,\n",
        "                order=(1,1,1),\n",
        "                seasonal_order=(1,0,1,12))\n",
        "fit_mod = modelo.fit()\n",
        "print(fit_mod.summary().tables[0])\n",
        "estim_mod = fit_mod.fittedvalues\n",
        "pred_mod = fit_mod.forecast(steps=horizonte).round()\n",
        "\n",
        "# Métricas de evaluación del modelo\n",
        "print('Mean Absolute Error (MAE):', mean_absolute_error(df_test, pred_mod))\n",
        "print('Mean Absolute Percentage Error:', mean_absolute_percentage_error(df_test, pred_mod)*100)\n",
        "print('Mean Squared Error (MSE):', mean_squared_error(df_test, pred_mod))\n",
        "print('Root Mean Squared Error (RMSE):', np.sqrt(mean_squared_error(df_test, pred_mod)))\n",
        "print('R^2 coefficient of determination:', r2_score(df_test, pred_mod))\n",
        "\n"
      ]
    },
    {
      "cell_type": "markdown",
      "id": "1d8036e1",
      "metadata": {
        "id": "1d8036e1"
      },
      "source": [
        "Como cualquier otro modelo que dispone de hiperparámetros, estos modelos se pueden ajustar para **encontrar la combinación óptima de los parámetros** del modelo."
      ]
    },
    {
      "cell_type": "markdown",
      "id": "49f0ccd6",
      "metadata": {
        "id": "49f0ccd6"
      },
      "source": [
        "#### Auto ARIMA"
      ]
    },
    {
      "cell_type": "markdown",
      "id": "1c02824a",
      "metadata": {
        "id": "1c02824a"
      },
      "source": [
        "Existen diferentes métodos para encontrar los ordenes óptimos de los modelos de ARIMA. Una herramienta común para automatizar esta búsqueda es el método `auto_arima` de la librería __pmdarima__.\n",
        "\n",
        "`pmdarima` es paquete de Python que se basa en las bibliotecas _statsmodels_ y _scikit-learn_ y proporciona una interfaz conveniente para la selección de modelos, el ajuste de hiperparámetros y la evaluación de modelos de series temporales."
      ]
    },
    {
      "cell_type": "code",
      "execution_count": null,
      "id": "7f98fadb",
      "metadata": {
        "id": "7f98fadb"
      },
      "outputs": [],
      "source": [
        "pip install pmdarima"
      ]
    },
    {
      "cell_type": "code",
      "execution_count": null,
      "id": "985f471e",
      "metadata": {
        "id": "985f471e"
      },
      "outputs": [],
      "source": [
        "from pmdarima.arima import auto_arima\n",
        "\n",
        "fit_arima_auto = auto_arima(df_train,\n",
        "                            start_p=1,\n",
        "                            start_q=0,\n",
        "                            max_p=20,\n",
        "                            max_q=10,\n",
        "                            seasonal=False,\n",
        "                            stepwise=True)"
      ]
    },
    {
      "cell_type": "code",
      "execution_count": null,
      "id": "ccd57d9b",
      "metadata": {
        "id": "ccd57d9b"
      },
      "outputs": [],
      "source": [
        "fit_arima_auto.summary()"
      ]
    },
    {
      "cell_type": "code",
      "execution_count": null,
      "id": "039745f2",
      "metadata": {
        "id": "039745f2"
      },
      "outputs": [],
      "source": [
        "fit_arima_auto.fittedvalues()"
      ]
    },
    {
      "cell_type": "markdown",
      "id": "3a6f2289",
      "metadata": {
        "id": "3a6f2289"
      },
      "source": [
        "Podemos usar el método `.predict_in_sample()` para sacar las estimaciones del modelo:"
      ]
    },
    {
      "cell_type": "code",
      "execution_count": null,
      "id": "8542ba98",
      "metadata": {
        "id": "8542ba98"
      },
      "outputs": [],
      "source": [
        "fit_arima_auto.predict_in_sample()"
      ]
    },
    {
      "cell_type": "code",
      "execution_count": null,
      "id": "8c361ab8",
      "metadata": {
        "id": "8c361ab8"
      },
      "outputs": [],
      "source": [
        "estim_arima_auto = fit_arima_auto.fittedvalues()\n",
        "plt.plot(df_train, label='Entrenamiento')\n",
        "plt.plot(estim_arima_auto, label='Estimación Auto_ARIMA')\n",
        "plt.title(\"Datos reales vs. Estimación del modelo (In-Sample forecasting)\")\n",
        "plt.legend()\n",
        "plt.show()"
      ]
    },
    {
      "cell_type": "code",
      "execution_count": null,
      "id": "e114da55",
      "metadata": {
        "id": "e114da55"
      },
      "outputs": [],
      "source": [
        "pred_arima_auto = fit_arima_auto.predict(horizonte).round()\n",
        "pred_arima_auto"
      ]
    },
    {
      "cell_type": "code",
      "execution_count": null,
      "id": "002f4621",
      "metadata": {
        "id": "002f4621"
      },
      "outputs": [],
      "source": [
        "plt.plot(df_test, label='Test')\n",
        "plt.plot(pred_arima_auto, label='Predicción - Auto_ARIMA')\n",
        "plt.title(\"Datos reales vs. Predicción del modelo (Out-of-Sample forecasting)\")\n",
        "plt.legend()\n",
        "plt.show()"
      ]
    },
    {
      "cell_type": "code",
      "execution_count": null,
      "id": "a924f880",
      "metadata": {
        "id": "a924f880"
      },
      "outputs": [],
      "source": [
        "from sklearn.metrics import mean_absolute_error\n",
        "from sklearn.metrics import mean_absolute_percentage_error\n",
        "from sklearn.metrics import mean_squared_error\n",
        "from sklearn.metrics import r2_score\n",
        "\n",
        "# Métricas de evaluación del modelo\n",
        "print('Mean Absolute Error (MAE):', mean_absolute_error(df_test, pred_arima_auto))\n",
        "print('Mean Absolute Percentage Error:', mean_absolute_percentage_error(df_test, pred_arima_auto)*100)\n",
        "print('Mean Squared Error (MSE):', mean_squared_error(df_test, pred_arima_auto))\n",
        "print('Root Mean Squared Error (RMSE):', np.sqrt(mean_squared_error(df_test, pred_arima_auto)))\n",
        "print('R^2 coefficient of determination:', r2_score(df_test, pred_arima_auto))"
      ]
    },
    {
      "cell_type": "markdown",
      "id": "2d706815",
      "metadata": {
        "id": "2d706815"
      },
      "source": [
        "Vemos que esta búsqueda no nos lleva necesariamente a conseguir un modelo mejor que los anteriores. Probamos con los modelos tipo _SARIMA_ al incluir el componente estacional."
      ]
    },
    {
      "cell_type": "code",
      "execution_count": null,
      "id": "8062daeb",
      "metadata": {
        "id": "8062daeb"
      },
      "outputs": [],
      "source": [
        "from pmdarima.arima import auto_arima\n",
        "\n",
        "fit_sarima_auto = auto_arima(df_train,\n",
        "                             start_p=1,\n",
        "                             start_q=1,\n",
        "                             start_P=1,\n",
        "                             D=1,\n",
        "                             d=None,\n",
        "                             m=12,\n",
        "                             seasonal=True,\n",
        "                             stepwise=True)"
      ]
    },
    {
      "cell_type": "code",
      "execution_count": null,
      "id": "880babd5",
      "metadata": {
        "id": "880babd5"
      },
      "outputs": [],
      "source": [
        "fit_sarima_auto.summary()"
      ]
    },
    {
      "cell_type": "code",
      "execution_count": null,
      "id": "a680afaa",
      "metadata": {
        "id": "a680afaa"
      },
      "outputs": [],
      "source": [
        "fit_sarima_auto.predict_in_sample()"
      ]
    },
    {
      "cell_type": "code",
      "execution_count": null,
      "id": "ae9222fa",
      "metadata": {
        "id": "ae9222fa"
      },
      "outputs": [],
      "source": [
        "estim_sarima_auto = fit_sarima_auto.predict_in_sample()\n",
        "plt.plot(df_train, label='Entrenamiento')\n",
        "plt.plot(estim_sarima_auto, label='Estimación Auto_SARIMA')\n",
        "plt.title(\"Datos reales vs. Estimación del modelo (In-Sample forecasting)\")\n",
        "plt.legend()\n",
        "plt.show()"
      ]
    },
    {
      "cell_type": "code",
      "execution_count": null,
      "id": "9ded7309",
      "metadata": {
        "id": "9ded7309"
      },
      "outputs": [],
      "source": [
        "pred_sarima_auto = fit_sarima_auto.predict(horizonte).round()\n",
        "pred_sarima_auto"
      ]
    },
    {
      "cell_type": "code",
      "execution_count": null,
      "id": "a9225f07",
      "metadata": {
        "id": "a9225f07"
      },
      "outputs": [],
      "source": [
        "plt.plot(df_test, label='Test')\n",
        "plt.plot(pred_sarima_auto, label='Predicción - Auto_SARIMA')\n",
        "plt.title(\"Datos reales vs. Predicción del modelo (Out-of-Sample forecasting)\")\n",
        "plt.legend()\n",
        "plt.show()"
      ]
    },
    {
      "cell_type": "code",
      "execution_count": null,
      "id": "8cc6ac08",
      "metadata": {
        "id": "8cc6ac08"
      },
      "outputs": [],
      "source": [
        "from sklearn.metrics import mean_absolute_error\n",
        "from sklearn.metrics import mean_absolute_percentage_error\n",
        "from sklearn.metrics import mean_squared_error\n",
        "from sklearn.metrics import r2_score\n",
        "\n",
        "# Métricas de evaluación del modelo\n",
        "print('Mean Absolute Error (MAE):', mean_absolute_error(df_test, pred_sarima_auto))\n",
        "print('Mean Absolute Percentage Error:', mean_absolute_percentage_error(df_test, pred_sarima_auto)*100)\n",
        "print('Mean Squared Error (MSE):', mean_squared_error(df_test, pred_sarima_auto))\n",
        "print('Root Mean Squared Error (RMSE):', np.sqrt(mean_squared_error(df_test, pred_sarima_auto)))\n",
        "print('R^2 coefficient of determination:', r2_score(df_test, pred_sarima_auto))"
      ]
    },
    {
      "cell_type": "markdown",
      "id": "b7f3de3c",
      "metadata": {
        "id": "b7f3de3c"
      },
      "source": [
        "Este modelo tiene un mejor rendimiento al tener incluido el componente estacional. A pesar de que este método tiene una búsqueda tipo `GridSearch` integrado, siempre se pueden implementar técnicas propias para encontrar el modelo más óptimo.   "
      ]
    },
    {
      "cell_type": "markdown",
      "id": "44fcd4d2",
      "metadata": {
        "id": "44fcd4d2"
      },
      "source": [
        "Probamos por ejemplo con la combinación $SARIMA(2,0,0)(7,0,1)12$"
      ]
    },
    {
      "cell_type": "code",
      "execution_count": null,
      "id": "629f5349",
      "metadata": {
        "id": "629f5349"
      },
      "outputs": [],
      "source": [
        "from statsmodels.tsa.statespace.sarimax import SARIMAX\n",
        "modelo = SARIMAX(df_train,\n",
        "                order=(2,0,0),\n",
        "                seasonal_order=(7,0,1,12))\n",
        "fit_mod = modelo.fit()\n",
        "print(fit_mod.summary().tables[0])\n",
        "estim_mod = fit_mod.fittedvalues\n",
        "pred_mod = fit_mod.forecast(steps=horizonte).round()\n",
        "\n",
        "# Métricas de evaluación del modelo\n",
        "print('Mean Absolute Error (MAE):', mean_absolute_error(df_test, pred_mod))\n",
        "print('Mean Absolute Percentage Error:', mean_absolute_percentage_error(df_test, pred_mod)*100)\n",
        "print('Mean Squared Error (MSE):', mean_squared_error(df_test, pred_mod))\n",
        "print('Root Mean Squared Error (RMSE):', np.sqrt(mean_squared_error(df_test, pred_mod)))\n",
        "print('R^2 coefficient of determination:', r2_score(df_test, pred_mod))\n",
        "\n"
      ]
    },
    {
      "cell_type": "markdown",
      "id": "df5ae4dc",
      "metadata": {
        "id": "df5ae4dc"
      },
      "source": [
        "---"
      ]
    },
    {
      "cell_type": "markdown",
      "id": "7a88e8ba",
      "metadata": {
        "id": "7a88e8ba"
      },
      "source": [
        "### Exponential Smoothing"
      ]
    },
    {
      "cell_type": "markdown",
      "id": "a99b7499",
      "metadata": {
        "id": "a99b7499"
      },
      "source": [
        "El suavizado exponencial (__Exponential Smoothing__) es un método para modelar las series de tiempo que se basa en la idea de que **el valor futuro de una serie de tiempo es un promedio ponderado de sus valores pasados**, donde las **observaciones más recientes reciben pesos más altos** que las observaciones más antiguas. El método se llama \"`exponencial`\" porque **los pesos disminuyen exponencialmente** a medida que las observaciones envejecen.\n",
        "\n",
        "Este método es lo suficientemente flexible para **manejar diferentes tipos de patrones** en series temporales, como tendencias, estacionalidad e incluso las fluctuaciones irregulares.\n",
        "\n",
        "Hay distintas variaciones de Suavizado exponencial, cada una de las cuales hace suposiciones diferentes sobre los datos. Las variantes más utilizadas son:\n",
        "\n",
        "- **Simple Exponential Smoothing**: Este método asume que la serie de tiempo **no tiene tendencia ni estacionalidad**, y el pronóstico para el próximo valor se basa únicamente en el promedio ponderado de las observaciones anteriores.\n",
        "\n",
        "- **Holt's Linear Exponential Smoothing**: Este método asume que la serie de tiempo **tiene una tendencia lineal** pero no estacionalidad.\n",
        "\n",
        "- **Holt-Winters Exponential Smoothing**: Este método asume que la serie de tiempo **tiene una tendencia lineal** y **un componente estacional**, y el valor para el próximo paso se basa en un promedio ponderado de observaciones pasadas, un componente de tendencia y un componente estacional.\n",
        "\n",
        "El suavizado exponencial es un método ampliamente utilizado por su simplicidad, **flexibilidad** y capacidad para capturar diferentes tipos de patrones en series temporales. Sin embargo, tiene algunas limitaciones, como su **incapacidad para manejar patrones muy complejos** y el hecho de que asume que los valores futuros de la serie dependen únicamente de sus valores pasados."
      ]
    },
    {
      "cell_type": "code",
      "execution_count": null,
      "id": "eff4a24f",
      "metadata": {
        "id": "eff4a24f"
      },
      "outputs": [],
      "source": [
        "from statsmodels.tsa.holtwinters import ExponentialSmoothing\n",
        "\n",
        "modelo_exp = ExponentialSmoothing(df_train,\n",
        "                                  trend='add',\n",
        "                                  seasonal='add',\n",
        "                                  seasonal_periods=12)\n",
        "\n",
        "fit_exp = modelo_exp.fit()\n",
        "fit_exp.summary()\n"
      ]
    },
    {
      "cell_type": "code",
      "execution_count": null,
      "id": "67b2d7fe",
      "metadata": {
        "id": "67b2d7fe"
      },
      "outputs": [],
      "source": [
        "estim_exp = fit_exp.fittedvalues\n",
        "plt.plot(df_train, label='Entrenamiento')\n",
        "plt.plot(estim_exp, label='Estimación Exponential Smoothing')\n",
        "plt.title(\"Datos reales vs. Estimación del modelo (In-Sample forecasting)\")\n",
        "plt.legend()\n",
        "plt.show()"
      ]
    },
    {
      "cell_type": "code",
      "execution_count": null,
      "id": "5d0031ae",
      "metadata": {
        "id": "5d0031ae"
      },
      "outputs": [],
      "source": [
        "# Comparar los valores reales con la estimación del modelo\n",
        "sns.scatterplot(x=df_train.values.flatten(), y=estim_exp)\n",
        "plt.plot([0,600], [0,600], color='r', linestyle=':')\n",
        "plt.title(\"Valores reales vs. valors estimados (In-Sample forecasting) Exponential Smoothing\")\n",
        "plt.show()"
      ]
    },
    {
      "cell_type": "code",
      "execution_count": null,
      "id": "b635a974",
      "metadata": {
        "id": "b635a974"
      },
      "outputs": [],
      "source": [
        "# Analizamos el componente residual\n",
        "resid_exp = fit_exp.resid\n",
        "\n",
        "# Coeficiente de correlación entre valores reales y los errores\n",
        "print(df_train['passengers'].corr(resid_exp).round(4))\n",
        "\n",
        "# Coeficiente de correlación entre valores estimados y los errores\n",
        "print(estim_exp.corr(resid_exp).round(4))\n",
        "\n",
        "sns.scatterplot(x=df_train.values.flatten(), y=resid_exp)\n",
        "plt.title(\"Valores reales versus valores residuales - Exponential Smoothing\")\n",
        "plt.show()"
      ]
    },
    {
      "cell_type": "code",
      "execution_count": null,
      "id": "ce6f4586",
      "metadata": {
        "id": "ce6f4586"
      },
      "outputs": [],
      "source": [
        "sns.scatterplot(x=estim_exp, y=resid_exp)\n",
        "plt.title(\"Valores estimados versus valores residuales - Exponential Smoothing\")\n",
        "plt.show()"
      ]
    },
    {
      "cell_type": "code",
      "execution_count": null,
      "id": "794d540c",
      "metadata": {
        "id": "794d540c"
      },
      "outputs": [],
      "source": [
        "pred_exp = fit_exp.forecast(steps=horizonte).round()\n",
        "\n",
        "# Métricas de evaluación del modelo\n",
        "print('Mean Absolute Error (MAE):', mean_absolute_error(df_test, pred_exp))\n",
        "print('Mean Absolute Percentage Error:', mean_absolute_percentage_error(df_test, pred_exp)*100)\n",
        "print('Mean Squared Error (MSE):', mean_squared_error(df_test, pred_exp))\n",
        "print('Root Mean Squared Error (RMSE):', np.sqrt(mean_squared_error(df_test, pred_exp)))\n",
        "print('R^2 coefficient of determination:', r2_score(df_test, pred_exp))"
      ]
    },
    {
      "cell_type": "markdown",
      "id": "ff8b575a",
      "metadata": {
        "id": "ff8b575a"
      },
      "source": [
        "Vemos que la precisión de los valores predichos parece aceptable, aunque posiblemente queda información no extraída por el modelo que hace que haya algo de correlación entre valores residuales y los valores reales o estimados por el modelo."
      ]
    },
    {
      "cell_type": "markdown",
      "id": "41bf4e5a",
      "metadata": {
        "id": "41bf4e5a"
      },
      "source": [
        "---"
      ]
    },
    {
      "cell_type": "markdown",
      "id": "ba4ff48f",
      "metadata": {
        "id": "ba4ff48f"
      },
      "source": [
        "### **`Ejercicio 25.1`**\n",
        "\n",
        "Vamos a analizar los datos de **`Sunspots Dataset`** que son números promediados mensuales de **manchas solares desde 1749 hasta 1983**.  \n",
        "\n",
        "\n",
        "**`25.1.1`** Utiliza el siguiente enlace para descargar los datos y crear una tabla tipo _DataFrame_ con ellos:\n",
        " - 'https://raw.githubusercontent.com/jbrownlee/Datasets/master/monthly-sunspots.csv'\n",
        "\n",
        "**`25.1.2`** construye la serie temporal, del modo que las fechas tipo `'1749-05-01'` formen los índices, y número de las manchas solares los valores de la serie.\n"
      ]
    },
    {
      "cell_type": "markdown",
      "id": "bf68b1e9",
      "metadata": {
        "id": "bf68b1e9"
      },
      "source": [
        "### **`Ejercicio 25.2`**\n",
        "\n",
        "Vamos a modelar la serie temporal con el objetivo de **predecir los valores mensuales del último año**.\n",
        "\n",
        "**`25.2.1`** Aplica el método de `Seasonal Naïve` a la serie temporal y consigue estos puntos **y analiza los resultados obtenidos**:\n",
        "- Grafica de \"_Datos reales vs. Predicción del modelo (Out-of-Sample forecasting)_\"\n",
        "- Gráfica interactiva con el histórico, la predicción y los valores reales del último año.\n",
        "- Las métricas de \"_Out-of-sample performance_\": MAE, MAPE, MSE, RMSE y R2.\n",
        "\n",
        "**`25.2.2`** Aplica el método de `Autoregresión - AR(24)` la serie temporal y consigue estos puntos **y analiza los resultados obtenidos**:\n",
        "- Resumen del modelo ajustado (_Model fit summary_)\n",
        "- Gráfica de \"_Datos reales vs. Estimación del modelo (In-Sample forecasting)_\"\n",
        "- Gráficas de análisis del componente residual (curvas de diagnóstico, correlaciones con otras variables)\n",
        "- Gráfica de \"_Datos reales vs. Predicción del modelo (Out-of-Sample forecasting)_\"\n",
        "- Gráfica interactiva con el histórico, la predicción y los valores reales del último año.\n",
        "- Las métricas de \"_Out-of-sample performance_\": MAE, MAPE, MSE, RMSE y R2.\n",
        "\n",
        "**`25.2.3`** Aplica el método de `SARIMA (4,1,1)(2,0,0)12` la serie temporal y consigue estos puntos **y analiza los resultados obtenidos**:\n",
        "- Resumen del modelo ajustado (_Model fit summary_)\n",
        "- Gráfica de \"_Datos reales vs. Estimación del modelo (In-Sample forecasting)_\"\n",
        "- Gráficas de análisis del componente residual (curvas de diagnóstico, correlaciones con otras variables)\n",
        "- Gráfica de \"_Datos reales vs. Predicción del modelo (Out-of-Sample forecasting)_\"\n",
        "- Gráfica interactiva con el histórico, la predicción y los valores reales del último año.\n",
        "- Las métricas de \"_Out-of-sample performance_\": MAE, MAPE, MSE, RMSE y R2.\n",
        "\n",
        "**`25.2.4`** Aplica el método de `Holt-Winters Exponential Smoothing` la serie temporal y consigue estos puntos **y analiza los resultados obtenidos**:\n",
        "- Resumen del modelo ajustado (_Model fit summary_)\n",
        "- Gráfica de \"_Datos reales vs. Estimación del modelo (In-Sample forecasting)_\"\n",
        "- Gráficas de análisis del componente residual (correlaciones con otras variables)\n",
        "- Gráfica de \"_Datos reales vs. Predicción del modelo (Out-of-Sample forecasting)_\"\n",
        "- Gráfica interactiva con el histórico, la predicción y los valores reales del último año.\n",
        "- Las métricas de \"_Out-of-sample performance_\": MAE, MAPE, MSE, RMSE y R2."
      ]
    },
    {
      "cell_type": "markdown",
      "id": "fc03d007",
      "metadata": {
        "id": "fc03d007"
      },
      "source": [
        "---"
      ]
    }
  ],
  "metadata": {
    "kernelspec": {
      "display_name": "Python 3 (ipykernel)",
      "language": "python",
      "name": "python3"
    },
    "language_info": {
      "codemirror_mode": {
        "name": "ipython",
        "version": 3
      },
      "file_extension": ".py",
      "mimetype": "text/x-python",
      "name": "python",
      "nbconvert_exporter": "python",
      "pygments_lexer": "ipython3",
      "version": "3.9.12"
    },
    "vscode": {
      "interpreter": {
        "hash": "ad2bdc8ecc057115af97d19610ffacc2b4e99fae6737bb82f5d7fb13d2f2c186"
      }
    },
    "colab": {
      "provenance": []
    }
  },
  "nbformat": 4,
  "nbformat_minor": 5
}
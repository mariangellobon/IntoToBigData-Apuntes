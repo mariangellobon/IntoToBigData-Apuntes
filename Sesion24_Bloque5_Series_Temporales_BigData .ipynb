{
  "cells": [
    {
      "cell_type": "markdown",
      "id": "496631ea",
      "metadata": {
        "id": "496631ea"
      },
      "source": [
        "# Módulo 1: Análisis de datos en el ecosistema Python"
      ]
    },
    {
      "cell_type": "markdown",
      "id": "3a14cd3f",
      "metadata": {
        "id": "3a14cd3f"
      },
      "source": [
        "### Sesión (24)"
      ]
    },
    {
      "cell_type": "markdown",
      "id": "5e06d26c",
      "metadata": {
        "id": "5e06d26c"
      },
      "source": [
        "# Análisis de series temporales (Time Series)"
      ]
    },
    {
      "cell_type": "markdown",
      "id": "3bbe23bf",
      "metadata": {
        "id": "3bbe23bf"
      },
      "source": [
        "El análisis de series temporales (__Time Series Analysis__) es el estudio de puntos de datos recopilados a lo largo del tiempo, normalmente en intervalos fijos. El objetivo es comprender los __patrones__ y __tendencias__ subyacentes en los datos y utilizar esta información para hacer __predicciones__ sobre valores futuros."
      ]
    },
    {
      "cell_type": "markdown",
      "id": "830f5e75",
      "metadata": {
        "id": "830f5e75"
      },
      "source": [
        "![time-series.png](attachment:time-series.png)"
      ]
    },
    {
      "cell_type": "markdown",
      "id": "fe0f08df",
      "metadata": {
        "id": "fe0f08df"
      },
      "source": [
        "Para realizar un análisis de series temporales en _Python_, generalmente podemos usar ***pandas*** para cargar, manipular y visualizar los datos, y la librería ***statsmodels*** para aplicar diferentes técnicas comunes como el **análisis de tendencias**, el **análisis de estacionalidad** y de **autocorrelacións** que nos sirven de ayuda de cara a la creación y evaluación de **modelos predictivos**."
      ]
    },
    {
      "cell_type": "markdown",
      "id": "0199f47e",
      "metadata": {
        "id": "0199f47e"
      },
      "source": [
        "![statsmodels.png](attachment:statsmodels.png)"
      ]
    },
    {
      "cell_type": "code",
      "execution_count": null,
      "id": "12bb3b16",
      "metadata": {
        "id": "12bb3b16"
      },
      "outputs": [],
      "source": [
        "# importamos las librerías necesarias\n",
        "import pandas as pd\n",
        "import seaborn as sns\n",
        "import matplotlib.pyplot as plt\n",
        "import numpy as np\n",
        "%matplotlib inline"
      ]
    },
    {
      "cell_type": "code",
      "execution_count": null,
      "id": "2ac9270b",
      "metadata": {
        "id": "2ac9270b"
      },
      "outputs": [],
      "source": [
        "# Modificamos los parámetros de los gráficos en matplotlib\n",
        "from matplotlib.pyplot import rcParams\n",
        "\n",
        "rcParams['figure.figsize'] = 12, 6 # el primer dígito es el ancho y el segundo el alto\n",
        "rcParams[\"font.weight\"] = \"bold\"\n",
        "rcParams[\"font.size\"] = 10\n",
        "rcParams[\"axes.labelweight\"] = \"bold\""
      ]
    },
    {
      "cell_type": "markdown",
      "id": "5ddc1ae8",
      "metadata": {
        "id": "5ddc1ae8"
      },
      "source": [
        "### Airline Passenger Dataset"
      ]
    },
    {
      "cell_type": "markdown",
      "id": "88855ca1",
      "metadata": {
        "id": "88855ca1"
      },
      "source": [
        "Importamos los datos del ejemplo disponible en la librería _statsmodels_"
      ]
    },
    {
      "cell_type": "code",
      "execution_count": null,
      "id": "0d15e0c9",
      "metadata": {
        "id": "0d15e0c9",
        "outputId": "99019124-ad06-406e-952c-01121c03e3f6"
      },
      "outputs": [
        {
          "name": "stdout",
          "output_type": "stream",
          "text": [
            "Tipo de dataset: <class 'pandas.core.frame.DataFrame'>\n"
          ]
        },
        {
          "data": {
            "text/html": [
              "<div>\n",
              "<style scoped>\n",
              "    .dataframe tbody tr th:only-of-type {\n",
              "        vertical-align: middle;\n",
              "    }\n",
              "\n",
              "    .dataframe tbody tr th {\n",
              "        vertical-align: top;\n",
              "    }\n",
              "\n",
              "    .dataframe thead th {\n",
              "        text-align: right;\n",
              "    }\n",
              "</style>\n",
              "<table border=\"1\" class=\"dataframe\">\n",
              "  <thead>\n",
              "    <tr style=\"text-align: right;\">\n",
              "      <th></th>\n",
              "      <th>time</th>\n",
              "      <th>value</th>\n",
              "    </tr>\n",
              "  </thead>\n",
              "  <tbody>\n",
              "    <tr>\n",
              "      <th>0</th>\n",
              "      <td>1949.000000</td>\n",
              "      <td>112</td>\n",
              "    </tr>\n",
              "    <tr>\n",
              "      <th>1</th>\n",
              "      <td>1949.083333</td>\n",
              "      <td>118</td>\n",
              "    </tr>\n",
              "    <tr>\n",
              "      <th>2</th>\n",
              "      <td>1949.166667</td>\n",
              "      <td>132</td>\n",
              "    </tr>\n",
              "    <tr>\n",
              "      <th>3</th>\n",
              "      <td>1949.250000</td>\n",
              "      <td>129</td>\n",
              "    </tr>\n",
              "    <tr>\n",
              "      <th>4</th>\n",
              "      <td>1949.333333</td>\n",
              "      <td>121</td>\n",
              "    </tr>\n",
              "    <tr>\n",
              "      <th>...</th>\n",
              "      <td>...</td>\n",
              "      <td>...</td>\n",
              "    </tr>\n",
              "    <tr>\n",
              "      <th>139</th>\n",
              "      <td>1960.583333</td>\n",
              "      <td>606</td>\n",
              "    </tr>\n",
              "    <tr>\n",
              "      <th>140</th>\n",
              "      <td>1960.666667</td>\n",
              "      <td>508</td>\n",
              "    </tr>\n",
              "    <tr>\n",
              "      <th>141</th>\n",
              "      <td>1960.750000</td>\n",
              "      <td>461</td>\n",
              "    </tr>\n",
              "    <tr>\n",
              "      <th>142</th>\n",
              "      <td>1960.833333</td>\n",
              "      <td>390</td>\n",
              "    </tr>\n",
              "    <tr>\n",
              "      <th>143</th>\n",
              "      <td>1960.916667</td>\n",
              "      <td>432</td>\n",
              "    </tr>\n",
              "  </tbody>\n",
              "</table>\n",
              "<p>144 rows × 2 columns</p>\n",
              "</div>"
            ],
            "text/plain": [
              "            time  value\n",
              "0    1949.000000    112\n",
              "1    1949.083333    118\n",
              "2    1949.166667    132\n",
              "3    1949.250000    129\n",
              "4    1949.333333    121\n",
              "..           ...    ...\n",
              "139  1960.583333    606\n",
              "140  1960.666667    508\n",
              "141  1960.750000    461\n",
              "142  1960.833333    390\n",
              "143  1960.916667    432\n",
              "\n",
              "[144 rows x 2 columns]"
            ]
          },
          "execution_count": 4,
          "metadata": {},
          "output_type": "execute_result"
        }
      ],
      "source": [
        "import statsmodels.api as sm\n",
        "\n",
        "# Cargar el dataset\n",
        "df_air = sm.datasets.get_rdataset('AirPassengers').data\n",
        "\n",
        "print(\"Tipo de dataset:\", type(df_air))\n",
        "df_air"
      ]
    },
    {
      "cell_type": "code",
      "execution_count": null,
      "id": "21f87e20",
      "metadata": {
        "id": "21f87e20"
      },
      "outputs": [],
      "source": [
        "plt.plot(df_air)\n",
        "plt.show()"
      ]
    },
    {
      "cell_type": "code",
      "execution_count": null,
      "id": "8ed40387",
      "metadata": {
        "id": "8ed40387"
      },
      "outputs": [],
      "source": [
        "sns.lineplot(data=df_air, x='time', y='value')\n",
        "plt.show()"
      ]
    },
    {
      "cell_type": "markdown",
      "id": "fd5246f9",
      "metadata": {
        "id": "fd5246f9"
      },
      "source": [
        "Como podemos observar, la columna _`time`_ contiene los marcadores mensuales:"
      ]
    },
    {
      "cell_type": "code",
      "execution_count": null,
      "id": "ca695ecb",
      "metadata": {
        "id": "ca695ecb"
      },
      "outputs": [],
      "source": [
        "print(1/12, 2/12, 3/12, '...')"
      ]
    },
    {
      "cell_type": "markdown",
      "id": "e8b2742d",
      "metadata": {
        "id": "e8b2742d"
      },
      "source": [
        "Una técnica común consiste en convertir o definir el tiempo registrado o los _timestamps_ en un objeto _pandas **DateTimeIndex**_, lo que nos permite realizar operaciones basadas en el tiempo, y tener los índices para cambiar o manipular fácilmente los datos de la serie temporal."
      ]
    },
    {
      "cell_type": "markdown",
      "id": "bd773337",
      "metadata": {
        "id": "bd773337"
      },
      "source": [
        "Viendo el contenido de la columna _`time`_, creamos un objeto _DatetimeIndex_ usando la función `pd.date_range()`, que genera un rango de fechas con una frecuencia mensual (`freq='MS'`) entre la fecha de inicio de `'1949-01-01'` y la fecha de finalización de `'1960-12-01'`."
      ]
    },
    {
      "cell_type": "code",
      "execution_count": null,
      "id": "b3236ef0",
      "metadata": {
        "id": "b3236ef0"
      },
      "outputs": [],
      "source": [
        "# Definir un rango de fechas con pasos fijos\n",
        "fechas = pd.date_range(start='1949-01-01', end='1960-12-01', freq='MS')\n",
        "\n",
        "# Asignar a las fechas como los índices del DataFrame\n",
        "df_air.set_index(fechas, inplace=True)\n",
        "\n",
        "# Quitar la columna 'time' de la tabla\n",
        "df_air.drop(columns='time', inplace=True)\n",
        "\n",
        "df_air"
      ]
    },
    {
      "cell_type": "code",
      "execution_count": null,
      "id": "963d1339",
      "metadata": {
        "id": "963d1339"
      },
      "outputs": [],
      "source": [
        "# Visualizamos los datos preparados\n",
        "plt.plot(df_air)\n",
        "plt.show()"
      ]
    },
    {
      "cell_type": "markdown",
      "id": "8cc96caa",
      "metadata": {
        "id": "8cc96caa"
      },
      "source": [
        "La gráfica de una serie temporal como otros conjuntos de datos está formado por puntos, a pesar de que se visualizan habitualmente de forma de líneas."
      ]
    },
    {
      "cell_type": "code",
      "execution_count": null,
      "id": "2e6e593f",
      "metadata": {
        "id": "2e6e593f"
      },
      "outputs": [],
      "source": [
        "# Gráfico de puntos de datos\n",
        "sns.scatterplot(data=df_air)\n",
        "plt.show()"
      ]
    },
    {
      "cell_type": "code",
      "execution_count": null,
      "id": "be1cb8c1",
      "metadata": {
        "id": "be1cb8c1"
      },
      "outputs": [],
      "source": [
        "# Consultar los índices creados\n",
        "df_air.index"
      ]
    },
    {
      "cell_type": "markdown",
      "id": "11414e7c",
      "metadata": {
        "id": "11414e7c"
      },
      "source": [
        "Otra forma de cargar los datos de este ejemplo es mediante la librería ___seaborn___"
      ]
    },
    {
      "cell_type": "code",
      "execution_count": null,
      "id": "e04bbbca",
      "metadata": {
        "id": "e04bbbca"
      },
      "outputs": [],
      "source": [
        "import seaborn as sns\n",
        "import pandas as pd\n",
        "\n",
        "# Cargar el dataset de \"flights\"\n",
        "df_flight = sns.load_dataset('flights')\n",
        "\n",
        "print(\"Tipo de dataset:\", type(df_flight))\n",
        "df_flight"
      ]
    },
    {
      "cell_type": "code",
      "execution_count": null,
      "id": "0f265acb",
      "metadata": {
        "id": "0f265acb"
      },
      "outputs": [],
      "source": [
        "# Consultar la información del dataset descargado\n",
        "df_flight.info()"
      ]
    },
    {
      "cell_type": "markdown",
      "id": "59c68905",
      "metadata": {
        "id": "59c68905"
      },
      "source": [
        "Vemos que este dataset contiene mismos valores, pero el tiempo viene registrado en forma de **_año_ y _mes_ por separado**. En este caso podemos juntar esta información en una nueva columna y convertirla en ___DatetimeIndex___"
      ]
    },
    {
      "cell_type": "code",
      "execution_count": null,
      "id": "5cb393bc",
      "metadata": {
        "id": "5cb393bc"
      },
      "outputs": [],
      "source": [
        "# Crear una nueva columna con la unificación de otras dos\n",
        "df_flight['year_month'] = df_flight.apply(lambda x: str(x['year']) + '-' + x['month'], axis=1)\n",
        "\n",
        "df_flight"
      ]
    },
    {
      "cell_type": "code",
      "execution_count": null,
      "id": "f030dc95",
      "metadata": {
        "id": "f030dc95"
      },
      "outputs": [],
      "source": [
        "# Convertir la columna en fechas tipo DatetimeIndex\n",
        "df_flight['fechas'] = pd.to_datetime(df_flight['year_month'], format='%Y-%b')\n",
        "\n",
        "# Convertir la columna de fechas a los índices del DataFrame\n",
        "df_flight.set_index('fechas', inplace=True)\n",
        "\n",
        "# Quitar las columnas no necesarias\n",
        "df_flight.drop(columns=['year', 'month', 'year_month'], inplace=True)\n",
        "\n",
        "df_flight"
      ]
    },
    {
      "cell_type": "code",
      "execution_count": null,
      "id": "a8381d2b",
      "metadata": {
        "id": "a8381d2b"
      },
      "outputs": [],
      "source": [
        "# Visualizar el DataFrame\n",
        "plt.plot(df_flight)\n",
        "plt.show()"
      ]
    },
    {
      "cell_type": "markdown",
      "id": "76c0f190",
      "metadata": {
        "id": "76c0f190"
      },
      "source": [
        "Vamos a comprobar si las dos formas de cargar y tratar los datos nos han llevado al mismo Dataset:"
      ]
    },
    {
      "cell_type": "code",
      "execution_count": null,
      "id": "499a9488",
      "metadata": {
        "id": "499a9488"
      },
      "outputs": [],
      "source": [
        "# Consultar las dos tablas\n",
        "display(df_air)\n",
        "display(df_flight)"
      ]
    },
    {
      "cell_type": "markdown",
      "id": "131cc255",
      "metadata": {
        "id": "131cc255"
      },
      "source": [
        "Para comparar dos _DataFrames_ podemos usar el método `.equals()` que nos permite comprobar si dos objetos de este tipo son **exactamente identicos** o no:"
      ]
    },
    {
      "cell_type": "code",
      "execution_count": null,
      "id": "fc03170b",
      "metadata": {
        "id": "fc03170b"
      },
      "outputs": [],
      "source": [
        "# Comparar las dos tablas (DataFrames)\n",
        "df_air.equals(df_flight)"
      ]
    },
    {
      "cell_type": "markdown",
      "id": "ace9164d",
      "metadata": {
        "id": "ace9164d"
      },
      "source": [
        "Sabemos que la **diferencia** está en los **nombres de las columnas** y el **índice** y **no en el contenido**. Podemos utilizar la función `array_equal()` de _numpy_ para asegurarnos que los dos tablas contienen la misma información:"
      ]
    },
    {
      "cell_type": "code",
      "execution_count": null,
      "id": "d7d3094b",
      "metadata": {
        "id": "d7d3094b"
      },
      "outputs": [],
      "source": [
        "# Comparar los valores\n",
        "np.array_equal(df_air.values, df_flight.values)"
      ]
    },
    {
      "cell_type": "code",
      "execution_count": null,
      "id": "61a6c085",
      "metadata": {
        "id": "61a6c085"
      },
      "outputs": [],
      "source": [
        "# Comparar los índices\n",
        "np.array_equal(df_air.index, df_flight.index)"
      ]
    },
    {
      "cell_type": "code",
      "execution_count": null,
      "id": "3bc0de92",
      "metadata": {
        "id": "3bc0de92"
      },
      "outputs": [],
      "source": [
        "# Comparación visual\n",
        "fig, axes = plt.subplots(2,1, figsize=(16,9))\n",
        "sns.lineplot(data=df_air, ax=axes[0])\n",
        "sns.lineplot(data=df_flight, ax=axes[1])\n",
        "plt.show()"
      ]
    },
    {
      "cell_type": "markdown",
      "id": "df5a6d49",
      "metadata": {
        "id": "df5a6d49"
      },
      "source": [
        "De las principales ventajas de tener los tiempos registrados como un objeto _DatetimeIndex_ podemos mencionar:\n",
        "- **Resampling**\n",
        "- **Time-based slicing**\n",
        "- **Time zone handling**"
      ]
    },
    {
      "cell_type": "code",
      "execution_count": null,
      "id": "fe7c9ef0",
      "metadata": {
        "id": "fe7c9ef0"
      },
      "outputs": [],
      "source": [
        "# Podemos hacer un remuestreo por ejemplo para agrupar los datos por año, promediando los valores mensuales\n",
        "df_air_anual = df_air.resample('Y').mean()\n",
        "display(df_air_anual)\n",
        "plt.plot(df_air_anual)\n",
        "plt.show()"
      ]
    },
    {
      "cell_type": "code",
      "execution_count": null,
      "id": "1ac9bd32",
      "metadata": {
        "id": "1ac9bd32"
      },
      "outputs": [],
      "source": [
        "# Podemos seleccionar fácilmente los registros en un intervalo concreto entre dos fechas por ejemplo\n",
        "df_air['1954-03-30':'1955-02-10']"
      ]
    },
    {
      "cell_type": "code",
      "execution_count": null,
      "id": "08d738d1",
      "metadata": {
        "id": "08d738d1"
      },
      "outputs": [],
      "source": [
        "# Podemos llevar la hora internacional (UTC) a nuestra zona horaria local \"Central European Time (CET)\"\n",
        "df_air.tz_localize('Europe/Madrid', ambiguous='NaT')"
      ]
    },
    {
      "cell_type": "markdown",
      "id": "86356342",
      "metadata": {
        "id": "86356342"
      },
      "source": [
        "### Visualización más avanzada y dinámica con plotly"
      ]
    },
    {
      "cell_type": "markdown",
      "id": "ac538815",
      "metadata": {
        "id": "ac538815"
      },
      "source": [
        "**[plotly](https://plotly.com/python/)** es una librería popular de visualización de datos de código abierto en _Python_, _R_ y otros lenguajes de programación que permite crear gráficos y Dashboards totalmente **interactivos**, lo que permite a los usuarios acercar y alejar, desplazar y pasar el ratón sobre los puntos de datos para ver más información.  \n",
        "\n",
        "_Plotly_ Proporciona una **amplia gama de tipos de gráficos** y opciones de **personalización**, lo que la convierte en una herramienta versátil para la visualización de datos."
      ]
    },
    {
      "cell_type": "code",
      "execution_count": null,
      "id": "b1ed3e27",
      "metadata": {
        "id": "b1ed3e27"
      },
      "outputs": [],
      "source": [
        "# Las gráficas interactivas ayudan bastante a los analistas de datos,\n",
        "# sobre todo a la hora de analizar y explorar las series temporales\n",
        "import plotly.graph_objects as go\n",
        "fig = go.Figure()\n",
        "\n",
        "fig.add_trace(go.Scatter(\n",
        "    x=df_air.index,\n",
        "    y=df_air['value'],\n",
        "    mode=\"markers+lines\"\n",
        "    ))\n",
        "\n",
        "fig.update_layout(title=\"Número de pasajeros aéreos de cada mes desde el año 1949 al 1960\",\n",
        "                  title_font_size=26,\n",
        "                  xaxis_title = 'Fecha',\n",
        "                  yaxis_title= 'Pasajeros'\n",
        "                  )\n",
        "\n",
        "fig.show()"
      ]
    },
    {
      "cell_type": "markdown",
      "id": "13dd26c8",
      "metadata": {
        "id": "13dd26c8"
      },
      "source": [
        "### Analizar la estacionalidad"
      ]
    },
    {
      "cell_type": "markdown",
      "id": "85535646",
      "metadata": {
        "id": "85535646"
      },
      "source": [
        "El análisis de estacionalidad (___Seasonality analysis___) es el proceso de **identificar patrones** en los datos que **se repiten durante intervalos fijos de tiempo**, por ejemplo en un **año** o un **trimestre**. Implica examinar los datos de la serie temporal para determinar si existen **ciclos regulares** o patrones que ocurren dentro de los datos durante un **período específico**. Esto puede ayudar a predecir tendencias futuras y a tomar decisiones basadas en los datos históricos."
      ]
    },
    {
      "cell_type": "markdown",
      "id": "6f3ac269",
      "metadata": {
        "id": "6f3ac269"
      },
      "source": [
        "En este ejemplo podemos mirar como los datos muestran una **periodicidad anual** por poseer una **estacionalidad considerable** sobre los niveles de datos mensuales."
      ]
    },
    {
      "cell_type": "code",
      "execution_count": null,
      "id": "299fe92e",
      "metadata": {
        "id": "299fe92e"
      },
      "outputs": [],
      "source": [
        "# Podemos directamente pintar los datos por tramos anuales\n",
        "sns.lineplot(data=df_air, x=df_air.index, y=df_air['value'], hue=df_air.index.year, palette='husl')\n",
        "plt.show()"
      ]
    },
    {
      "cell_type": "markdown",
      "id": "452d3057",
      "metadata": {
        "id": "452d3057"
      },
      "source": [
        "#### Graficar el _Seasonal plot_"
      ]
    },
    {
      "cell_type": "markdown",
      "id": "ee7ea886",
      "metadata": {
        "id": "ee7ea886"
      },
      "source": [
        "Una técnica común para estudiar y explorar los patrones estacionales en los datos es sacar el ___Seasonal plot___ que consiste en **superponer** las gráficas que visualizan la **evolución de los datos en el periodo marcado** por la estacionalidad."
      ]
    },
    {
      "cell_type": "code",
      "execution_count": null,
      "id": "b621e48a",
      "metadata": {
        "id": "b621e48a"
      },
      "outputs": [],
      "source": [
        "# Crear una tabla pivotada en base a la columna que contiene los datos estacionales\n",
        "df_piv = pd.pivot_table(df_air,                      # Dataframe principal\n",
        "                        index=df_air.index.month,    # Las unidades del eje horizontal\n",
        "                        columns=df_air.index.year,   # El periodo estacional\n",
        "                        values=['value'])            # La columna que contiene los datos dentro del DataFrame\n",
        "df_piv"
      ]
    },
    {
      "cell_type": "code",
      "execution_count": null,
      "id": "fb121825",
      "metadata": {
        "id": "fb121825"
      },
      "outputs": [],
      "source": [
        "plt.figure(figsize=(17,10))\n",
        "plt.plot(df_piv, label=df_piv.columns)\n",
        "plt.title('Número de pasajeros aéreos (mensuales)', fontsize=16)\n",
        "plt.xlabel('Meses')\n",
        "plt.ylabel('Pasajeros')\n",
        "plt.legend(loc='upper right')\n",
        "plt.show()"
      ]
    },
    {
      "cell_type": "markdown",
      "id": "f00c65f2",
      "metadata": {
        "id": "f00c65f2"
      },
      "source": [
        "La otra alternativa sería graficar con la librería _seaborn_ todas las columnas mediante un bucle para llegar a tener el gráfico de _seasonal plot_."
      ]
    },
    {
      "cell_type": "code",
      "execution_count": null,
      "id": "b3c7bbd5",
      "metadata": {
        "id": "b3c7bbd5"
      },
      "outputs": [],
      "source": [
        "plt.figure(figsize=(17,10))\n",
        "\n",
        "# Un bucle para dibujar las columnas que corresponden a cada año\n",
        "for col in range(df_piv.shape[1]):\n",
        "    sns.lineplot(data=df_piv, x=df_piv.index, y=df_piv.iloc[:,col].values, label=df_piv.columns[col])\n",
        "\n",
        "plt.title('Número de pasajeros aéreos (mensuales)', fontsize=16)\n",
        "plt.xlabel('Meses')\n",
        "plt.ylabel('Pasajeros')\n",
        "plt.legend(loc='upper right')\n",
        "\n",
        "plt.show()"
      ]
    },
    {
      "cell_type": "markdown",
      "id": "50b1b601",
      "metadata": {
        "id": "50b1b601"
      },
      "source": [
        "Como muestra el gráfico de _seasonal plot_, este dataset cuenta con un **componente estacional** que innegablemente afecta a los números de pasajeros aéreos en función del mes de año, muy probablamente por los **periodos vacacionales**, el **clima** y los **ciclos económicos** a lo largo de un año."
      ]
    },
    {
      "cell_type": "markdown",
      "id": "b5bbbd4f",
      "metadata": {
        "id": "b5bbbd4f"
      },
      "source": [
        "### Descomposición de la serie temporal"
      ]
    },
    {
      "cell_type": "markdown",
      "id": "5a2041d1",
      "metadata": {
        "id": "5a2041d1"
      },
      "source": [
        "Otra técnica usada ampliamente en el análisis de la estacionalidad de una serie temporal es la descomposición de la misma o el ___Time series decomposition___ que pretende descomponer una serie temporal en sus **componentes subyacentes (_tendencia_, _estacional_ y _residual_)** con el fin de comprender y analizar mejor los datos. Los tres componentes de la descomposición de series de tiempo son:\n",
        "\n",
        "- **Trend** (tendencia) : esta es la **dirección a largo plazo** en la que se mueve la serie temporal. Captura el comportamiento general de la serie durante un largo período de tiempo. Puede ser **creciente**, **decreciente** o **plano**.\n",
        "\n",
        "- **Seasonality** (estacionalidad): Este es el **patrón de fluctuaciones recurrentes** o ciclos en la serie de tiempo que se repiten a intervalos regulares.\n",
        "\n",
        "- **Residual**: Esta es la **variación aleatoria** en la serie de tiempo que no puede explicarse por la tendencia o la estacionalidad. Representa el **ruido o error** en los datos.\n",
        "\n",
        "La descomposición de series temporales se puede realizar utilizando dos enfoques diferentes:  \n",
        "- Descomposición **aditiva**:  La serie temporal se descompone en la **suma de sus componentes** de tendencia, estacionalidad y residuos.\n",
        "- Descomposición **multiplicativa**:  La serie temporal se descompone en el **producto de sus componentes** de tendencia, estacionalidad y residuos.\n",
        "\n",
        "Una vez que se descompone la serie temporal, cada componente se puede analizar por separado para obtener información sobre los datos. Por ejemplo, el componente de **tendencia** se puede usar para identificar **patrones a largo plazo** o cambios incrementales en los datos, mientras que el componente **estacional** se puede usar para identificar **ciclos regulares** o patrones en los datos."
      ]
    },
    {
      "cell_type": "code",
      "execution_count": null,
      "id": "b277ceab",
      "metadata": {
        "id": "b277ceab"
      },
      "outputs": [],
      "source": [
        "from statsmodels.tsa.seasonal import seasonal_decompose\n",
        "\n",
        "df_air_des = seasonal_decompose(df_air, model='additive')\n",
        "\n",
        "display(df_air_des.trend[100:105])\n",
        "display(df_air_des.seasonal[100:105])\n",
        "display(df_air_des.resid[100:105])"
      ]
    },
    {
      "cell_type": "code",
      "execution_count": null,
      "id": "a3ca6652",
      "metadata": {
        "id": "a3ca6652"
      },
      "outputs": [],
      "source": [
        "# Establecer el tamaño de la imégen\n",
        "rcParams['figure.figsize'] = 18, 8\n",
        "\n",
        "# Graficar la descomposición de la serie temporal\n",
        "df_air_des.plot()\n",
        "plt.show()\n",
        "\n",
        "# Podemos volver a resetear los tamaños a los valores por defecto\n",
        "# plt.rcdefaults()"
      ]
    },
    {
      "cell_type": "markdown",
      "id": "e17db68f",
      "metadata": {
        "id": "e17db68f"
      },
      "source": [
        "Ahora sumamos la tendencia y el componente estacional para observar los patrones extraídos con esta descomposición:"
      ]
    },
    {
      "cell_type": "code",
      "execution_count": null,
      "id": "e4217ae2",
      "metadata": {
        "id": "e4217ae2"
      },
      "outputs": [],
      "source": [
        "rcParams['figure.figsize'] = 12, 6\n",
        "plt.plot(df_air_des.seasonal + df_air_des.trend)\n",
        "plt.title(\"seasonal_decompose:  Seasonal + Trend\")\n",
        "plt.show()"
      ]
    },
    {
      "cell_type": "markdown",
      "id": "84d93cec",
      "metadata": {
        "id": "84d93cec"
      },
      "source": [
        "Al visualizar el periodo anual mediante _`seasonal plot`_ sabemos que el **patrón estacional tiene una forma cada vez más estirada**. Se puede observar que **al fijar la forma de componente estacional**, la evolución de la serie temporal **no se refleja correctamente** en la suma de estos dos componentes. Visualizamos mejor el componente residual que contiene la parte no explicada de la serie:"
      ]
    },
    {
      "cell_type": "code",
      "execution_count": null,
      "id": "3ea4a714",
      "metadata": {
        "id": "3ea4a714"
      },
      "outputs": [],
      "source": [
        "display(df_air_des.resid.describe().round(2))\n",
        "plt.plot(df_air_des.resid)\n",
        "plt.title(\"seasonal_decompose:  Residual\")\n",
        "plt.show()"
      ]
    },
    {
      "cell_type": "markdown",
      "id": "4cc37864",
      "metadata": {
        "id": "4cc37864"
      },
      "source": [
        "Vemos que claramente hay un **comportamiento periódico** en estos datos que indica que todavía **queda una parte de información** que no se ha llegado a explotar."
      ]
    },
    {
      "cell_type": "markdown",
      "id": "975be5de",
      "metadata": {
        "id": "975be5de"
      },
      "source": [
        "#### Seasonal and Trend decomposition using Loess (_STL_)"
      ]
    },
    {
      "cell_type": "markdown",
      "id": "f6cbc521",
      "metadata": {
        "id": "f6cbc521"
      },
      "source": [
        "La descomposición de tendencia estacional mediante Loess (**STL**) es un método avanzado de descomposición de series temporales que utiliza **modelos de regresión** ajustados localmente para descomponer una serie temporal en componentes de tendencia, estacionales y restantes, permitiendo la **flexibilidad** para el componente **estacional**."
      ]
    },
    {
      "cell_type": "code",
      "execution_count": null,
      "id": "dfac70a3",
      "metadata": {
        "id": "dfac70a3"
      },
      "outputs": [],
      "source": [
        "# Descomponer la serie y graficarla\n",
        "from statsmodels.tsa.seasonal import STL\n",
        "df_air_stl = STL(df_air).fit()\n",
        "\n",
        "display(df_air_stl.trend[100:105])\n",
        "display(df_air_stl.seasonal[100:105])\n",
        "display(df_air_stl.resid[100:105])\n"
      ]
    },
    {
      "cell_type": "code",
      "execution_count": null,
      "id": "981dd557",
      "metadata": {
        "id": "981dd557"
      },
      "outputs": [],
      "source": [
        "# Establecer el tamaño de la imégen\n",
        "rcParams['figure.figsize'] = 18, 8\n",
        "\n",
        "# Graficar la descomposición de la serie temporal\n",
        "df_air_stl.plot()\n",
        "plt.show()\n",
        "\n",
        "# Podemos volver a resetear los tamaños a los valores por defecto\n",
        "# plt.rcdefaults()"
      ]
    },
    {
      "cell_type": "markdown",
      "id": "40b3a557",
      "metadata": {
        "id": "40b3a557"
      },
      "source": [
        "Se puede apreciar que el componente **estacional** tiene **una ampliación a lo largo de tiempo** que es más ajustado a la realidad. Esto hace que la suma de los dos componentes represente **un comportamiento similar a la de serie** temporal."
      ]
    },
    {
      "cell_type": "code",
      "execution_count": null,
      "id": "5bd7ece8",
      "metadata": {
        "id": "5bd7ece8"
      },
      "outputs": [],
      "source": [
        "rcParams['figure.figsize'] = 12, 6\n",
        "plt.plot(df_air_stl.seasonal + df_air_stl.trend)\n",
        "plt.title(\"STL:  Seasonal + Trend\")\n",
        "plt.show()"
      ]
    },
    {
      "cell_type": "markdown",
      "id": "031cdbbf",
      "metadata": {
        "id": "031cdbbf"
      },
      "source": [
        "Por consiguiente los valores residuales **no presentan un comportamiento o un patrón concreto**. Son valores **más pequeños** y mustran **más aleatoriedad** que la descomposición anterior."
      ]
    },
    {
      "cell_type": "code",
      "execution_count": null,
      "id": "671fffd4",
      "metadata": {
        "id": "671fffd4"
      },
      "outputs": [],
      "source": [
        "display(df_air_stl.resid.describe().round(2))\n",
        "plt.plot(df_air_stl.resid)\n",
        "plt.title(\"STL:  Residual\")\n",
        "plt.show()"
      ]
    },
    {
      "cell_type": "markdown",
      "id": "3a3225fb",
      "metadata": {
        "id": "3a3225fb"
      },
      "source": [
        "### Análisis de autocorrelación"
      ]
    },
    {
      "cell_type": "markdown",
      "id": "18c57e59",
      "metadata": {
        "id": "18c57e59"
      },
      "source": [
        "La autocorrelación (___Autocorrelation___) mide un conjunto de valores actuales contra un conjunto de valores pasados de una serie para ver **si se correlacionan** o no. Entonces, en lugar de medir la correlación entre dos variables aleatorias, estamos midiendo la **correlación entre una variable aleatoria contra sí misma**."
      ]
    },
    {
      "cell_type": "markdown",
      "id": "46b3bf2b",
      "metadata": {
        "id": "46b3bf2b"
      },
      "source": [
        "A continuación vamos a calcular la correlación entre dos vectores para tenerlo más claro:"
      ]
    },
    {
      "cell_type": "code",
      "execution_count": null,
      "id": "0aac6925",
      "metadata": {
        "id": "0aac6925"
      },
      "outputs": [],
      "source": [
        "# Calcular mediante \"pandas\" el coeficiente de correlación linear entre dos Series (Pearson’s r)\n",
        "A = pd.Series([1, 2, 3, 4, 5])\n",
        "B = pd.Series([10, 20, 30, 40, 50])\n",
        "C = pd.Series([-10, -20, -30, -40, -50])\n",
        "\n",
        "X = pd.Series([99, -0.05, 100006.3, 888, 0.025])\n",
        "\n",
        "print(\"La correlación entre A y B = \", A.corr(B))\n",
        "print(\"La correlación entre A y C = \", A.corr(C))\n",
        "print(\"La correlación entre A y X = \", A.corr(X))"
      ]
    },
    {
      "cell_type": "markdown",
      "id": "11d9713b",
      "metadata": {
        "id": "11d9713b"
      },
      "source": [
        "Podemos ver que la correlación (en este ejemplo de tipo _Pearson_) es la **fuerza con la que dos variables están relacionadas entre sí**. Si el valor es **+1** las variables están perfectamente **correlacionadas positivamente**, y si es **-1** están perfectamente **correlacionadas negativamente** y en caso de ser igual a **0 no hay correlación**."
      ]
    },
    {
      "cell_type": "markdown",
      "id": "4fcd07d0",
      "metadata": {
        "id": "4fcd07d0"
      },
      "source": [
        "![Pearson-Correlation-Coefficient-Formula.jpg](attachment:Pearson-Correlation-Coefficient-Formula.jpg)"
      ]
    },
    {
      "cell_type": "markdown",
      "id": "5d19aa48",
      "metadata": {
        "id": "5d19aa48"
      },
      "source": [
        "Podemos calcular la correlación de las observaciones de una serie temporal con observaciones anteriores, llamados retrasos (___lags___). Debido a que la correlación de las observaciones de la serie temporal se calcula con valores de la misma serie en momentos anteriores, esto se denomina **correlación serial** o ***autocorrelación***.\n",
        "\n",
        "La gráfica de la autocorrelación de una serie temporal se denomina **función de autocorrelación**, o el acrónimo ***ACF***. Esta gráfica a veces se denomina **correlograma**:"
      ]
    },
    {
      "cell_type": "code",
      "execution_count": null,
      "id": "0e5180d3",
      "metadata": {
        "id": "0e5180d3"
      },
      "outputs": [],
      "source": [
        "from statsmodels.graphics.tsaplots import plot_acf\n",
        "\n",
        "rcParams['figure.figsize'] = 14, 7\n",
        "plot_acf(df_air, lags=37)\n",
        "plt.xticks(np.arange(37))\n",
        "plt.ylim(-1.1,1.1)\n",
        "plt.show()"
      ]
    },
    {
      "cell_type": "markdown",
      "id": "3bf5d224",
      "metadata": {
        "id": "3bf5d224"
      },
      "source": [
        "Fijandonos en la evolución de los coeficientes de correlación para cada _lag_, vemos que:  \n",
        "\n",
        "- El _lag_ 0 tiene una correlación perfecta de 1 porque estamos **correlacionando la serie temporal con una copia exacta de sí misma**.  \n",
        "\n",
        "- Hay un **patrón cíclico** evidente cada **múltiplo de 12**, confirmando que tenemos una **estacionalidad anual** en nuestros datos.  \n",
        "\n",
        "- La **fuerza de la correlación se disminuye** a medida que aumentan los retrasos o los _lags_. Esto indica que tenemos una **tendencia** en nuestros datos."
      ]
    },
    {
      "cell_type": "markdown",
      "id": "6ca52cc7",
      "metadata": {
        "id": "6ca52cc7"
      },
      "source": [
        "##### Intervalos de confianza (_Confidence intervals_)"
      ]
    },
    {
      "cell_type": "markdown",
      "id": "9e1b6a57",
      "metadata": {
        "id": "9e1b6a57"
      },
      "source": [
        "De forma predeterminada se establecen unos **intervalos de confianza del 95 %** que se dibujan muchas veces como un **cono** y sugieren  que los valores de correlación fuera de este cono (la región azul) son muy probablemente una correlación y **no una casualidad estadística**. Por lo tanto, al construir un modelo predictivo, esta gráfica indica que **probablemente solo debería considerar hasta el _lag_ 13** de los valores anteriores debido a sus **importancias estadísticas**.\n"
      ]
    },
    {
      "cell_type": "markdown",
      "id": "3015607f",
      "metadata": {
        "id": "3015607f"
      },
      "source": [
        "#### Partial Autocorrelation Function (PACF)"
      ]
    },
    {
      "cell_type": "markdown",
      "id": "e1a29175",
      "metadata": {
        "id": "e1a29175"
      },
      "source": [
        "Una **autocorrelación parcial** es la relación entre una serie de temporal y sus observaciones en pasos de tiempo anteriores  (_lags_), **eliminando todos los efectos intermedios**.\n",
        "\n",
        "Como _PACF_ mide **la relación directa de una observación con las observaciones anteriores**, muestra un decline más allá de los retrasos que no tengan importancia, y por lo tanto se utiliza a menudo **para encontrar el tope de los _lags_ a considerar** para modelizar las series temporales."
      ]
    },
    {
      "cell_type": "code",
      "execution_count": null,
      "id": "5f88ea21",
      "metadata": {
        "id": "5f88ea21"
      },
      "outputs": [],
      "source": [
        "from statsmodels.graphics.tsaplots import plot_pacf\n",
        "\n",
        "plot_pacf(df_air, lags=37, method='ywm')\n",
        "plt.xticks(np.arange(37))\n",
        "plt.ylim(-1.1,1.1)\n",
        "plt.show()"
      ]
    },
    {
      "cell_type": "markdown",
      "id": "3c496a2e",
      "metadata": {
        "id": "3c496a2e"
      },
      "source": [
        "### Stationarity Analysis"
      ]
    },
    {
      "cell_type": "markdown",
      "id": "79d3ece4",
      "metadata": {
        "id": "79d3ece4"
      },
      "source": [
        "La **estacionariedad** significa que las **características estadísticas** de un proceso que genera una serie temporal, **no cambian con el tiempo**.  \n",
        "\n",
        "Una serie temporal **estacionaria** es aquella **cuyas propiedades no dependen del momento en que se observa la serie**. Por lo tanto, **las series con _tendencias_ o con _estacionalidad_ no son estacionarias**.  \n",
        "Por otro lado, una serie de **ruido blanco (_white noise_) es estacionaria**: no importa cuándo la observes, muestra **las mismas propiedades estadísticas** en cualquier momento."
      ]
    },
    {
      "cell_type": "markdown",
      "id": "dbb88977",
      "metadata": {
        "id": "dbb88977"
      },
      "source": [
        "![Stationary-Time-Series.png](attachment:Stationary-Time-Series.png)"
      ]
    },
    {
      "cell_type": "markdown",
      "id": "035a6b69",
      "metadata": {
        "id": "035a6b69"
      },
      "source": [
        "La estacionariedad (_stationarity_) es un concepto fundamental en el análisis de series temporales, porque indica que de alguna manera **la media, la varianza y la autocorrelación de una serie de tiempo estacionaria no cambia con el tiempo**."
      ]
    },
    {
      "cell_type": "markdown",
      "id": "ef3e6c74",
      "metadata": {
        "id": "ef3e6c74"
      },
      "source": [
        "Ahora comparamos desde este aspecto las dos **componentes residuales** calculadas anteriormente, cuando **idealmente tienen que ser series estacionarias**:"
      ]
    },
    {
      "cell_type": "code",
      "execution_count": null,
      "id": "21366c45",
      "metadata": {
        "id": "21366c45"
      },
      "outputs": [],
      "source": [
        "# Visualizamos el componente residual calculada mediante \"seasonal_decompose\"\n",
        "plt.plot(df_air_des.resid)\n",
        "plt.title(\"seasonal_decompose:  Residual\")\n",
        "plt.show()"
      ]
    },
    {
      "cell_type": "markdown",
      "id": "b3ded600",
      "metadata": {
        "id": "b3ded600"
      },
      "source": [
        "Estudiamos las propiedades estadísticas de esta serie en varios momentos para ver su evolución a lo largo del tiempo"
      ]
    },
    {
      "cell_type": "code",
      "execution_count": null,
      "id": "01fb753e",
      "metadata": {
        "id": "01fb753e"
      },
      "outputs": [],
      "source": [
        "df_resid1 = pd.DataFrame(df_air_des.resid)\n",
        "df_resid1_piv = pd.pivot_table(df_resid1,\n",
        "                               index=df_resid1.index.month,\n",
        "                               columns=df_resid1.index.year)\n",
        "df_resid1_piv"
      ]
    },
    {
      "cell_type": "code",
      "execution_count": null,
      "id": "fa1823e6",
      "metadata": {
        "id": "fa1823e6"
      },
      "outputs": [],
      "source": [
        "plt.plot(df_resid1_piv.mean().values, label='las medias por año')\n",
        "plt.plot(df_resid1_piv.std().values, label='las variaciones estándares por año')\n",
        "plt.axhline(y=0, color='r', linestyle='--')\n",
        "plt.title(\"Características estadísticas: [seasonal_decompose: Residual]\")\n",
        "plt.legend()\n",
        "plt.ylim(-31,31)\n",
        "plt.show()"
      ]
    },
    {
      "cell_type": "markdown",
      "id": "25437fc4",
      "metadata": {
        "id": "25437fc4"
      },
      "source": [
        "Por otro lado, analizamos la evolución de las cualidades estadísticas del componente residual calculado mediante el método _STL_"
      ]
    },
    {
      "cell_type": "code",
      "execution_count": null,
      "id": "67785812",
      "metadata": {
        "id": "67785812"
      },
      "outputs": [],
      "source": [
        "# Visualizamos el componente residual calculada mediante \"seasonal_decompose\"\n",
        "plt.plot(df_air_stl.resid)\n",
        "plt.title(\"STL:  Residual\")\n",
        "plt.show()"
      ]
    },
    {
      "cell_type": "code",
      "execution_count": null,
      "id": "a418df22",
      "metadata": {
        "id": "a418df22"
      },
      "outputs": [],
      "source": [
        "df_resid2 = pd.DataFrame(df_air_stl.resid)\n",
        "df_resid2_piv = pd.pivot_table(df_resid2,\n",
        "                               index=df_resid2.index.month,\n",
        "                               columns=df_resid2.index.year)\n",
        "df_resid2_piv"
      ]
    },
    {
      "cell_type": "code",
      "execution_count": null,
      "id": "63aa8916",
      "metadata": {
        "id": "63aa8916"
      },
      "outputs": [],
      "source": [
        "plt.plot(df_resid2_piv.mean().values, label='las medias por año')\n",
        "plt.plot(df_resid2_piv.std().values, label='las variaciones estándares por año')\n",
        "plt.axhline(y=0, color='r', linestyle='--')\n",
        "plt.title(\"Características estadísticas: [STL: Residual]\")\n",
        "plt.legend()\n",
        "plt.ylim(-31,31)\n",
        "plt.show()"
      ]
    },
    {
      "cell_type": "markdown",
      "id": "fc1ff44b",
      "metadata": {
        "id": "fc1ff44b"
      },
      "source": [
        "Se puede apreciar que el componente residual obtenido por la aplicación del método _`STL`_ presenta una **estacionariedad mayor**. Podemos analizar la función de **autocorrelación** para estas dos series para confirmar que **cuál de ellas contienen menos información** que **no se haya eleminado todavía**:  "
      ]
    },
    {
      "cell_type": "code",
      "execution_count": null,
      "id": "546ecedf",
      "metadata": {
        "id": "546ecedf"
      },
      "outputs": [],
      "source": [
        "from statsmodels.graphics.tsaplots import plot_acf\n",
        "\n",
        "rcParams['figure.figsize'] = 14, 7\n",
        "plot_acf(df_resid1.dropna(), lags=37)\n",
        "plt.title(\"ACF [seasonal_decompose: Residual]\")\n",
        "plt.xticks(np.arange(37))\n",
        "plt.ylim(-1.1,1.1)\n",
        "plt.show()"
      ]
    },
    {
      "cell_type": "code",
      "execution_count": null,
      "id": "7e0e60ad",
      "metadata": {
        "id": "7e0e60ad"
      },
      "outputs": [],
      "source": [
        "from statsmodels.graphics.tsaplots import plot_acf\n",
        "\n",
        "rcParams['figure.figsize'] = 14, 7\n",
        "plot_acf(df_resid2.dropna(), lags=37)\n",
        "plt.title(\"ACF [STL: Residual]\")\n",
        "plt.xticks(np.arange(37))\n",
        "plt.ylim(-1.1,1.1)\n",
        "plt.show()"
      ]
    },
    {
      "cell_type": "markdown",
      "id": "f069a28a",
      "metadata": {
        "id": "f069a28a"
      },
      "source": [
        "Efectivamente estas gráficas confirman **una mayor presencia de _tendencia_ y _estacionalidad_** para la serie temporal de valores residuales calculados mediante _`seasonal_decompose`_ y por lo tanto **una menor estacionariedad** comparando con la otra serie.  "
      ]
    },
    {
      "cell_type": "markdown",
      "id": "179d675d",
      "metadata": {
        "id": "179d675d"
      },
      "source": [
        "###  Rolling Window Calculations"
      ]
    },
    {
      "cell_type": "markdown",
      "id": "e3ee29cc",
      "metadata": {
        "id": "e3ee29cc"
      },
      "source": [
        "A pesar de que el método `pivot_table()` es una función potente en la librería _pandas_ y nos permite transformar y resumir los datos de un _DataFrame_,  existen otros métods como ___rolling window calculations___ para escanear y analizar las propiedades locales que tenemos en los datos.  \n",
        "\n",
        "**Cálculos de ventana móvil** se utiliza principalmente en el procesamiento de señales (_signal processing_) y datos de series temporales. Esta técnica consiste en **considerar una ventana** de tamaño fijo (_k_) y luego **realizar alguna operación matemática** deseada en esa ventana."
      ]
    },
    {
      "cell_type": "markdown",
      "id": "a43a8d17",
      "metadata": {
        "id": "a43a8d17"
      },
      "source": [
        "![rolling-sum-pandas-2.png](attachment:rolling-sum-pandas-2.png)"
      ]
    },
    {
      "cell_type": "markdown",
      "id": "ce121474",
      "metadata": {
        "id": "ce121474"
      },
      "source": [
        "`rolling()` es un método para los _pandas.DataFrames_ o _pandas.Series_ que crea un objeto de ventana móvil que se utiliza para aplicar una función a los datos dentro de cada ventana. La clase _`Rolling`_ tiene funciones matemáticas populares como `sum()`,` mean()` y otras funciones relacionadas implementadas. Por otra parte, a través del método `apply()`, se pueden realizar operaciones matemáticas personalizadas en una ventana móvil."
      ]
    },
    {
      "cell_type": "markdown",
      "id": "63cee933",
      "metadata": {
        "id": "63cee933"
      },
      "source": [
        "Echamos un vistazo aquí en uno de los componentes residuales que hemos analizado antes sus propiedades, mediante la agrupación de los datos de cada año:"
      ]
    },
    {
      "cell_type": "code",
      "execution_count": null,
      "id": "07982748",
      "metadata": {
        "id": "07982748"
      },
      "outputs": [],
      "source": [
        "# La tabla poivotada de los datos residuales en columnas para cada año\n",
        "df_resid1_piv"
      ]
    },
    {
      "cell_type": "code",
      "execution_count": null,
      "id": "e3955bcb",
      "metadata": {
        "id": "e3955bcb"
      },
      "outputs": [],
      "source": [
        "# La media calculada por columna/año\n",
        "df_resid1_piv.mean()"
      ]
    },
    {
      "cell_type": "markdown",
      "id": "6a32cb0d",
      "metadata": {
        "id": "6a32cb0d"
      },
      "source": [
        "Calculamos la media de los valores para las ventanas móviles de tamaño `12` que contienen datos por año, indicando que puede hacer estos cálculos incluso con 1 valor no nulo (_non-NA value_):"
      ]
    },
    {
      "cell_type": "code",
      "execution_count": null,
      "id": "77c09a94",
      "metadata": {
        "id": "77c09a94"
      },
      "outputs": [],
      "source": [
        "# El método devuelve simplemente un objeto de clase rolling\n",
        "df_resid1.rolling(window=12, min_periods=1)"
      ]
    },
    {
      "cell_type": "code",
      "execution_count": null,
      "id": "90019eed",
      "metadata": {
        "id": "90019eed"
      },
      "outputs": [],
      "source": [
        "# El método por defecto mueve con pasos de uno la venta móvil\n",
        "df_resid1.rolling(window=12, min_periods=1).mean()"
      ]
    },
    {
      "cell_type": "code",
      "execution_count": null,
      "id": "3330dd4c",
      "metadata": {
        "id": "3330dd4c"
      },
      "outputs": [],
      "source": [
        "# Usamos el \"Slicing\" para sacar los valores de ventanas sin solapamiento o \"overlapping\"\n",
        "df_resid1.rolling(window=12, min_periods=1).mean().iloc[11::12]"
      ]
    },
    {
      "cell_type": "markdown",
      "id": "f6ea786b",
      "metadata": {
        "id": "f6ea786b"
      },
      "source": [
        "Vemos que **conseguimos el mismo resultado** que obtenimos anteriormente con el método `pivot_table()`:"
      ]
    },
    {
      "cell_type": "code",
      "execution_count": null,
      "id": "d28aaf9e",
      "metadata": {
        "id": "d28aaf9e"
      },
      "outputs": [],
      "source": [
        "# Crear un DataFrame con los dos conjunto de valores para compararlos más fácilmente\n",
        "pd.DataFrame({\n",
        "    'pivot_table': df_resid1_piv.mean().values,\n",
        "    'rolling_window': df_resid1.rolling(window=12, min_periods=1).mean().iloc[11::12].values.reshape(-1)\n",
        "})"
      ]
    },
    {
      "cell_type": "code",
      "execution_count": null,
      "id": "c68a3cbe",
      "metadata": {
        "id": "c68a3cbe"
      },
      "outputs": [],
      "source": [
        "# Graficar las medias móviles para cada año\n",
        "df_resid1.rolling(window=12, min_periods=1).mean().iloc[11::12].plot()\n",
        "plt.ylim(-31,31)\n",
        "plt.show()"
      ]
    },
    {
      "cell_type": "code",
      "execution_count": null,
      "id": "dc08c25d",
      "metadata": {
        "id": "dc08c25d"
      },
      "outputs": [],
      "source": [
        "# Graficar la desviación estándr para cada año\n",
        "df_resid1.rolling(window=12, min_periods=1).std().iloc[11::12].plot()\n",
        "plt.ylim(-31,31)\n",
        "plt.show()"
      ]
    },
    {
      "cell_type": "markdown",
      "id": "5669e560",
      "metadata": {
        "id": "5669e560"
      },
      "source": [
        "### Ruido blanco (_White Noise_)"
      ]
    },
    {
      "cell_type": "markdown",
      "id": "ac125ff9",
      "metadata": {
        "id": "ac125ff9"
      },
      "source": [
        "En el análisis de series temporales, el ruido blanco es **un tipo de proceso estocástico en el que los valores no están correlacionados y tienen una media y una varianza constantes a lo largo del tiempo**. El ruido blanco es un concepto importante porque proporciona una línea de base con la que se pueden comparar otras series temporales y también se suele utilizar como componente en modelos de series temporales más complejos.\n",
        "\n",
        "Teóricamente, una serie de tiempo es ruido blanco si las **observaciones se distribuyen de forma independiente e idéntica con una media y una varianza constantes**. A raíz de esto, la función de autocorrelación es cero para todos los retrasos (_lags_) y la serie temporal es de tipo **`estacionaria`**."
      ]
    },
    {
      "cell_type": "markdown",
      "id": "a9ac8af0",
      "metadata": {
        "id": "a9ac8af0"
      },
      "source": [
        "![descarga.jpg](attachment:descarga.jpg)"
      ]
    },
    {
      "cell_type": "markdown",
      "id": "820a4806",
      "metadata": {
        "id": "820a4806"
      },
      "source": [
        "\n",
        "En otras palabras, los valores del ruido blanco son **aleatorios** y **no hay ninguna relación entre la observación actual y cualquier observación pasada o futura**. Las características principales del ruido blanco incluyen:\n",
        "\n",
        "- **Media constante (cero)**: La media de una serie temporal de ruido blanco es constante e idealmente igual a cero.\n",
        "- **Varianza constante**: La varianza de una serie temporal de ruido blanco es constante en el tiempo.\n",
        "- **Autocorrelación cero**: La función de autocorrelación de una serie temporal de ruido blanco es igual a cero para todos los retrasos distintos de cero.\n",
        "- **Distribución concreta** (_Gaussiana_ o _uniform_): Normalmente se supone que los valores de una serie temporal de ruido blanco tienen una distribución normal, aunque esto no es estrictamente necesario y se permite señales con la distribución uniforme.\n",
        "\n",
        "En la práctica, podemos usar el ruido blanco para:\n",
        "- **Agregar** a otra serie **variaciones aleatorias** que representan las mediciones y los errores presentes en datos reales, sin que estén relacionadas con ningún patrón o tendencia subyacente en los datos.\n",
        "\n",
        "- **Considerar la hipótesis nula** en pruebas estadísticas para determinar si una serie es **significativamente diferente del ruido aleatorio** o no."
      ]
    },
    {
      "cell_type": "markdown",
      "id": "43360280",
      "metadata": {
        "id": "43360280"
      },
      "source": [
        "Ahora procedemos a generar el **ruido blanco** mediante la técnica de `np.random.normal` que disponemos en _numpy_:"
      ]
    },
    {
      "cell_type": "code",
      "execution_count": null,
      "id": "40703395",
      "metadata": {
        "id": "40703395"
      },
      "outputs": [],
      "source": [
        "# Fijamos la semilla\n",
        "np.random.seed(111)\n",
        "\n",
        "# Generamos valores aleatorios con la media \"0\" y la varianza \"1\"\n",
        "ruido1 = np.random.normal(loc=0, scale=1, size=1000)\n",
        "pd.Series(ruido1).plot()\n",
        "plt.show()"
      ]
    },
    {
      "cell_type": "code",
      "execution_count": null,
      "id": "28c3456f",
      "metadata": {
        "id": "28c3456f"
      },
      "outputs": [],
      "source": [
        "# Las principales propiedades de este ruido\n",
        "pd.Series(ruido1).describe()"
      ]
    },
    {
      "cell_type": "code",
      "execution_count": null,
      "id": "a76bb902",
      "metadata": {
        "id": "a76bb902"
      },
      "outputs": [],
      "source": [
        "# Comprobamos la ACF\n",
        "from statsmodels.graphics.tsaplots import plot_acf\n",
        "\n",
        "rcParams['figure.figsize'] = 14, 7\n",
        "plot_acf(ruido1, lags=20)\n",
        "plt.xticks(np.arange(20))\n",
        "plt.ylim(-1.1,1.1)\n",
        "plt.show()"
      ]
    },
    {
      "cell_type": "code",
      "execution_count": null,
      "id": "9424fa62",
      "metadata": {
        "id": "9424fa62"
      },
      "outputs": [],
      "source": [
        "# Comprobamos la PACF\n",
        "from statsmodels.graphics.tsaplots import plot_pacf\n",
        "\n",
        "rcParams['figure.figsize'] = 14, 7\n",
        "plot_pacf(ruido1, lags=20, method='yw')\n",
        "plt.xticks(np.arange(20))\n",
        "plt.ylim(-1.1,1.1)\n",
        "plt.show()"
      ]
    },
    {
      "cell_type": "markdown",
      "id": "24741fc5",
      "metadata": {
        "id": "24741fc5"
      },
      "source": [
        "Podemos usar el módulo de `random` de _python_ para crear el ruido blanco con la distribución _Gaussiana_:"
      ]
    },
    {
      "cell_type": "code",
      "execution_count": null,
      "id": "802b05c4",
      "metadata": {
        "id": "802b05c4"
      },
      "outputs": [],
      "source": [
        "import random\n",
        "\n",
        "# Fijamos la semilla\n",
        "random.seed(222)\n",
        "\n",
        "# Generar 1000 valores aleatorios con una distribución normal\n",
        "ruido2 = [random.gauss(mu=0, sigma=1) for x in range(1000)]\n",
        "pd.Series(ruido2).plot()\n",
        "plt.show()"
      ]
    },
    {
      "cell_type": "code",
      "execution_count": null,
      "id": "66eba079",
      "metadata": {
        "id": "66eba079"
      },
      "outputs": [],
      "source": [
        "# Las principales propiedades de este ruido\n",
        "pd.Series(ruido2).describe()"
      ]
    },
    {
      "cell_type": "code",
      "execution_count": null,
      "id": "25f60c23",
      "metadata": {
        "id": "25f60c23"
      },
      "outputs": [],
      "source": [
        "# Comprobamos la ACF\n",
        "from statsmodels.graphics.tsaplots import plot_acf\n",
        "\n",
        "rcParams['figure.figsize'] = 14, 7\n",
        "plot_acf(ruido2, lags=20)\n",
        "plt.xticks(np.arange(20))\n",
        "plt.ylim(-1.1,1.1)\n",
        "plt.show()"
      ]
    },
    {
      "cell_type": "markdown",
      "id": "9f7129a9",
      "metadata": {
        "id": "9f7129a9"
      },
      "source": [
        "Podemos generar el ruido mediante **valores distribuidos uniformemente** usando el método `np.random.rand` de _numpy_"
      ]
    },
    {
      "cell_type": "code",
      "execution_count": null,
      "id": "712458ca",
      "metadata": {
        "id": "712458ca"
      },
      "outputs": [],
      "source": [
        "ruido3 = np.random.rand(1000) - 0.5\n",
        "\n",
        "pd.Series(ruido3).plot()\n",
        "plt.show()"
      ]
    },
    {
      "cell_type": "code",
      "execution_count": null,
      "id": "913ef724",
      "metadata": {
        "id": "913ef724"
      },
      "outputs": [],
      "source": [
        "# Las principales propiedades de este ruido\n",
        "pd.Series(ruido3).describe()"
      ]
    },
    {
      "cell_type": "code",
      "execution_count": null,
      "id": "321b0b15",
      "metadata": {
        "id": "321b0b15"
      },
      "outputs": [],
      "source": [
        "# Comprobamos la ACF\n",
        "from statsmodels.graphics.tsaplots import plot_acf\n",
        "\n",
        "rcParams['figure.figsize'] = 14, 7\n",
        "plot_acf(ruido3, lags=20)\n",
        "plt.xticks(np.arange(20))\n",
        "plt.ylim(-1.1,1.1)\n",
        "plt.show()"
      ]
    },
    {
      "cell_type": "code",
      "execution_count": null,
      "id": "7e7f1fcd",
      "metadata": {
        "id": "7e7f1fcd"
      },
      "outputs": [],
      "source": [
        "# Comprobamos la PACF\n",
        "from statsmodels.graphics.tsaplots import plot_pacf\n",
        "\n",
        "rcParams['figure.figsize'] = 14, 7\n",
        "plot_pacf(ruido3, lags=20, method='yw')\n",
        "plt.xticks(np.arange(20))\n",
        "plt.ylim(-1.1,1.1)\n",
        "plt.show()"
      ]
    },
    {
      "cell_type": "markdown",
      "id": "32e47170",
      "metadata": {
        "id": "32e47170"
      },
      "source": [
        "Para demostrar que el **ruido** es una serie **estacionaria** (_stationary_) podemos estudiar **la evolución de sus propiedades estadísticas** y comprobar si se modifican con el paso de tiempo."
      ]
    },
    {
      "cell_type": "code",
      "execution_count": null,
      "id": "4ee3bb92",
      "metadata": {
        "id": "4ee3bb92"
      },
      "outputs": [],
      "source": [
        "win = 100\n",
        "ruido3_media = pd.Series(ruido3).rolling(win).mean().iloc[win-1::win]\n",
        "ruido3_std = pd.Series(ruido3).rolling(win).std().iloc[win-1::win]\n",
        "plt.plot(ruido3_media, label='Media')\n",
        "plt.plot(ruido3_std, label='Desviación estándar')\n",
        "plt.axhline(y=0, color='r', linestyle='--')\n",
        "plt.title(\"Características estadísticas: [ruido3]\")\n",
        "plt.legend()\n",
        "plt.ylim(-1,1)\n",
        "plt.show()"
      ]
    },
    {
      "cell_type": "markdown",
      "id": "a7fc3297",
      "metadata": {
        "id": "a7fc3297"
      },
      "source": [
        "Se puede percibir que esta señal **es una serie estacionaria** al tener una media con un nivel de variación prácticamente constante que hace que sus características seal independiente del eje de tiempo."
      ]
    },
    {
      "cell_type": "markdown",
      "id": "510033d0",
      "metadata": {
        "id": "510033d0"
      },
      "source": [
        "### Series temporales sintéticas"
      ]
    },
    {
      "cell_type": "markdown",
      "id": "84e7165f",
      "metadata": {
        "id": "84e7165f"
      },
      "source": [
        "Las series temporales sintéticas (___Synthetic time series___) son datos **creados artificialmente** que se utilizan para **simular** datos del mundo real (_real-world data_), normalmente para realizar pruebas o experimentos. Estos datos de series de tiempo se pueden generar utilizando varias técnicas estadísticas y modelos matemáticos."
      ]
    },
    {
      "cell_type": "markdown",
      "id": "a934df16",
      "metadata": {
        "id": "a934df16"
      },
      "source": [
        "- #### Trend-stationary"
      ]
    },
    {
      "cell_type": "markdown",
      "id": "562a828b",
      "metadata": {
        "id": "562a828b"
      },
      "source": [
        "Un proceso estacionario de tendencia (___trend-stationary___) es un proceso estocástico del que se puede eliminar una tendencia subyacente, dejando un proceso estacionario.  \n",
        "\n",
        "Estas series temporales muestran una **tendencia estable** a largo plazo con **fluctuaciones a corto plazo** en torno a esa tendencia. Estas variaciones se mantienen de forma similar a lo largo del tiempo, pero son impredecibles y aleatorias (_ruido_)."
      ]
    },
    {
      "cell_type": "code",
      "execution_count": null,
      "id": "185a0494",
      "metadata": {
        "id": "185a0494"
      },
      "outputs": [],
      "source": [
        "# Definir el rango o el intervalo de tiempo\n",
        "inicio = \"2023-03-10 00:00:00\"\n",
        "fin = \"2023-03-20 00:00:00\"\n",
        "rango_tiempo = pd.date_range(inicio, fin, freq=\"H\")\n",
        "rango_tiempo"
      ]
    },
    {
      "cell_type": "markdown",
      "id": "6d1bf9d9",
      "metadata": {
        "id": "6d1bf9d9"
      },
      "source": [
        "Definimos una variable como la secuencia de tiempo: _t_"
      ]
    },
    {
      "cell_type": "code",
      "execution_count": null,
      "id": "e545f62b",
      "metadata": {
        "id": "e545f62b"
      },
      "outputs": [],
      "source": [
        "t = np.arange(len(rango_tiempo))\n",
        "t"
      ]
    },
    {
      "cell_type": "code",
      "execution_count": null,
      "id": "04b26cf2",
      "metadata": {
        "id": "04b26cf2"
      },
      "outputs": [],
      "source": [
        "# Fijamos la semilla\n",
        "np.random.seed(77)\n",
        "\n",
        "# Generamos un componente de tendencia (Trend)\n",
        "tendencia = 1.25 * t\n",
        "\n",
        "# Generamos un ruido blanco\n",
        "ruido = 5 * np.random.randn(len(t))\n",
        "\n",
        "# Combinamos la tendencia y el ruido\n",
        "valores = tendencia + ruido\n",
        "\n",
        "# Crear un DataFrame de la serie temporal con los valores y los índices\n",
        "df_serie = pd.DataFrame(data=valores, index=rango_tiempo)\n",
        "df_serie"
      ]
    },
    {
      "cell_type": "code",
      "execution_count": null,
      "id": "6e897f8d",
      "metadata": {
        "id": "6e897f8d"
      },
      "outputs": [],
      "source": [
        "# Graficar la serie temporal sintética\n",
        "plt.plot(df_serie)\n",
        "plt.title(\"Serie temporal sintética (Trend-stationary)\")\n",
        "plt.xlabel(\"Tiempo (h)\")\n",
        "plt.ylabel(\"Valores\")\n",
        "plt.show()"
      ]
    },
    {
      "cell_type": "markdown",
      "id": "a60b1cb8",
      "metadata": {
        "id": "a60b1cb8"
      },
      "source": [
        "Claramente esta serie temporal es una serie **no estacionaria**,  porque con el paso de tiempo su nivel va cambiando. Se ve que hay una clara regresión entre el valor actual y los valores de momentos anteriores."
      ]
    },
    {
      "cell_type": "code",
      "execution_count": null,
      "id": "d80564d1",
      "metadata": {
        "id": "d80564d1"
      },
      "outputs": [],
      "source": [
        "# Comprobamos la ACF\n",
        "from statsmodels.graphics.tsaplots import plot_acf\n",
        "\n",
        "rcParams['figure.figsize'] = 14, 7\n",
        "plot_acf(df_serie, lags=24)\n",
        "plt.xticks(np.arange(24))\n",
        "plt.ylim(-1.1,1.1)\n",
        "plt.show()"
      ]
    },
    {
      "cell_type": "markdown",
      "id": "ac6379a5",
      "metadata": {
        "id": "ac6379a5"
      },
      "source": [
        "Se puede ver que la **autocorrelación existe** en esta serie y se disminuye según calculamos los retrasos anteriores. A cambio la **autocorrelación parcial indica una regresión prácticamente lineal** entre el valor de un momento determinado y el valor del paso anterior (_lag1_)"
      ]
    },
    {
      "cell_type": "code",
      "execution_count": null,
      "id": "3f7bea1c",
      "metadata": {
        "id": "3f7bea1c"
      },
      "outputs": [],
      "source": [
        "# Comprobamos la PACF\n",
        "from statsmodels.graphics.tsaplots import plot_pacf\n",
        "\n",
        "rcParams['figure.figsize'] = 14, 7\n",
        "plot_pacf(df_serie, lags=24, method='yw')\n",
        "plt.xticks(np.arange(24))\n",
        "plt.ylim(-1.1,1.1)\n",
        "plt.show()"
      ]
    },
    {
      "cell_type": "markdown",
      "id": "594be800",
      "metadata": {
        "id": "594be800"
      },
      "source": [
        "Podemos estudiar la evolución de las medidas estadísticas y ver que salvo la tendencia que hace que **aumente su media**, el resto de los aspectos como la varianza o **la dispersión sigue igual** a lo largo de tiempo"
      ]
    },
    {
      "cell_type": "code",
      "execution_count": null,
      "id": "8dbc571a",
      "metadata": {
        "id": "8dbc571a"
      },
      "outputs": [],
      "source": [
        "win = 60\n",
        "df_serie_media = df_serie.rolling(win).mean().iloc[win-1::win]\n",
        "df_serie_std = df_serie.rolling(win).std().iloc[win-1::win]\n",
        "plt.plot(df_serie_media, label='Media')\n",
        "plt.plot(df_serie_std, label='Desviación estándar')\n",
        "plt.axhline(y=0, color='r', linestyle='--')\n",
        "plt.title(\"Características estadísticas: (Trend-stationary)\")\n",
        "plt.legend()\n",
        "plt.show()"
      ]
    },
    {
      "cell_type": "markdown",
      "id": "e579d1ee",
      "metadata": {
        "id": "e579d1ee"
      },
      "source": [
        "- #### Seasonal-stationary"
      ]
    },
    {
      "cell_type": "markdown",
      "id": "5fa142fa",
      "metadata": {
        "id": "5fa142fa"
      },
      "source": [
        "Una serie de tipo estacionaria estacional (___seasonal-stationary___) muestra una **media estable**, una **varianza** y una estructura de **autocorrelación consistente** a lo largo del tiempo, a pesar de tener un **patrón estacional repetitivo**. En otras palabras, las propiedades estadísticas de los datos permanecen constantes a lo largo del tiempo, aunque los **valores pueden cambiar estacionalmente**."
      ]
    },
    {
      "cell_type": "code",
      "execution_count": null,
      "id": "035deb30",
      "metadata": {
        "id": "035deb30"
      },
      "outputs": [],
      "source": [
        "# Fijar la semilla\n",
        "np.random.seed(111)\n",
        "\n",
        "# Indicar la frecuencia (de una señal armónica commo el seno)\n",
        "frecuencia = 12\n",
        "\n",
        "# Crear las secuencias del eje de tiempo\n",
        "t = np.linspace(0,1, len(rango_tiempo))\n",
        "\n",
        "# Generar el seno\n",
        "seno = 5*np.sin(2*np.pi*frecuencia*t)\n",
        "\n",
        "# Generar un ruido blanco\n",
        "ruido_normal = np.random.normal(loc=0, scale=0.8, size=len(rango_tiempo))\n",
        "\n",
        "# Añadir el ruido\n",
        "valores2 = seno + ruido_normal\n",
        "\n",
        "# Crear un DataFrame de la serie temporal con los valores y los índices\n",
        "df_serie2 = pd.DataFrame(data=valores2, index=rango_tiempo)\n",
        "df_serie2\n",
        "\n",
        "# Graficar la serie temporal sintética\n",
        "plt.plot(df_serie2)\n",
        "plt.ylim(-10,10)\n",
        "plt.title(\"Serie temporal sintética: (Seasonal-stationary)\")\n",
        "plt.xlabel(\"Tiempo (h)\")\n",
        "plt.ylabel(\"Valores\")\n",
        "plt.show()"
      ]
    },
    {
      "cell_type": "code",
      "execution_count": null,
      "id": "8aa9468c",
      "metadata": {
        "id": "8aa9468c"
      },
      "outputs": [],
      "source": [
        "# Sacar la gráfica interactiva\n",
        "import plotly.graph_objects as go\n",
        "fig = go.Figure()\n",
        "\n",
        "fig.add_trace(go.Scatter(\n",
        "    x=df_serie2.index,\n",
        "    y=df_serie2.iloc[:,0],\n",
        "    mode=\"markers+lines\",\n",
        "    ))\n",
        "\n",
        "fig.show()"
      ]
    },
    {
      "cell_type": "code",
      "execution_count": null,
      "id": "6b03eb06",
      "metadata": {
        "id": "6b03eb06"
      },
      "outputs": [],
      "source": [
        "# Comprobamos la ACF\n",
        "from statsmodels.graphics.tsaplots import plot_acf\n",
        "\n",
        "rcParams['figure.figsize'] = 14, 7\n",
        "plot_acf(df_serie2, lags=50)\n",
        "plt.xticks(np.arange(50))\n",
        "plt.ylim(-1.1,1.1)\n",
        "plt.show()"
      ]
    },
    {
      "cell_type": "code",
      "execution_count": null,
      "id": "4d00ff2a",
      "metadata": {
        "id": "4d00ff2a"
      },
      "outputs": [],
      "source": [
        "# Comprobamos la PACF\n",
        "from statsmodels.graphics.tsaplots import plot_pacf\n",
        "\n",
        "rcParams['figure.figsize'] = 14, 7\n",
        "plot_pacf(df_serie2, lags=30, method='ols')\n",
        "plt.xticks(np.arange(30))\n",
        "plt.ylim(-1.1,1.1)\n",
        "plt.show()"
      ]
    },
    {
      "cell_type": "code",
      "execution_count": null,
      "id": "34c8c6e9",
      "metadata": {
        "id": "34c8c6e9"
      },
      "outputs": [],
      "source": [
        "win = 30\n",
        "df_serie2_media = df_serie2.rolling(win).mean().iloc[win-1::win]\n",
        "df_serie2_std = df_serie2.rolling(win).std().iloc[win-1::win]\n",
        "plt.plot(df_serie2_media, label='Media')\n",
        "plt.plot(df_serie2_std, label='Desviación estándar')\n",
        "plt.axhline(y=0, color='r', linestyle='--')\n",
        "plt.title(\"Características estadísticas: (Seasonal-stationary)\")\n",
        "plt.ylim(-5,5)\n",
        "plt.legend()\n",
        "plt.show()"
      ]
    },
    {
      "cell_type": "markdown",
      "id": "5951aa76",
      "metadata": {
        "id": "5951aa76"
      },
      "source": [
        "### Non-Stationary Time Series"
      ]
    },
    {
      "cell_type": "markdown",
      "id": "1af75237",
      "metadata": {
        "id": "1af75237"
      },
      "source": [
        "#### Chirp signal"
      ]
    },
    {
      "cell_type": "markdown",
      "id": "027f31a7",
      "metadata": {
        "id": "027f31a7"
      },
      "source": [
        "Una señal ___chirp___ es un tipo de serie temporal en la que **la frecuencia varía con el tiempo**. Las señales chirp se utilizan ampliamente en varios campos, incluidos el **radar**, el sonar, los sistemas de **comunicación** y las **imágenes biomédicas**."
      ]
    },
    {
      "cell_type": "code",
      "execution_count": null,
      "id": "dbfafb47",
      "metadata": {
        "id": "dbfafb47"
      },
      "outputs": [],
      "source": [
        "from scipy import signal\n",
        "\n",
        "# Establecer los parámetros de la señal\n",
        "f0 = 1  # frecuencia inicial\n",
        "f1 = 250  # frecuencia final\n",
        "T = 1  # Duración de la señal (segundos)\n",
        "\n",
        "# Generar el \"chirp signal\"\n",
        "t = np.linspace(0, T, int(T * 1000), endpoint=False)\n",
        "amplitud = 5*signal.chirp(t, f0=f0, f1=f1, t1=T, method='logarithmic')\n",
        "df_chirp = pd.DataFrame(data=amplitud, index=t)\n",
        "\n",
        "# Graficar la señal\n",
        "plt.plot(df_chirp)\n",
        "plt.xlabel('Tiempo (s)')\n",
        "plt.ylabel('Amplitud')\n",
        "plt.title('Chirp Signal')\n",
        "plt.show()"
      ]
    },
    {
      "cell_type": "markdown",
      "id": "bd9caabc",
      "metadata": {
        "id": "bd9caabc"
      },
      "source": [
        "Como es de esperar, esta señal muestra variaciones en sus propiedades estadísticas, y por lo tanto es **un ejemplo de la no estacionariedad**."
      ]
    },
    {
      "cell_type": "code",
      "execution_count": null,
      "id": "c40279f8",
      "metadata": {
        "id": "c40279f8"
      },
      "outputs": [],
      "source": [
        "win = 50\n",
        "df_chirp_media = df_chirp.rolling(win).mean().iloc[win-1::win]\n",
        "df_chirp_std = df_chirp.rolling(win).std().iloc[win-1::win]\n",
        "plt.plot(df_chirp_media, label='Media')\n",
        "plt.plot(df_chirp_std, label='Desviación estándar')\n",
        "plt.axhline(y=0, color='r', linestyle='--')\n",
        "plt.title(\"Características estadísticas: (Chirp Signal)\")\n",
        "plt.ylim(-8,8)\n",
        "plt.legend()\n",
        "plt.show()"
      ]
    },
    {
      "cell_type": "markdown",
      "id": "8a635fa0",
      "metadata": {
        "id": "8a635fa0"
      },
      "source": [
        "Los datos no estacionarios pueden presentar por ejemplo **cambios en la dispersión** o en la varianza de sus valores."
      ]
    },
    {
      "cell_type": "code",
      "execution_count": null,
      "id": "17b967a9",
      "metadata": {
        "id": "17b967a9"
      },
      "outputs": [],
      "source": [
        "# Fijar la semilla\n",
        "np.random.seed(333)\n",
        "\n",
        "# Determinar el número de observaciones\n",
        "n = 10000\n",
        "\n",
        "# Introducir la desviación estándar inicial y el incremento que se le realiza en cada paso\n",
        "std_inicial = 1.0\n",
        "std_incremento = 0.0002\n",
        "\n",
        "# Generar los índices\n",
        "start_date = pd.Timestamp('2000-01-01')\n",
        "indices = pd.date_range(start_date, periods=n, freq='D')\n",
        "\n",
        "# Crear el DataFrame\n",
        "datos = np.zeros(n)\n",
        "for i in range(1, n):\n",
        "    # Incrementos cuadráticos de la desviación estándar de los valores de la serie\n",
        "    desv_estandar = std_inicial + std_incremento * (i+1)**2\n",
        "    datos[i] = np.random.normal(loc=0, scale=desv_estandar)\n",
        "df_std_creciente = pd.DataFrame(datos, index=indices)\n",
        "\n",
        "# Graficar la serie sintética\n",
        "plt.plot(df_std_creciente)\n",
        "plt.xlabel('Tiempo')\n",
        "plt.ylabel('Valores')\n",
        "plt.title('Serie temporal con aumento cuadrático en la desviación estándar')\n",
        "plt.show()\n"
      ]
    },
    {
      "cell_type": "code",
      "execution_count": null,
      "id": "4174bbe5",
      "metadata": {
        "id": "4174bbe5"
      },
      "outputs": [],
      "source": [
        "# Comprobamos la ACF\n",
        "from statsmodels.graphics.tsaplots import plot_acf\n",
        "\n",
        "rcParams['figure.figsize'] = 14, 7\n",
        "plot_acf(df_std_creciente, lags=50)\n",
        "plt.xticks(np.arange(50))\n",
        "plt.ylim(-1.1,1.1)\n",
        "plt.show()"
      ]
    },
    {
      "cell_type": "code",
      "execution_count": null,
      "id": "de561138",
      "metadata": {
        "id": "de561138"
      },
      "outputs": [],
      "source": [
        "win = 100\n",
        "df_std_creciente_media = df_std_creciente.rolling(win).mean().iloc[win-1::win]\n",
        "df_std_creciente_std = df_std_creciente.rolling(win).std().iloc[win-1::win]\n",
        "plt.plot(df_std_creciente_media, label='Media')\n",
        "plt.plot(df_std_creciente_std, label='Desviación estándar')\n",
        "plt.axhline(y=0, color='r', linestyle='--')\n",
        "plt.title(\"Características estadísticas: (Non-stationary)\")\n",
        "plt.legend()\n",
        "plt.show()"
      ]
    },
    {
      "cell_type": "markdown",
      "id": "12d39365",
      "metadata": {
        "id": "12d39365"
      },
      "source": [
        "### Differencing"
      ]
    },
    {
      "cell_type": "markdown",
      "id": "80179ca7",
      "metadata": {
        "id": "80179ca7"
      },
      "source": [
        "La **diferenciación** (_Differencing_) es un método para **transformar** un conjunto de datos de series temporales. Se puede usar para **eliminar la dependencia temporal** de la serie. Esto incluye estructuras como **tendencias** y **estacionalidad**.  \n",
        "\n",
        "La diferenciación de **primer grado** de una serie temporal se define como la **diferencia entre observaciones consecutivas**."
      ]
    },
    {
      "cell_type": "markdown",
      "id": "f5363569",
      "metadata": {
        "id": "f5363569"
      },
      "source": [
        "Transformamos la serie temporal sintética que era estacionaria de tendencia (_trend-stationary_) aplicando una diferenciación del primer orden:"
      ]
    },
    {
      "cell_type": "code",
      "execution_count": null,
      "id": "7da8beee",
      "metadata": {
        "id": "7da8beee"
      },
      "outputs": [],
      "source": [
        "# Graficar la serie temporal sintética\n",
        "plt.plot(df_serie)\n",
        "plt.title(\"Serie temporal sintética (Trend-stationary)\")\n",
        "plt.xlabel(\"Tiempo (h)\")\n",
        "plt.ylabel(\"Valores\")\n",
        "plt.show()"
      ]
    },
    {
      "cell_type": "code",
      "execution_count": null,
      "id": "73f1abac",
      "metadata": {
        "id": "73f1abac"
      },
      "outputs": [],
      "source": [
        "# Graficar la serie temporal sintética diferenciada\n",
        "plt.plot(df_serie.diff())\n",
        "plt.title(\"Serie temporal sintética diferenciada (Trend-stationary) - [diff(1)]\")\n",
        "plt.xlabel(\"Tiempo (h)\")\n",
        "plt.ylabel(\"Valores\")\n",
        "plt.show()"
      ]
    },
    {
      "cell_type": "code",
      "execution_count": null,
      "id": "83eed843",
      "metadata": {
        "id": "83eed843"
      },
      "outputs": [],
      "source": [
        "# Comprobamos la ACF\n",
        "from statsmodels.graphics.tsaplots import plot_acf\n",
        "\n",
        "rcParams['figure.figsize'] = 14, 7\n",
        "plot_acf(df_serie.diff().dropna(), lags=24)\n",
        "plt.xticks(np.arange(24))\n",
        "plt.ylim(-1.1,1.1)\n",
        "plt.show()"
      ]
    },
    {
      "cell_type": "code",
      "execution_count": null,
      "id": "b894bbe0",
      "metadata": {
        "id": "b894bbe0"
      },
      "outputs": [],
      "source": [
        "win = 20\n",
        "df_serie_media_diff = df_serie.diff().rolling(win).mean().iloc[win-1::win]\n",
        "df_serie_std_diff = df_serie.diff().rolling(win).std().iloc[win-1::win]\n",
        "plt.plot(df_serie_media_diff, label='Media')\n",
        "plt.plot(df_serie_std_diff, label='Desviación estándar')\n",
        "plt.axhline(y=1.25, color='r', linestyle='--')\n",
        "plt.ylim(-10,10)\n",
        "plt.title(\"Características estadísticas: (Trend-stationary) - [diff(1)]\")\n",
        "plt.legend()\n",
        "plt.show()"
      ]
    },
    {
      "cell_type": "markdown",
      "id": "8949ebea",
      "metadata": {
        "id": "8949ebea"
      },
      "source": [
        "Se puede observar que tras la diferenciación se estabilizan las medidas estadísticas."
      ]
    },
    {
      "cell_type": "code",
      "execution_count": null,
      "id": "501545f1",
      "metadata": {
        "id": "501545f1"
      },
      "outputs": [],
      "source": [
        "# Graficamos la serie temporal sintética\n",
        "plt.plot(df_serie2)\n",
        "plt.ylim(-10,10)\n",
        "plt.title(\"Serie temporal sintética: (Seasonal-stationary)\")\n",
        "plt.xlabel(\"Tiempo (h)\")\n",
        "plt.ylabel(\"Valores\")\n",
        "plt.show()"
      ]
    },
    {
      "cell_type": "code",
      "execution_count": null,
      "id": "a30aa230",
      "metadata": {
        "id": "a30aa230"
      },
      "outputs": [],
      "source": [
        "# Graficamos la serie temporal sintética\n",
        "plt.plot(df_serie2.diff())\n",
        "plt.ylim(-10,10)\n",
        "plt.title(\"Serie temporal sintética: (Seasonal-stationary) - [diff(1)]\")\n",
        "plt.xlabel(\"Tiempo (h)\")\n",
        "plt.ylabel(\"Valores\")\n",
        "plt.show()"
      ]
    },
    {
      "cell_type": "code",
      "execution_count": null,
      "id": "81c05aa9",
      "metadata": {
        "id": "81c05aa9"
      },
      "outputs": [],
      "source": [
        "# Comprobamos la ACF\n",
        "from statsmodels.graphics.tsaplots import plot_acf\n",
        "\n",
        "rcParams['figure.figsize'] = 14, 7\n",
        "plot_acf(df_serie2.diff().dropna(), lags=50)\n",
        "plt.xticks(np.arange(50))\n",
        "plt.ylim(-1.1,1.1)\n",
        "plt.show()"
      ]
    },
    {
      "cell_type": "markdown",
      "id": "b9476bd8",
      "metadata": {
        "id": "b9476bd8"
      },
      "source": [
        "Podemos comprobar que la serie temporal diferenciada **todavía muestra cambios en sus propiedades** en el eje de tiempo, como un **patrón estacional** y **autocorrelación**. Por lo tanto procedemos con la diferenciación del segundo orden."
      ]
    },
    {
      "cell_type": "code",
      "execution_count": null,
      "id": "64f7fc09",
      "metadata": {
        "id": "64f7fc09"
      },
      "outputs": [],
      "source": [
        "# Graficamos la serie temporal sintética\n",
        "plt.plot(df_serie2.diff().diff())\n",
        "plt.ylim(-10,10)\n",
        "plt.title(\"Serie temporal sintética: (Seasonal-stationary) - [diff(2)]\")\n",
        "plt.xlabel(\"Tiempo (h)\")\n",
        "plt.ylabel(\"Valores\")\n",
        "plt.show()"
      ]
    },
    {
      "cell_type": "code",
      "execution_count": null,
      "id": "ecbe0fdc",
      "metadata": {
        "id": "ecbe0fdc"
      },
      "outputs": [],
      "source": [
        "# Comprobamos la ACF\n",
        "from statsmodels.graphics.tsaplots import plot_acf\n",
        "\n",
        "rcParams['figure.figsize'] = 14, 7\n",
        "plot_acf(df_serie2.diff().diff().dropna(), lags=50)\n",
        "plt.xticks(np.arange(50))\n",
        "plt.ylim(-1.1,1.1)\n",
        "plt.show()"
      ]
    },
    {
      "cell_type": "code",
      "execution_count": null,
      "id": "3d8b0956",
      "metadata": {
        "id": "3d8b0956"
      },
      "outputs": [],
      "source": [
        "win = 30\n",
        "df_serie2_media_diff2 = df_serie2.diff().diff().rolling(win).mean().iloc[win-1::win]\n",
        "df_serie2_std_diff2 = df_serie2.diff().diff().rolling(win).std().iloc[win-1::win]\n",
        "plt.plot(df_serie2_media_diff2, label='Media')\n",
        "plt.plot(df_serie2_std_diff2, label='Desviación estándar')\n",
        "plt.axhline(y=0, color='r', linestyle='--')\n",
        "plt.title(\"Características estadísticas: (Seasonal-stationary) - [diff(2)]\")\n",
        "plt.ylim(-5,5)\n",
        "plt.legend()\n",
        "plt.show()"
      ]
    },
    {
      "cell_type": "markdown",
      "id": "38bf8a5e",
      "metadata": {
        "id": "38bf8a5e"
      },
      "source": [
        "En este caso se puede apreciar que al realizar dos veces la diferenciación se consigue una señal estacionaria."
      ]
    },
    {
      "cell_type": "markdown",
      "id": "11740b40",
      "metadata": {
        "id": "11740b40"
      },
      "source": [
        "Ahora volvemos al caso de \"_chirp signal_\" que también era un ejemplo de una serie no estacionaria:"
      ]
    },
    {
      "cell_type": "code",
      "execution_count": null,
      "id": "a96996e0",
      "metadata": {
        "id": "a96996e0"
      },
      "outputs": [],
      "source": [
        "win = 50\n",
        "df_chirp_media = df_chirp.rolling(win).mean().iloc[win-1::win]\n",
        "df_chirp_std = df_chirp.rolling(win).std().iloc[win-1::win]\n",
        "plt.plot(df_chirp_media, label='Media')\n",
        "plt.plot(df_chirp_std, label='Desviación estándar')\n",
        "plt.axhline(y=0, color='r', linestyle='--')\n",
        "plt.title(\"Características estadísticas: (Chirp Signal)\")\n",
        "plt.ylim(-8,8)\n",
        "plt.legend()\n",
        "plt.show()"
      ]
    },
    {
      "cell_type": "markdown",
      "id": "f58a6b41",
      "metadata": {
        "id": "f58a6b41"
      },
      "source": [
        "Realizamos la diferenciación del primer orden:"
      ]
    },
    {
      "cell_type": "code",
      "execution_count": null,
      "id": "4268ee90",
      "metadata": {
        "id": "4268ee90"
      },
      "outputs": [],
      "source": [
        "# Graficar la señal diferenciada\n",
        "plt.plot(df_chirp.diff())\n",
        "plt.xlabel('Tiempo (s)')\n",
        "plt.ylabel('Amplitud')\n",
        "plt.title('Chirp Signal - [diff(1)]')\n",
        "plt.show()"
      ]
    },
    {
      "cell_type": "code",
      "execution_count": null,
      "id": "47465948",
      "metadata": {
        "id": "47465948"
      },
      "outputs": [],
      "source": [
        "win = 50\n",
        "df_chirp_media_diff = df_chirp.diff().rolling(win).mean().iloc[win-1::win]\n",
        "df_chirp_std_diff = df_chirp.diff().rolling(win).std().iloc[win-1::win]\n",
        "plt.plot(df_chirp_media_diff, label='Media')\n",
        "plt.plot(df_chirp_std_diff, label='Desviación estándar')\n",
        "plt.axhline(y=0, color='r', linestyle='--')\n",
        "plt.title(\"Características estadísticas: (Seasonal-stationary) - [diff(1)]\")\n",
        "plt.legend()\n",
        "plt.show()"
      ]
    },
    {
      "cell_type": "markdown",
      "id": "bf47e27d",
      "metadata": {
        "id": "bf47e27d"
      },
      "source": [
        "Se puede confirmar que en este caso la diferenciación **elimina las oscilaciones del nivel de la serie**, sin embargo, **no consigue estabilizar la varianza** de los datos.  \n",
        "\n",
        "Vamos a analizar el caso de la serie temporal con la **varianza creciente**:"
      ]
    },
    {
      "cell_type": "code",
      "execution_count": null,
      "id": "fcbae67a",
      "metadata": {
        "id": "fcbae67a"
      },
      "outputs": [],
      "source": [
        "# Graficar la serie sintética diferenciada\n",
        "plt.plot(df_std_creciente.diff())\n",
        "plt.xlabel('Tiempo')\n",
        "plt.ylabel('Valores')\n",
        "plt.title('Serie temporal con aumento cuadrático en la desviación estándar - [diff(1)]')\n",
        "plt.show()\n"
      ]
    },
    {
      "cell_type": "code",
      "execution_count": null,
      "id": "b5ef4057",
      "metadata": {
        "id": "b5ef4057"
      },
      "outputs": [],
      "source": [
        "win = 100\n",
        "df_std_creciente_media_diff = df_std_creciente.diff().rolling(win).mean().iloc[win-1::win]\n",
        "df_std_creciente_std_diff = df_std_creciente.diff().rolling(win).std().iloc[win-1::win]\n",
        "plt.plot(df_std_creciente_media_diff, label='Media')\n",
        "plt.plot(df_std_creciente_std_diff, label='Desviación estándar')\n",
        "plt.axhline(y=0, color='r', linestyle='--')\n",
        "plt.title(\"Características estadísticas: (Non-stationary)  - [diff(1)]\")\n",
        "plt.legend()\n",
        "plt.show()"
      ]
    },
    {
      "cell_type": "markdown",
      "id": "d2c5097b",
      "metadata": {
        "id": "d2c5097b"
      },
      "source": [
        "Se puede ver que la diferenciación consigue de nuevo **disminuir las alteraciones en la media** de la serie, pero **no logra estabilizar la varianza**, aunque sigamos con **más ordenes de diferenciación**."
      ]
    },
    {
      "cell_type": "code",
      "execution_count": null,
      "id": "a51e9f91",
      "metadata": {
        "id": "a51e9f91"
      },
      "outputs": [],
      "source": [
        "win = 100\n",
        "df_std_creciente_media_diff2 = df_std_creciente.diff().diff().rolling(win).mean().iloc[win-1::win]\n",
        "df_std_creciente_std_diff2 = df_std_creciente.diff().diff().rolling(win).std().iloc[win-1::win]\n",
        "plt.plot(df_std_creciente_media_diff2, label='Media')\n",
        "plt.plot(df_std_creciente_std_diff2, label='Desviación estándar')\n",
        "plt.axhline(y=0, color='r', linestyle='--')\n",
        "plt.title(\"Características estadísticas: (Non-stationary)  - [diff(2)]\")\n",
        "plt.legend()\n",
        "plt.show()"
      ]
    },
    {
      "cell_type": "markdown",
      "id": "d756cd76",
      "metadata": {
        "id": "d756cd76"
      },
      "source": [
        "### Variable transformations"
      ]
    },
    {
      "cell_type": "markdown",
      "id": "a5fb534e",
      "metadata": {
        "id": "a5fb534e"
      },
      "source": [
        "La transformación de variables consiste en reemplazar los valores originales de las variables con una función de esa variable. Las transformaciones con funciones matemáticas ayudan a **reducir el sesgo** y también **mejorar la distribución** de los valores.\n",
        "\n",
        "Hay varias transformaciones que se pueden aplicar a los datos de series temporales para estabilizar la varianza. Estas transformaciones se conocen comúnmente como transformaciones estabilizadoras de varianza (___variance stabilizing transformations___) que intentan llevar la distribución de la variable a una forma más simétrica, o en otras palabras, Gaussiana que incluyen:\n",
        "\n",
        "- **Transformación logarítmica**: Consiste en **tomar el logaritmo natural de los valores** de la serie temporal. Es útil cuando la varianza de la serie temporal aumenta con el nivel de la serie.\n",
        "\n",
        "- **Transformación de raíz cuadrada** (_square root_): esto implica **sacar la raíz cuadrada de los valores** en la serie de tiempo. Es útil cuando la varianza de la serie temporal aumenta con el nivel de la serie.\n",
        "\n",
        "- **Transformación de Box-Cox**: Esta es **una familia de transformaciones de potencia** que incluye las transformaciones logarítmicas y de raíz cuadrada como casos especiales. La transformación de Box-Cox se puede utilizar para encontrar el mejor parámetro de transformación lambda que estabilice la varianza de la serie temporal.\n",
        "\n",
        "- **Transformación Yeo-Johnson**: La transformación de Yeo-Johnson fue introducida en **2000** por Yeo and Johnson como **una extensión de la transformación de Box-Cox**. Mientras que la transformación de **Box-Cox requiere que los datos sean positivos**, la transformación de **Yeo-Johnson puede manejar tanto datos positivos como negativos**."
      ]
    },
    {
      "cell_type": "markdown",
      "id": "242c5d6b",
      "metadata": {
        "id": "242c5d6b"
      },
      "source": [
        "Vamos a aplicar este último método para transformar la serie temporal de pasageros aéreos que vimos al principio:"
      ]
    },
    {
      "cell_type": "code",
      "execution_count": null,
      "id": "17560c7d",
      "metadata": {
        "id": "17560c7d"
      },
      "outputs": [],
      "source": [
        "# Visualizamos la serie de ejemplo\n",
        "sns.lineplot(data=df_air, x=df_air.index, y=df_air['value'])\n",
        "plt.title(\"Número de pasajeros aéreos de cada mes desde el año 1949 al 1960\")\n",
        "plt.show()"
      ]
    },
    {
      "cell_type": "markdown",
      "id": "b8bf9bf8",
      "metadata": {
        "id": "b8bf9bf8"
      },
      "source": [
        "Dibujamos la evolución de los atributos estadísticos:"
      ]
    },
    {
      "cell_type": "code",
      "execution_count": null,
      "id": "778e1cac",
      "metadata": {
        "id": "778e1cac"
      },
      "outputs": [],
      "source": [
        "win = 20\n",
        "df_air_media = df_air.rolling(win).mean().iloc[win-1::win]\n",
        "df_air_std = df_air.rolling(win).std().iloc[win-1::win]\n",
        "plt.plot(df_air_media, label='Media')\n",
        "plt.plot(df_air_std, label='Desviación estándar')\n",
        "plt.axhline(y=0, color='r', linestyle='--')\n",
        "plt.title(\"Características estadísticas: (Air Passengers)\")\n",
        "plt.legend()\n",
        "plt.show()"
      ]
    },
    {
      "cell_type": "markdown",
      "id": "c8bd0d14",
      "metadata": {
        "id": "c8bd0d14"
      },
      "source": [
        "Se puede apreciar una tendencia creciente tanto en la medoia como en la varianza de los valores de la serie temporal. Procedemos a realizar la diferenciación del primer grado:"
      ]
    },
    {
      "cell_type": "code",
      "execution_count": null,
      "id": "df71848e",
      "metadata": {
        "id": "df71848e"
      },
      "outputs": [],
      "source": [
        "# Graficar la señal diferenciada\n",
        "plt.plot(df_air.diff())\n",
        "plt.xlabel('Tiempo (mes)')\n",
        "plt.ylabel('Pasageros')\n",
        "plt.title('(Air Passengers) - [diff(1)]')\n",
        "plt.show()"
      ]
    },
    {
      "cell_type": "code",
      "execution_count": null,
      "id": "323015b1",
      "metadata": {
        "id": "323015b1"
      },
      "outputs": [],
      "source": [
        "win = 20\n",
        "df_air_media_diff = df_air.diff().rolling(win).mean().iloc[win-1::win]\n",
        "df_air_std_diff = df_air.diff().rolling(win).std().iloc[win-1::win]\n",
        "plt.plot(df_air_media_diff, label='Media')\n",
        "plt.plot(df_air_std_diff, label='Desviación estándar')\n",
        "plt.axhline(y=0, color='r', linestyle='--')\n",
        "plt.title(\"Características estadísticas: (Air Passengers)  - [diff(1)]\")\n",
        "plt.legend()\n",
        "plt.show()"
      ]
    },
    {
      "cell_type": "markdown",
      "id": "d9223e36",
      "metadata": {
        "id": "d9223e36"
      },
      "source": [
        "Conseguimos estabilizar la media pero la varianza sigue creciendo en el eje de tiempo. Para lograr el mismo efecto sobre la variabilidad de los datos, aplicamos una transformada de tipo **`Box-Cox`** por disponer de valores positivos."
      ]
    },
    {
      "cell_type": "code",
      "execution_count": null,
      "id": "7da01573",
      "metadata": {
        "id": "7da01573"
      },
      "outputs": [],
      "source": [
        "from scipy.stats import boxcox\n",
        "\n",
        "# Aplicar la transformación\n",
        "data_air_bc, lambda_air = boxcox(df_air.values.reshape(-1))\n",
        "\n",
        "# Graficar los datos transformados\n",
        "plt.plot(data_air_bc)\n",
        "plt.title(\"Datos transformados por Cox-Box\")\n",
        "plt.xlabel(\"Tiempo (mes)\")\n",
        "plt.ylabel(\"Pasageros\")\n",
        "plt.show()\n",
        "\n",
        "print(lambda_air)\n"
      ]
    },
    {
      "cell_type": "code",
      "execution_count": null,
      "id": "7f1b7ec2",
      "metadata": {
        "id": "7f1b7ec2"
      },
      "outputs": [],
      "source": [
        "win = 10\n",
        "df_air_bc_media = pd.DataFrame(data_air_bc).rolling(win).mean().iloc[win-1::win]\n",
        "df_air_bc_std = pd.DataFrame(data_air_bc).rolling(win).std().iloc[win-1::win]\n",
        "plt.plot(df_air_bc_media, label='Media')\n",
        "plt.plot(df_air_bc_std, label='Desviación estándar')\n",
        "plt.axhline(y=0, color='r', linestyle='--')\n",
        "plt.title(\"Características estadísticas: (Air Passengers)  - [Box-Cox]\")\n",
        "plt.legend()\n",
        "plt.show()"
      ]
    },
    {
      "cell_type": "markdown",
      "id": "fda36f88",
      "metadata": {
        "id": "fda36f88"
      },
      "source": [
        "Podemos usar la función `inv_boxcox` para realizar un **cálculo inverso** y volver a tener los **valores originales**."
      ]
    },
    {
      "cell_type": "code",
      "execution_count": null,
      "id": "39d82f6b",
      "metadata": {
        "id": "39d82f6b"
      },
      "outputs": [],
      "source": [
        "from scipy.special import inv_boxcox\n",
        "data_bc_inv = inv_boxcox(data_air_bc, lambda_air)\n",
        "\n",
        "plt.plot(data_bc_inv)\n",
        "plt.plot()\n"
      ]
    },
    {
      "cell_type": "markdown",
      "id": "f2cd0fd5",
      "metadata": {
        "id": "f2cd0fd5"
      },
      "source": [
        "---"
      ]
    },
    {
      "cell_type": "markdown",
      "id": "22964adc",
      "metadata": {
        "id": "22964adc"
      },
      "source": [
        "### **`Ejercicio 24.1`**\n",
        "\n",
        "Vamos a nalizar los datos de **`Sunspots Dataset`** que son números promediados mensuales de **manchas solares desde 1749 hasta 1983**. Esta serie tempòral se ha recolectado en el _Observatorio Federal Suizo_ (_**Zúrich**_) hasta **1960**, luego en el _Observatorio Astronómico de Japón_ (**_Tokio_**).  \n",
        "\n",
        "Los números de manchas solares son una *medida de la actividad solar*. Los datos vienen en las unidades originales utilizadas por los observadores de forma bruta y **no hay ajustes** por cambios en la instrumentación o sesgo del observador.\n",
        "\n",
        "\n",
        "**`24.1.1`** Utiliza el siguiente enlace para descargar los datos y crear una tabla tipo _DataFrame_ con ellos:\n",
        " - 'https://raw.githubusercontent.com/jbrownlee/Datasets/master/monthly-sunspots.csv'\n",
        "\n",
        "**`24.1.2`** construye la serie temporal, del modo que las fechas tipo `'1749-05-01'` formen los índices, y número de las manchas solares los valores de la serie.\n",
        "\n",
        "**`24.1.3`** Representa de forma gráfica los datos de la serie temporal con las siguientes visualizaciones:\n",
        " - Gráfica estática (_matplotlib_)\n",
        " - Gráfica interactiva (_plotly_)\n",
        "\n",
        "**`24.1.4`** Aplica una descomposición de la serie temporal mediante el método `seasonal_decompose` y visualiza los componentes correspondientes.\n",
        "\n",
        "**`24.1.5`** Aplica una descomposición de la serie temporal mediante el método `STL` y visualiza los componentes correspondientes.\n",
        "\n",
        "**`24.1.6`** Saca la gráfica de ***correlograma*** para la serie temporal, considerando hasta el retraso indicado y analiza los patrones que ves presente en esta gráfica:\n",
        "\n",
        " - `lags=200`\n",
        "\n",
        "**`24.1.7`** Saca la gráfica de ***Autocorrelación parcial*** para la serie temporal, considerando hasta el retraso indicado y analiza los patrones que ves presente en esta gráfica:\n",
        "\n",
        " - `lags=30`\n",
        "\n",
        "**`24.1.8`** Saca la gráfica de las ***Características estadísticas*** y su evolución a lo largo de tiempo de **la serie temporal**, considerando una ventana con el tamaño indicado. Analiza y explica esta evolución de la media y de la varianza de los datos:\n",
        "\n",
        " - `win = 200`\n",
        "\n",
        "**`24.1.9`** Transforma los datos de la serie temporal mediante la transformada de `Yeo-Johnson` que se aplica de una forma muy similar a la transformación `Box-Cox`. Después, visualiza los datos transformados e imprime el valor de la potencia o el hiperparámetro que se haya aplicado en la transformación (_lambda_).\n",
        "\n",
        "**`24.1.10`** Saca la gráfica de las ***Características estadísticas*** y su evolución a lo largo de tiempo de **la serie temporal transformada**, considerando una ventana con el tamaño indicado. Analiza y explica esta evolución de la media y de la varianza de los datos:\n",
        "\n",
        " - `win = 200`\n",
        "\n",
        "**`24.1.11`** Aplica una **diferenciación del primer orden** sobre estos datos transformados anteriormente. Saca la gráfica de la ***la serie temporal transformada y diferenciada***.\n",
        "\n",
        "**`24.1.12`** Saca la gráfica de las ***Características estadísticas*** y su evolución a lo largo de tiempo de **la serie temporal transformada y diferenciada**, considerando una ventana con el tamaño indicado. Analiza y explica esta evolución de la media y de la varianza de los datos:\n",
        "\n",
        " - `win = 200`"
      ]
    },
    {
      "cell_type": "markdown",
      "id": "3ffd66b7",
      "metadata": {
        "id": "3ffd66b7"
      },
      "source": [
        "---"
      ]
    }
  ],
  "metadata": {
    "kernelspec": {
      "display_name": "Python 3 (ipykernel)",
      "language": "python",
      "name": "python3"
    },
    "language_info": {
      "codemirror_mode": {
        "name": "ipython",
        "version": 3
      },
      "file_extension": ".py",
      "mimetype": "text/x-python",
      "name": "python",
      "nbconvert_exporter": "python",
      "pygments_lexer": "ipython3",
      "version": "3.9.0"
    },
    "vscode": {
      "interpreter": {
        "hash": "ad2bdc8ecc057115af97d19610ffacc2b4e99fae6737bb82f5d7fb13d2f2c186"
      }
    },
    "colab": {
      "provenance": []
    }
  },
  "nbformat": 4,
  "nbformat_minor": 5
}